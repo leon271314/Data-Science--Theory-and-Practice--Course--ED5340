{
 "cells": [
  {
   "cell_type": "code",
   "execution_count": 2,
   "metadata": {},
   "outputs": [
    {
     "name": "stdout",
     "output_type": "stream",
     "text": [
      "[0, 1, 2, 3, 4, 5, 6, 7, 8, 9]\n",
      "[5, 6, 7, 8, 9, 10, 11, 12, 13, 14]\n",
      "[-9, -7, -5, -3, -1]\n",
      "[]\n"
     ]
    }
   ],
   "source": [
    "print(list(range(10)))\n",
    "print(list(range(5,15)))\n",
    "print(list(range(-9,0,2)))\n",
    "print(list(range(-9,0,-2)))"
   ]
  },
  {
   "attachments": {},
   "cell_type": "markdown",
   "metadata": {},
   "source": [
    "Range generates numbers from initial value to final value -1\n",
    "The 3rd parameter tells the speed of incremenet\n",
    "So when you do from -9 to 0 with an increment of -2, it is starting from -9 and reduce by 2 going out of range"
   ]
  },
  {
   "attachments": {},
   "cell_type": "markdown",
   "metadata": {},
   "source": [
    "# Containers"
   ]
  },
  {
   "attachments": {},
   "cell_type": "markdown",
   "metadata": {},
   "source": [
    "Check out STL-Standard Template Library <br />\n",
    "Self Referential Structure- Pointer inside the member refers to same type as what the structure is.\n"
   ]
  },
  {
   "attachments": {},
   "cell_type": "markdown",
   "metadata": {},
   "source": [
    "# List, Tuples, Sets and Dictionaries\n",
    "\n",
    "\n",
    "## List\n",
    "\n",
    "List can hold multiple data types within itself\n",
    "\n",
    "It is similar to a structure in that way<br />\n",
    "\n",
    "It is represented by []<br />\n",
    "\n",
    "Empty list-[] : nothing inside it<br />\n",
    "\n",
    "Can be indexed and sliced <br />\n",
    "\n",
    "List is an iterable <br />\n",
    "\n",
    "List of lists can also be formed- Nested List. Infinite Nesting possible"
   ]
  },
  {
   "cell_type": "code",
   "execution_count": 10,
   "metadata": {},
   "outputs": [
    {
     "name": "stdout",
     "output_type": "stream",
     "text": [
      "hi\n",
      "[1.5, 'hi', [2, 3]]\n",
      "0\n",
      "1.5\n",
      "hi\n",
      "[2, 3]\n",
      "{'name': 'hi'}\n",
      "Hello\n",
      "3.1415\n"
     ]
    }
   ],
   "source": [
    "a=[1,1.5,'hi',[2,3],{'name':'hi'}]#has nesting also\n",
    "#print(a)\n",
    "print(a[2])#indexing\n",
    "print(a[1:4])#slicing\n",
    "a[0]=0#mutability\n",
    "a+=[\"Hello\"]#concatenation\n",
    "a.append(3.1415)\n",
    "for i in a:\n",
    "    print(i)"
   ]
  },
  {
   "attachments": {},
   "cell_type": "markdown",
   "metadata": {},
   "source": [
    "Lists are mutable<br />\n",
    "They can be concatenated<br />\n",
    "searching and sorting is present<br />\n",
    "deletion-using index and range<br />\n",
    "conversion-str to list,max,min,sum<br />\n",
    "<br />\n",
    "Since sort()-is an inbuilt function. not member function<br />\n",
    "Shallow and deep copy, difference<br />\n",
    "list comparison<br />\n"
   ]
  },
  {
   "cell_type": "code",
   "execution_count": 13,
   "metadata": {},
   "outputs": [
    {
     "name": "stdout",
     "output_type": "stream",
     "text": [
      "['o', 'a', 'e', 'i'] ['a', 'e', 'i', 'o']\n",
      "['a', 'e', 'i', 'o']\n"
     ]
    }
   ],
   "source": [
    "a[:]=[]#deleting the elements\n",
    "# we can also delete using del-index,remove-based on value,pop-index\n",
    "vow_lst=['o','a','e','i']\n",
    "vow_s_lst=sorted(vow_lst)#inbuilt function, returns sorted list, doesnt change the original\n",
    "print(vow_lst,vow_s_lst)\n",
    "vow_lst.sort()#member function changes original value\n",
    "print(vow_lst)"
   ]
  },
  {
   "cell_type": "code",
   "execution_count": 15,
   "metadata": {},
   "outputs": [
    {
     "name": "stdout",
     "output_type": "stream",
     "text": [
      "True\n"
     ]
    }
   ],
   "source": [
    "lst=[]\n",
    "if not lst:\n",
    "    print(not lst)"
   ]
  },
  {
   "attachments": {},
   "cell_type": "markdown",
   "metadata": {},
   "source": [
    "Empty list is considered as false"
   ]
  },
  {
   "attachments": {},
   "cell_type": "markdown",
   "metadata": {},
   "source": [
    "## HW\n",
    "Find out inbuilt function we can use on container class list"
   ]
  },
  {
   "attachments": {},
   "cell_type": "markdown",
   "metadata": {},
   "source": [
    "append <br />\n",
    "remove <br />\n",
    "pop <br />\n",
    "insert <br />\n",
    "reverse <br />\n",
    "sort <br />\n",
    "count <br />\n",
    "index <br />"
   ]
  },
  {
   "cell_type": "code",
   "execution_count": 17,
   "metadata": {},
   "outputs": [
    {
     "name": "stdout",
     "output_type": "stream",
     "text": [
      "[3, 4, 6, 7, 5]\n",
      "[3, 4, 6, 7]\n",
      "[3, 4, 6]\n",
      "[3, 4, 6, 5, 6, 7, 8]\n",
      "[3, 4, 10, 5, 6, 7, 8]\n",
      "[8, 7, 6, 5, 10, 4, 3]\n",
      "[3, 4, 5, 6, 7, 8, 10]\n",
      "1\n",
      "2\n"
     ]
    }
   ],
   "source": [
    "a=[3,4,6,7]\n",
    "a.append(5)\n",
    "print(a)\n",
    "a.remove(5)\n",
    "print(a)\n",
    "a.pop()\n",
    "print(a)\n",
    "a+=[5,6,7,8]\n",
    "print(a)\n",
    "a.pop(2)#removes based on index\n",
    "a.insert(2,10)\n",
    "print(a)\n",
    "a.reverse()\n",
    "print(a)\n",
    "a.sort()\n",
    "print(a)\n",
    "print(a.count(6))\n",
    "print(a.index(5))\n"
   ]
  },
  {
   "attachments": {},
   "cell_type": "markdown",
   "metadata": {},
   "source": [
    "List.sort() wouldnt sort different datatypes- List is supposed to be for one data types but has a feature supporting multiple data types\n",
    "Member functions have no return values, so we generally get none when we print (list.member_fn())"
   ]
  },
  {
   "attachments": {},
   "cell_type": "markdown",
   "metadata": {},
   "source": [
    "# CW1"
   ]
  },
  {
   "cell_type": "code",
   "execution_count": 18,
   "metadata": {},
   "outputs": [
    {
     "name": "stdout",
     "output_type": "stream",
     "text": [
      "[5, 2, 3, 4]\n",
      "[5, 4, 3, 2]\n",
      "[5, 4, 3]\n",
      "[5, 4]\n",
      "[5]\n",
      "[]\n"
     ]
    }
   ],
   "source": [
    "lst1=[]\n",
    "lst1.append(5)\n",
    "lst1.append(2)\n",
    "lst1.append(3)\n",
    "lst1.append(4)\n",
    "\n",
    "print(lst1)\n",
    "\n",
    "lst1.sort(reverse=True)\n",
    "\n",
    "print(lst1)\n",
    "n=len(lst1)\n",
    "for i in range(0,n):\n",
    "    lst1.pop()\n",
    "    print(lst1)"
   ]
  },
  {
   "attachments": {},
   "cell_type": "markdown",
   "metadata": {},
   "source": [
    "# CW2"
   ]
  },
  {
   "cell_type": "code",
   "execution_count": 7,
   "metadata": {},
   "outputs": [
    {
     "name": "stdout",
     "output_type": "stream",
     "text": [
      "Occurence of 5 in [5, 6, 4, 3, 6, 8, 9, 5, 7] is 2\n",
      "Occurence of 6 in [5, 6, 4, 3, 6, 8, 9, 5, 7] is 2\n",
      "Occurence of 4 in [5, 6, 4, 3, 6, 8, 9, 5, 7] is 1\n",
      "Occurence of 3 in [5, 6, 4, 3, 6, 8, 9, 5, 7] is 1\n",
      "Occurence of 8 in [5, 6, 4, 3, 6, 8, 9, 5, 7] is 1\n",
      "Occurence of 9 in [5, 6, 4, 3, 6, 8, 9, 5, 7] is 1\n",
      "Occurence of 7 in [5, 6, 4, 3, 6, 8, 9, 5, 7] is 1\n"
     ]
    }
   ],
   "source": [
    "a=[5,6,4,3,6,8,9,5,7]\n",
    "b=[]\n",
    "for i in a:\n",
    "    if i not in b:\n",
    "        b+=[i]\n",
    "        print(f\"Occurence of {i} in {a} is {a.count(i)}\")"
   ]
  }
 ],
 "metadata": {
  "kernelspec": {
   "display_name": "base",
   "language": "python",
   "name": "python3"
  },
  "language_info": {
   "codemirror_mode": {
    "name": "ipython",
    "version": 3
   },
   "file_extension": ".py",
   "mimetype": "text/x-python",
   "name": "python",
   "nbconvert_exporter": "python",
   "pygments_lexer": "ipython3",
   "version": "3.9.13 (main, Aug 25 2022, 23:26:10) \n[GCC 11.2.0]"
  },
  "orig_nbformat": 4,
  "vscode": {
   "interpreter": {
    "hash": "0d3c8ece6846b0ad1fa14cd01ee24c63d982f4edcafb45f0cba89a6c49799d5f"
   }
  }
 },
 "nbformat": 4,
 "nbformat_minor": 2
}
