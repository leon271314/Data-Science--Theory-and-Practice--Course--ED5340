{
 "cells": [
  {
   "attachments": {},
   "cell_type": "markdown",
   "metadata": {},
   "source": [
    "# List Comprehension\n",
    "We can declare nested lists and they need not even be of the same order. First can be of 5 elements and 2nd could be of 4 elements. It can act as a multi dimensional array but need not be same sizes"
   ]
  },
  {
   "cell_type": "code",
   "execution_count": 1,
   "metadata": {},
   "outputs": [
    {
     "name": "stdout",
     "output_type": "stream",
     "text": [
      "[[1, 2, 3, 4], [5, 6, 7, 8, 9]]\n"
     ]
    }
   ],
   "source": [
    "arr1=[1,2,3,4]\n",
    "arr2=[5,6,7,8,9]\n",
    "c=[arr1,arr2]\n",
    "print(c)"
   ]
  },
  {
   "attachments": {},
   "cell_type": "markdown",
   "metadata": {},
   "source": [
    "Embedded List- List is declared inside another list\n",
    "Unpacked List- List is unpacked inside another list"
   ]
  },
  {
   "cell_type": "code",
   "execution_count": 3,
   "metadata": {},
   "outputs": [
    {
     "name": "stdout",
     "output_type": "stream",
     "text": [
      "Embedded List [10, 11, [1, 2, 3, 4], 13] <class 'list'>\n",
      "Unpacked List [10, 11, 1, 2, 3, 4, 13] <class 'list'>\n"
     ]
    }
   ],
   "source": [
    "arr3=[10,11,arr1,13]\n",
    "print(\"Embedded List\",arr3,type(arr3))\n",
    "\n",
    "arr4=[10,11,*arr1,13]\n",
    "print(\"Unpacked List\",arr4,type(arr4))"
   ]
  },
  {
   "attachments": {},
   "cell_type": "markdown",
   "metadata": {},
   "source": [
    "We get individual elements of s in the list"
   ]
  },
  {
   "cell_type": "code",
   "execution_count": 4,
   "metadata": {},
   "outputs": [
    {
     "name": "stdout",
     "output_type": "stream",
     "text": [
      "['r', 'a', 'm', 'a', 'n']\n"
     ]
    }
   ],
   "source": [
    "s=\"raman\"\n",
    "l=[*s]\n",
    "print(l)"
   ]
  },
  {
   "attachments": {},
   "cell_type": "markdown",
   "metadata": {},
   "source": [
    "# List Comprehension\n",
    "\n",
    "## syntax\n",
    "\n",
    "lst=[ expression for var in sequence [optional for/if ] ] <br />\n",
    "\n",
    "It is a replacement for appending elements onto a list<br />\n",
    "\n",
    "Replacement for <br /><br />\n",
    "\n",
    "for i in range(range):<br />\n",
    "    lst.append(element)\n"
   ]
  },
  {
   "cell_type": "code",
   "execution_count": 8,
   "metadata": {},
   "outputs": [
    {
     "name": "stdout",
     "output_type": "stream",
     "text": [
      "['H', 'E', 'L', 'L', 'O']\n"
     ]
    }
   ],
   "source": [
    "a=[var for var in \"HELLO\"]\n",
    "print(a)"
   ]
  },
  {
   "cell_type": "code",
   "execution_count": 18,
   "metadata": {},
   "outputs": [
    {
     "name": "stdout",
     "output_type": "stream",
     "text": [
      "[98, 32, 33, 34, 11, 97, 53, 75, 76, 66]\n"
     ]
    }
   ],
   "source": [
    "import random\n",
    "b=[var for var in random.sample(range(0,100),10)]\n",
    "print(b)"
   ]
  },
  {
   "attachments": {},
   "cell_type": "markdown",
   "metadata": {},
   "source": [
    "We can also do nested list, if else statements"
   ]
  },
  {
   "cell_type": "code",
   "execution_count": 25,
   "metadata": {},
   "outputs": [
    {
     "name": "stdout",
     "output_type": "stream",
     "text": [
      "[[], [0, 1], [0, 1, 2, 3], [0, 1, 2, 3, 4, 5], [0, 1, 2, 3, 4, 5, 6, 7]]\n",
      "[[74, 34, 69], [65, 18, 31], [3, 92, 98]]\n"
     ]
    }
   ],
   "source": [
    "c=[[var1 for var1 in range(var)] for var in range(10) if var%2==0 ]\n",
    "print(c)\n",
    "\n",
    "ranges=random.randint(0,10)\n",
    "d=[[var1 for var1 in random.sample(range(0,100),ranges)] for var in range(ranges)]\n",
    "print(d)"
   ]
  },
  {
   "cell_type": "code",
   "execution_count": 27,
   "metadata": {},
   "outputs": [
    {
     "name": "stdout",
     "output_type": "stream",
     "text": [
      "[0, 0, 2, 0, 4, 0, 6, 0, 8, 0]\n"
     ]
    }
   ],
   "source": [
    "#Using else\n",
    "e=[var if var%2==0 else 0 for var in range(10)]\n",
    "print(e)"
   ]
  },
  {
   "attachments": {},
   "cell_type": "markdown",
   "metadata": {},
   "source": [
    "Is python a continuous memory allocated language-No\n",
    "## HW: Then what is it? How does it allocate memory for a list\n"
   ]
  },
  {
   "cell_type": "code",
   "execution_count": 2,
   "metadata": {},
   "outputs": [
    {
     "name": "stdout",
     "output_type": "stream",
     "text": [
      "[1, 2, 3, 4]\n",
      "1\n",
      "2\n",
      "3\n",
      "4\n",
      "[5, 6, 7, 8]\n",
      "5\n",
      "6\n",
      "7\n",
      "8\n",
      "[9, 10, 11, 12]\n",
      "9\n",
      "10\n",
      "11\n",
      "12\n"
     ]
    }
   ],
   "source": [
    "arr=[[1,2,3,4],[5,6,7,8],[9,10,11,12]]\n",
    "for ele in arr:\n",
    "    print(ele)\n",
    "    for num in ele:\n",
    "        print(num)"
   ]
  },
  {
   "cell_type": "code",
   "execution_count": 3,
   "metadata": {},
   "outputs": [
    {
     "name": "stdout",
     "output_type": "stream",
     "text": [
      "[1, 2, 3, 4, 5, 6, 7, 8, 9, 10, 11, 12]\n"
     ]
    }
   ],
   "source": [
    "lst=[num for ele in arr for num in ele ]\n",
    "print(lst)"
   ]
  },
  {
   "cell_type": "code",
   "execution_count": 6,
   "metadata": {},
   "outputs": [
    {
     "name": "stdout",
     "output_type": "stream",
     "text": [
      "[[1, 2, 3, 4], [5, 6, 7, 8], [9, 10, 11, 12]]\n"
     ]
    }
   ],
   "source": [
    "lst2=[[num for num in ele] for ele in arr ]\n",
    "print(lst2)"
   ]
  },
  {
   "cell_type": "code",
   "execution_count": 4,
   "metadata": {},
   "outputs": [
    {
     "name": "stdout",
     "output_type": "stream",
     "text": [
      "[[1, 2, 3, 4], [5, 6, 7, 8], [9, 10, 11, 12]]\n"
     ]
    }
   ],
   "source": [
    "lst1=[[i for i in range(n*4+1,(n+1)*4+1)] for n in range(3)]\n",
    "print(lst1)"
   ]
  }
 ],
 "metadata": {
  "kernelspec": {
   "display_name": "base",
   "language": "python",
   "name": "python3"
  },
  "language_info": {
   "codemirror_mode": {
    "name": "ipython",
    "version": 3
   },
   "file_extension": ".py",
   "mimetype": "text/x-python",
   "name": "python",
   "nbconvert_exporter": "python",
   "pygments_lexer": "ipython3",
   "version": "3.9.13 (main, Aug 25 2022, 23:26:10) \n[GCC 11.2.0]"
  },
  "orig_nbformat": 4,
  "vscode": {
   "interpreter": {
    "hash": "0d3c8ece6846b0ad1fa14cd01ee24c63d982f4edcafb45f0cba89a6c49799d5f"
   }
  }
 },
 "nbformat": 4,
 "nbformat_minor": 2
}
