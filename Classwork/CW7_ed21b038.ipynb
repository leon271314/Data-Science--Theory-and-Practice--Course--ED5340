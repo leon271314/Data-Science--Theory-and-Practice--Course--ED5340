{
 "cells": [
  {
   "attachments": {},
   "cell_type": "markdown",
   "metadata": {},
   "source": [
    "### **Difference between Structures and Classes**\n",
    "We use structures to define a new data type but classes can do more than that. It can call functions too.\n",
    "\n",
    "- Classes contains data and methods that can access or manipulate this data\n",
    "- Data is typically accessed through methods(data protection)\n",
    "- Methods are accessed through 'object' initition\n"
   ]
  },
  {
   "attachments": {},
   "cell_type": "markdown",
   "metadata": {},
   "source": [
    "We name classes with camelcase<br/>\n",
    "Camel case (sometimes stylized as camelCase or CamelCase, also known as camel caps or more formally as medial capitals) is the practice of writing phrases without spaces or punctuation. The format indicates the separation of words with a single capitalized letter, and the first word starting with either case."
   ]
  },
  {
   "attachments": {},
   "cell_type": "markdown",
   "metadata": {},
   "source": [
    "```python\n",
    "class StudentDetail:#Always have name fora  class\n",
    "    def datainput(self,n,r,s):#function,name,parameter of the functions\n",
    "        self.name=n\n",
    "        self.roll=r\n",
    "        self.sem=s\n",
    "    def printout(self):\n",
    "        print(self.name,self.roll,self.sem)\n",
    "s1=StudentDetail()\n",
    "s1.datainput(\"Ram\",12,3)\n",
    "s1.printout()\n",
    "```\n",
    "It always starts with `self(any other word also works but has to be the first word)`. It is used as a parameter when defining any functoin. It captures the object instantation and assigns variables and functions to the object.\n",
    "<br/> \n",
    "<br/>\n",
    "This data can't be accessed outside the class.\n",
    "<br/><br/>\n",
    "To access this data outside the class, we need an object"
   ]
  },
  {
   "cell_type": "code",
   "execution_count": 12,
   "metadata": {},
   "outputs": [
    {
     "name": "stdout",
     "output_type": "stream",
     "text": [
      "<class '__main__.StudentDetail'>\n",
      "Ram 12 3\n"
     ]
    }
   ],
   "source": [
    "class StudentDetail:#Always have name fora  class\n",
    "    def datainput(self,n,r,s):#function,name,parameter of the functions\n",
    "        self.name=n\n",
    "        self.roll=r\n",
    "        self.sem=s\n",
    "    def printout(self):\n",
    "        print(self.name,self.roll,self.sem)\n",
    "s1=StudentDetail()#name of the class\n",
    "print(type(s1))\n",
    "s1.datainput(\"Ram\",12,3)#calling the object datainput and initiating it values\n",
    "s1.printout()#calling the object printout to print it out\n"
   ]
  },
  {
   "attachments": {},
   "cell_type": "markdown",
   "metadata": {},
   "source": [
    "## **Class Constructor**\n",
    "\n",
    "```python\n",
    "class StudentDetail:#Always have name fora  class\n",
    "    def __init__(self,n=\"Hello\",r=1,s=1):\n",
    "        self.name=n\n",
    "        self.roll=r\n",
    "        self.sem=s\n",
    "    def printout(self):\n",
    "        print(self.name,self.roll,self.sem)\n",
    "s1=StudentDetail(\"Ram\",12,3)#name of the class\n",
    "\n",
    "s1.printout()#calling the object printout to print it out\n",
    "```\n",
    "\n",
    "There is a double underscore(`__`) in its functions. It is called `dunderscore`. It is a way to refer to the class within itself.\n",
    "\n",
    "Also we just call upon the class name with the arguements to get the initiation done"
   ]
  },
  {
   "cell_type": "code",
   "execution_count": 17,
   "metadata": {},
   "outputs": [
    {
     "name": "stdout",
     "output_type": "stream",
     "text": [
      "Ram 12 3 ED\n",
      "Ram\n"
     ]
    }
   ],
   "source": [
    "class StudentDetail:#Always have name fora  class\n",
    "    def __init__(self,n=\"Hello\",r=1,s=1):\n",
    "        self.name=n\n",
    "        self.roll=r\n",
    "        self.sem=s\n",
    "    def printout(self):\n",
    "        print(self.name,self.roll,self.sem,self.branch)\n",
    "\n",
    "s1=StudentDetail(\"Ram\",12,3)#object instantitaiton\n",
    "#s1.printout()- If called before definition, it doesn't work\n",
    "s1.branch=\"ED\"\n",
    "s1.printout()#calling the object printout to print it out\n",
    "print(s1.name)#Shouldn't work as it is for data protection but it works"
   ]
  },
  {
   "attachments": {},
   "cell_type": "markdown",
   "metadata": {},
   "source": [
    "We can call an arguement outside and then print it out and use it inside if the ordering is done properly"
   ]
  },
  {
   "cell_type": "code",
   "execution_count": 20,
   "metadata": {},
   "outputs": [
    {
     "name": "stdout",
     "output_type": "stream",
     "text": [
      "Adi 1 4 ED\n"
     ]
    }
   ],
   "source": [
    "s2=StudentDetail(\"Adi\",s=4)\n",
    "s2.branch=\"ED\"\n",
    "s2.printout()"
   ]
  },
  {
   "cell_type": "code",
   "execution_count": 26,
   "metadata": {},
   "outputs": [
    {
     "name": "stdout",
     "output_type": "stream",
     "text": [
      "Ram 12 3\n",
      "Ram\n"
     ]
    }
   ],
   "source": [
    "class StudentDet:#Always have name fora  class\n",
    "    def __init__(self,n=\"Hello\",r=1,s=1):\n",
    "        self._name=n\n",
    "        self._roll=r\n",
    "        self._sem=s\n",
    "    def printout(self):\n",
    "        print(self._name,self._roll,self._sem)\n",
    "\n",
    "s3=StudentDet(\"Ram\",12,3)#object instantitaiton\n",
    "#s1.printout()- If called before definition, it doesn't work\n",
    "#s1.branch=\"ED\"\n",
    "s3.printout()#calling the object printout to print it out\n",
    "print(s3._name)#Shouldn't work as it is for data protection but it works"
   ]
  },
  {
   "attachments": {},
   "cell_type": "markdown",
   "metadata": {},
   "source": [
    "Here the `self._name`- **Notionally Private**<br/>\n",
    "We just notify the programmer with a _name saying don't change it.\n",
    "<br/>\n",
    "It is a human convention, not a computer convention. So we can access it outside the class even though we aren't supposed to"
   ]
  },
  {
   "attachments": {},
   "cell_type": "markdown",
   "metadata": {},
   "source": [
    "### **`Does dunderscore work???`**\n",
    "**`Strictly Private`**"
   ]
  },
  {
   "cell_type": "code",
   "execution_count": 34,
   "metadata": {},
   "outputs": [
    {
     "name": "stdout",
     "output_type": "stream",
     "text": [
      "Ram 12 3\n"
     ]
    },
    {
     "ename": "AttributeError",
     "evalue": "'StudentDet' object has no attribute '__name'",
     "output_type": "error",
     "traceback": [
      "\u001b[0;31m---------------------------------------------------------------------------\u001b[0m",
      "\u001b[0;31mAttributeError\u001b[0m                            Traceback (most recent call last)",
      "Cell \u001b[0;32mIn[34], line 14\u001b[0m\n\u001b[1;32m     12\u001b[0m s4\u001b[39m.\u001b[39m__name\u001b[39m=\u001b[39m\u001b[39m\"\u001b[39m\u001b[39mAdi\u001b[39m\u001b[39m\"\u001b[39m\n\u001b[1;32m     13\u001b[0m s4\u001b[39m.\u001b[39mprintout()\u001b[39m#calling the object printout to print it out\u001b[39;00m\n\u001b[0;32m---> 14\u001b[0m \u001b[39mprint\u001b[39m(s3\u001b[39m.\u001b[39;49m__name)\u001b[39m#Shouldn't work as it is for data protection but it works\u001b[39;00m\n",
      "\u001b[0;31mAttributeError\u001b[0m: 'StudentDet' object has no attribute '__name'"
     ]
    }
   ],
   "source": [
    "class StudentDetails:#Always have name fora  class\n",
    "    def __init__(self,n=\"Hello\",r=1,s=1):\n",
    "        self.__name=n\n",
    "        self.__roll=r\n",
    "        self.__sem=s\n",
    "    def printout(self):\n",
    "        print(self.__name,self.__roll,self.__sem)\n",
    "\n",
    "s4=StudentDet(\"Ram\",12,3)#object instantitaiton\n",
    "#s1.printout()- If called before definition, it doesn't work\n",
    "#s1.branch=\"ED\"\n",
    "s4.__name=\"Adi\"\n",
    "s4.printout()#calling the object printout to print it out\n",
    "print(s3.__name)#Shouldn't work as it is for data protection but it works"
   ]
  },
  {
   "attachments": {},
   "cell_type": "markdown",
   "metadata": {},
   "source": [
    "**Now we can't access it from the outside!!!**\n",
    "**And we can't change it from the outside**"
   ]
  },
  {
   "cell_type": "code",
   "execution_count": 39,
   "metadata": {},
   "outputs": [
    {
     "name": "stdout",
     "output_type": "stream",
     "text": [
      "10+j20\n"
     ]
    }
   ],
   "source": [
    "#Write a complex class with capital C\n",
    "class Complex:\n",
    "    def __init__(self,real,imag):\n",
    "        self.real=real\n",
    "        self.imag=imag\n",
    "    def print_comp(self):\n",
    "        print(f\"{self.real}+j{self.imag}\")\n",
    "c1=Complex(10,20)\n",
    "c1.print_comp()\n"
   ]
  },
  {
   "cell_type": "code",
   "execution_count": null,
   "metadata": {},
   "outputs": [],
   "source": []
  }
 ],
 "metadata": {
  "kernelspec": {
   "display_name": "Python 3",
   "language": "python",
   "name": "python3"
  },
  "language_info": {
   "codemirror_mode": {
    "name": "ipython",
    "version": 3
   },
   "file_extension": ".py",
   "mimetype": "text/x-python",
   "name": "python",
   "nbconvert_exporter": "python",
   "pygments_lexer": "ipython3",
   "version": "3.11.1"
  },
  "orig_nbformat": 4,
  "vscode": {
   "interpreter": {
    "hash": "aee8b7b246df8f9039afb4144a1f6fd8d2ca17a180786b69acc140d282b71a49"
   }
  }
 },
 "nbformat": 4,
 "nbformat_minor": 2
}
