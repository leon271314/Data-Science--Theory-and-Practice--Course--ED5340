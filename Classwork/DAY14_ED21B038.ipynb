{
 "cells": [
  {
   "attachments": {},
   "cell_type": "markdown",
   "metadata": {},
   "source": [
    "Derived Class and Base CLass\n",
    "\n",
    "`What is declared in base class can be used in derived class but reverse isn't allowed.`\n",
    "`Everything in baseclass is accesible in the derived class`"
   ]
  },
  {
   "cell_type": "code",
   "execution_count": 7,
   "metadata": {},
   "outputs": [
    {
     "name": "stdout",
     "output_type": "stream",
     "text": [
      "derived class\n",
      "\n",
      "R\n",
      "50\n",
      "R\n",
      "Hello\n"
     ]
    },
    {
     "ename": "TypeError",
     "evalue": "Derived.__init__() takes 3 positional arguments but 4 were given",
     "output_type": "error",
     "traceback": [
      "\u001b[0;31m---------------------------------------------------------------------------\u001b[0m",
      "\u001b[0;31mTypeError\u001b[0m                                 Traceback (most recent call last)",
      "Cell \u001b[0;32mIn[7], line 23\u001b[0m\n\u001b[1;32m     20\u001b[0m d2\u001b[39m=\u001b[39mBase(\u001b[39m\"\u001b[39m\u001b[39mHello\u001b[39m\u001b[39m\"\u001b[39m)\n\u001b[1;32m     21\u001b[0m d2\u001b[39m.\u001b[39mprintbase()\n\u001b[0;32m---> 23\u001b[0m d3\u001b[39m=\u001b[39mDerived(\u001b[39m\"\u001b[39;49m\u001b[39madi\u001b[39;49m\u001b[39m\"\u001b[39;49m,\u001b[39m2\u001b[39;49m,\u001b[39m\"\u001b[39;49m\u001b[39mxyz\u001b[39;49m\u001b[39m\"\u001b[39;49m)\n\u001b[1;32m     24\u001b[0m \u001b[39m#d2.printderived - error\u001b[39;00m\n",
      "\u001b[0;31mTypeError\u001b[0m: Derived.__init__() takes 3 positional arguments but 4 were given"
     ]
    }
   ],
   "source": [
    "class Base:\n",
    "    def __init__(self,name):\n",
    "        self.name=name\n",
    "    def printbase(self):\n",
    "        print(self.name)\n",
    "class Derived(Base):\n",
    "    def __init__(self,roll,name):\n",
    "        self.roll=roll\n",
    "        print(\"derived class\\n\")\n",
    "        super().__init__(name)#We use derived class to access baseclass to get assignment.\n",
    "        #Calls the constructor of the parent class\n",
    "        \n",
    "    def printderived(self):\n",
    "        print(self.roll)\n",
    "        print(self.name)\n",
    "d1=Derived(50,\"R\")\n",
    "d1.printbase()\n",
    "d1.printderived()\n",
    "\n",
    "d2=Base(\"Hello\")\n",
    "d2.printbase()\n",
    "\n",
    "#d3=Derived(\"adi\",2,\"xyz\")\n",
    "#d2.printderived - error\n"
   ]
  },
  {
   "cell_type": "code",
   "execution_count": 19,
   "metadata": {},
   "outputs": [
    {
     "name": "stdout",
     "output_type": "stream",
     "text": [
      "derived class\n",
      "\n",
      "newname\n",
      "1234\n",
      "\n",
      "newname\n",
      "100\n",
      "\n",
      "2345\n",
      "shyam\n",
      "\n",
      "20\n",
      "\n",
      "newname\n",
      "1234\n",
      "\n",
      "newname\n",
      "100\n",
      "\n",
      "2345\n",
      "shyam\n"
     ]
    }
   ],
   "source": [
    "class Base:\n",
    "    def __init__(self,name,roll):\n",
    "        self.name=name\n",
    "        self.__roll=roll\n",
    "    def printbase(self):\n",
    "        print(self.name)\n",
    "        print(self.__roll)\n",
    "class Derived(Base):\n",
    "    def __init__(self,name,roll,name1,roll1):\n",
    "        super().__init__(name,roll)\n",
    "        self.name1=name1\n",
    "        self.__roll1=roll1\n",
    "        print(\"derived class\\n\")\n",
    "        #We use derived class to access baseclass to get assignment.\n",
    "        #Calls the constructor of the parent class\n",
    "\n",
    "        self.name=\"newname\"#This changes it in the base class as it belongs there\n",
    "        self.__roll=100#This can't change it in the base class so it creates a new instance here with a different value\n",
    "    \n",
    "    def samename(self):\n",
    "        print(\"Inside same name of derived\")\n",
    "    def printderived(self):\n",
    "        super().printbase()\n",
    "        print()\n",
    "        print(self.name)\n",
    "        print(self.__roll)\n",
    "        print()\n",
    "        print(self.__roll1)\n",
    "        print(self.name1)\n",
    "d5=Derived(\"Ram\",1234,\"shyam\",2345)\n",
    "d5.printderived()\n",
    "print()\n",
    "d5.__roll1=20\n",
    "print(d5.__roll1)\n",
    "# a new variable is created cause it doesn't think the original strictly private instance exists. So a new variable is created which can be accessed from the outside but not from the inside\n",
    "\n",
    "print()\n",
    "d5.printderived()"
   ]
  },
  {
   "attachments": {},
   "cell_type": "markdown",
   "metadata": {},
   "source": [
    "`Base class doesn't change when you give the input but the derived class gets initialized with different values`\n",
    "\n",
    "`So name belongs to base class but roll belongs to derived class`"
   ]
  },
  {
   "attachments": {},
   "cell_type": "markdown",
   "metadata": {},
   "source": [
    "```There's 2 kinds of inheritance\n",
    "\n",
    "- Multi-level inheritance - Derived1(Base),Derived2(Base)\n",
    "- Mulitple inheritance - Derived1(Base1,Base2)\n",
    "```"
   ]
  },
  {
   "attachments": {},
   "cell_type": "markdown",
   "metadata": {},
   "source": [
    "- Multilevel inheritance is deriving from derived classes too.\n",
    "<br/>\n",
    "`Base->Derived1->Derived2`\n",
    "\n",
    "- Multiple inheritance is deriving from multiple classes.\n",
    "<br/>\n",
    "`Base1 and Base2->Derived1`\n"
   ]
  },
  {
   "cell_type": "code",
   "execution_count": 35,
   "metadata": {},
   "outputs": [
    {
     "name": "stdout",
     "output_type": "stream",
     "text": [
      "xyz\n",
      "1\n",
      "abc\n",
      "2\n",
      "\n",
      "abc xyz\n"
     ]
    }
   ],
   "source": [
    "class Base1:\n",
    "    def __init__(self,name,roll):\n",
    "        self.name1=name\n",
    "        self.__roll1=roll\n",
    "    def printbase(self):\n",
    "        print(self.name1)\n",
    "        print(self.__roll1)\n",
    "class Base2:\n",
    "    def __init__(self,name,roll):\n",
    "        self.name2=name\n",
    "        self.__roll2=roll\n",
    "    def printbase(self):\n",
    "        print(self.name2)\n",
    "        print(self.__roll2)\n",
    "\n",
    "class Derived(Base1,Base2):\n",
    "    def __init__(self,name,roll,name1,roll1):\n",
    "        Base1.__init__(self,name,roll)\n",
    "        Base2.__init__(self,name1,roll1)\n",
    "    def printderived(self):\n",
    "        Base1.printbase(self)\n",
    "        Base2.printbase(self)\n",
    "\n",
    "        print()\n",
    "        print(self.name2,self.name1)#Private wont work but public ones work as it won't derive private from the bases\n",
    "c1=Derived(\"xyz\",1,\"abc\",2)\n",
    "c1.printderived()\n",
    "\n"
   ]
  },
  {
   "attachments": {},
   "cell_type": "markdown",
   "metadata": {},
   "source": [
    "**`Multi-Level`**\n",
    "```mermaid\n",
    "graph TD;\n",
    "    Base-->Derived1;\n",
    "    Derived1-->Derived2;\n",
    "```\n",
    "**`Multiple`**\n",
    "```mermaid\n",
    "graph TD;\n",
    "    Base1-->Derived;\n",
    "    Base2-->Derived;\n",
    "```"
   ]
  },
  {
   "cell_type": "code",
   "execution_count": null,
   "metadata": {},
   "outputs": [],
   "source": []
  }
 ],
 "metadata": {
  "kernelspec": {
   "display_name": "Python 3",
   "language": "python",
   "name": "python3"
  },
  "language_info": {
   "codemirror_mode": {
    "name": "ipython",
    "version": 3
   },
   "file_extension": ".py",
   "mimetype": "text/x-python",
   "name": "python",
   "nbconvert_exporter": "python",
   "pygments_lexer": "ipython3",
   "version": "3.11.1"
  },
  "orig_nbformat": 4,
  "vscode": {
   "interpreter": {
    "hash": "aee8b7b246df8f9039afb4144a1f6fd8d2ca17a180786b69acc140d282b71a49"
   }
  }
 },
 "nbformat": 4,
 "nbformat_minor": 2
}
