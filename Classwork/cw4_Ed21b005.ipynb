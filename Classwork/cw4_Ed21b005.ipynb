{
 "cells": [
  {
   "cell_type": "code",
   "execution_count": 16,
   "metadata": {},
   "outputs": [
    {
     "name": "stdout",
     "output_type": "stream",
     "text": [
      "8\n",
      "2\n",
      "6\n",
      "32\n",
      "[2, 4, 5, 6, 7, 8]\n"
     ]
    }
   ],
   "source": [
    "a={2,5,6,7,8,4}\n",
    "print(max(a))\n",
    "print(min(a))\n",
    "print(len(a))\n",
    "print(sum(a))\n",
    "print(sorted(a))"
   ]
  },
  {
   "cell_type": "code",
   "execution_count": 17,
   "metadata": {},
   "outputs": [
    {
     "name": "stdout",
     "output_type": "stream",
     "text": [
      "{2, 4, 5, 6, 7, 8, 10}\n"
     ]
    }
   ],
   "source": [
    "a.add(10)\n",
    "print(a)"
   ]
  },
  {
   "cell_type": "code",
   "execution_count": 18,
   "metadata": {},
   "outputs": [],
   "source": [
    "a.remove(10)"
   ]
  },
  {
   "cell_type": "code",
   "execution_count": 19,
   "metadata": {},
   "outputs": [
    {
     "name": "stdout",
     "output_type": "stream",
     "text": [
      "{2, 4, 5, 6, 7, 8}\n"
     ]
    }
   ],
   "source": [
    "print(a)"
   ]
  },
  {
   "cell_type": "code",
   "execution_count": 20,
   "metadata": {},
   "outputs": [],
   "source": [
    "a.discard(5)"
   ]
  },
  {
   "cell_type": "code",
   "execution_count": 21,
   "metadata": {},
   "outputs": [
    {
     "name": "stdout",
     "output_type": "stream",
     "text": [
      "{2, 4, 6, 7, 8}\n"
     ]
    }
   ],
   "source": [
    "print(a)"
   ]
  },
  {
   "attachments": {},
   "cell_type": "markdown",
   "metadata": {},
   "source": [
    "add-Adds an element <br />remove-Removes an element <br />discard-Removes an element. What is the difference then?? <br />clear-Clears the whole set <br />"
   ]
  },
  {
   "cell_type": "code",
   "execution_count": 23,
   "metadata": {},
   "outputs": [
    {
     "name": "stdout",
     "output_type": "stream",
     "text": [
      "4389840352\n",
      "4389840416\n",
      "4389840480\n",
      "4389840512\n",
      "4389840544\n"
     ]
    }
   ],
   "source": [
    "for i in a:\n",
    "    print(id(i))"
   ]
  },
  {
   "cell_type": "code",
   "execution_count": 25,
   "metadata": {},
   "outputs": [
    {
     "name": "stdout",
     "output_type": "stream",
     "text": [
      "1\n",
      "2\n",
      "4\n",
      "6\n",
      "7\n",
      "8\n",
      "\n",
      "1\n",
      "2\n",
      "4\n",
      "6\n",
      "7\n",
      "8\n"
     ]
    }
   ],
   "source": [
    "a.add(1)\n",
    "for i in a:\n",
    "    print(i)\n",
    "print()\n",
    "a.add(1)\n",
    "for i in a:\n",
    "    print(i)"
   ]
  },
  {
   "attachments": {},
   "cell_type": "markdown",
   "metadata": {},
   "source": [
    "Add is just adding the same element to the set with same memory location"
   ]
  },
  {
   "cell_type": "code",
   "execution_count": 27,
   "metadata": {},
   "outputs": [
    {
     "name": "stdout",
     "output_type": "stream",
     "text": [
      "{1, 2, 4, 6, 7, 8, 9, 10}\n"
     ]
    }
   ],
   "source": [
    "b={8,9,10}\n",
    "a.update(b)\n",
    "print(a)\n",
    "#This is similar to a union"
   ]
  },
  {
   "attachments": {},
   "cell_type": "markdown",
   "metadata": {},
   "source": [
    "A-B is removing common elements of A and B from A\n",
    "<br />\n",
    "a.update(new_set) works very similar to union where it adds uncommon elements of another set into the set we have with us"
   ]
  },
  {
   "cell_type": "code",
   "execution_count": 33,
   "metadata": {},
   "outputs": [
    {
     "name": "stdout",
     "output_type": "stream",
     "text": [
      "{1, 2, 4, 6, 7, 8, 9, 10} {8, 9, 10}\n",
      "True\n",
      "False\n",
      "True\n",
      "False\n",
      "True\n"
     ]
    }
   ],
   "source": [
    "print(a,b)\n",
    "c={11,12,13}\n",
    "print(a.issuperset(b))\n",
    "print(a.issubset(b))\n",
    "print(b.issubset(a))\n",
    "print(a.isdisjoint(b))\n",
    "print(a.isdisjoint(c))"
   ]
  },
  {
   "attachments": {},
   "cell_type": "markdown",
   "metadata": {},
   "source": [
    "a.issubset(b) checks if a is a subset of b\n",
    "a.issuperset(b) checks if a is a superset of b\n",
    "a.isdisjoint(b) checks if there's any common elemnent betweeen the 2 and if there is none then we get back a true value"
   ]
  },
  {
   "cell_type": "code",
   "execution_count": 48,
   "metadata": {},
   "outputs": [
    {
     "name": "stdout",
     "output_type": "stream",
     "text": [
      "True\n",
      "False\n",
      "False\n",
      "False\n"
     ]
    }
   ],
   "source": [
    "print(a>b)\n",
    "print(a<b)\n",
    "print(a==b)\n",
    "d={6,7,8,9}\n",
    "print(c>d)"
   ]
  },
  {
   "attachments": {},
   "cell_type": "markdown",
   "metadata": {},
   "source": [
    "Not sure how c>d works cause same number of elements also gives a False case but randomly it gives a true, at the same time even if there's different number of elements, it gives false in >,<,=="
   ]
  },
  {
   "cell_type": "code",
   "execution_count": 49,
   "metadata": {},
   "outputs": [
    {
     "ename": "TypeError",
     "evalue": "unhashable type: 'set'",
     "output_type": "error",
     "traceback": [
      "\u001b[0;31m---------------------------------------------------------------------------\u001b[0m",
      "\u001b[0;31mTypeError\u001b[0m                                 Traceback (most recent call last)",
      "Cell \u001b[0;32mIn[49], line 1\u001b[0m\n\u001b[0;32m----> 1\u001b[0m a\u001b[39m=\u001b[39m{{\u001b[39m1\u001b[39m,\u001b[39m2\u001b[39m,\u001b[39m3\u001b[39m},{\u001b[39m2\u001b[39m,\u001b[39m3\u001b[39m,\u001b[39m4\u001b[39m}}\n\u001b[1;32m      2\u001b[0m \u001b[39mprint\u001b[39m(a)\n",
      "\u001b[0;31mTypeError\u001b[0m: unhashable type: 'set'"
     ]
    }
   ],
   "source": [
    "a={{1,2,3},{2,3,4}}\n",
    "print(a)"
   ]
  },
  {
   "cell_type": "code",
   "execution_count": 53,
   "metadata": {},
   "outputs": [
    {
     "name": "stdout",
     "output_type": "stream",
     "text": [
      "{0, 2, 4, 6, 8, 10, 12, 14, 16, 18, 20, 22, 24, 26, 28, 30, 32, 34, 36, 38, 40, 42, 44, 46, 48}\n",
      "{0, 2, 4, 6, 8, 10, 12, 14, 16, 18, 20, 22, 24, 26, 28, 30, 32, 34, 36, 38, 40, 42, 44, 46, 48}\n"
     ]
    }
   ],
   "source": [
    "a={i for i in range(0,50,2)}\n",
    "print(a)\n",
    "\n",
    "b=set()\n",
    "for i in range(0,50,2):\n",
    "    b.add(i)\n",
    "print(b)"
   ]
  },
  {
   "attachments": {},
   "cell_type": "markdown",
   "metadata": {},
   "source": [
    "## **Create a set consisting of squares of integers from 1 to 9 using set comprehension**"
   ]
  },
  {
   "cell_type": "code",
   "execution_count": 1,
   "metadata": {},
   "outputs": [
    {
     "name": "stdout",
     "output_type": "stream",
     "text": [
      "{1, 2, 3, 4, 5, 6, 7, 8, 9}\n"
     ]
    }
   ],
   "source": [
    "x={i for i in range(1,10)}\n",
    "print(x)"
   ]
  },
  {
   "cell_type": "code",
   "execution_count": 54,
   "metadata": {},
   "outputs": [
    {
     "name": "stdout",
     "output_type": "stream",
     "text": [
      "{8, 5, 6, 7}\n",
      "{4, 5, 6, 7}\n",
      "{4, 5, 6, 7, 8}\n",
      "{5, 6, 7}\n",
      "{8}\n",
      "{4}\n",
      "{4, 8}\n"
     ]
    }
   ],
   "source": [
    "a={5,6,7,8}\n",
    "b={4,5,6,7}\n",
    "\n",
    "c=a|b\n",
    "d=a&b\n",
    "e=a-b\n",
    "f=b-a\n",
    "g=a^b\n",
    "\n",
    "print(a,b,c,d,e,f,g,sep='\\n')"
   ]
  },
  {
   "attachments": {},
   "cell_type": "markdown",
   "metadata": {},
   "source": [
    "* |- union\n",
    "* &- intersection\n",
    "* '-'- difference\n",
    "* ^- union of A-B and B-A"
   ]
  },
  {
   "attachments": {},
   "cell_type": "markdown",
   "metadata": {},
   "source": [
    "* A|=B\n",
    "* A&=B\n",
    "* A-=B\n",
    "* B-=A\n",
    "* A^=B"
   ]
  },
  {
   "cell_type": "code",
   "execution_count": 57,
   "metadata": {},
   "outputs": [
    {
     "name": "stdout",
     "output_type": "stream",
     "text": [
      "{4, 5, 6, 7, 8}\n",
      "{4, 5, 6, 7}\n",
      "{8}\n"
     ]
    }
   ],
   "source": [
    "a|=b\n",
    "print(a)\n",
    "b&=a\n",
    "print(b)\n",
    "a-=b\n",
    "print(a)"
   ]
  },
  {
   "cell_type": "code",
   "execution_count": null,
   "metadata": {},
   "outputs": [],
   "source": []
  }
 ],
 "metadata": {
  "kernelspec": {
   "display_name": "Python 3",
   "language": "python",
   "name": "python3"
  },
  "language_info": {
   "codemirror_mode": {
    "name": "ipython",
    "version": 3
   },
   "file_extension": ".py",
   "mimetype": "text/x-python",
   "name": "python",
   "nbconvert_exporter": "python",
   "pygments_lexer": "ipython3",
   "version": "3.11.1"
  },
  "orig_nbformat": 4,
  "vscode": {
   "interpreter": {
    "hash": "aee8b7b246df8f9039afb4144a1f6fd8d2ca17a180786b69acc140d282b71a49"
   }
  }
 },
 "nbformat": 4,
 "nbformat_minor": 2
}
