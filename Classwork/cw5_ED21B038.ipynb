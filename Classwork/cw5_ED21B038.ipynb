{
 "cells": [
  {
   "attachments": {},
   "cell_type": "markdown",
   "metadata": {},
   "source": [
    "# Dictionary\n",
    "\n",
    "* Dictionary is like hash table\n",
    "* Collection of key-value pair\n",
    "* key:pair\n",
    "* Enclosed in {}-curly brackets\n",
    "* Indexed only by keys\n",
    "* Keys must be unique and immutable\n",
    "* Strings, tuples and integers/float can be used as keys\n",
    "* Different keys may have the same values"
   ]
  },
  {
   "cell_type": "code",
   "execution_count": 2,
   "metadata": {},
   "outputs": [
    {
     "name": "stdout",
     "output_type": "stream",
     "text": [
      "<class 'dict'>\n",
      "{10: 100, 20: 200, 'ED1': 'name1', 'ED2': 100}\n"
     ]
    }
   ],
   "source": [
    "dict_1={}\n",
    "print(type(dict_1))\n",
    "dict_1[10]=100\n",
    "dict_1[20]=200\n",
    "dict_1['ED1']='name1'\n",
    "dict_1['ED2']=100\n",
    "print(dict_1)\n"
   ]
  },
  {
   "attachments": {},
   "cell_type": "markdown",
   "metadata": {},
   "source": [
    "* Value can be obtained by using it's key.\n",
    "* We can also iterate through the dict"
   ]
  },
  {
   "cell_type": "code",
   "execution_count": 3,
   "metadata": {},
   "outputs": [
    {
     "name": "stdout",
     "output_type": "stream",
     "text": [
      "name1\n",
      "\n",
      "10 100\n",
      "20 200\n",
      "ED1 name1\n",
      "ED2 100\n"
     ]
    }
   ],
   "source": [
    "value_1=dict_1['ED1']\n",
    "print(value_1)\n",
    "print()\n",
    "\n",
    "for i in dict_1:\n",
    "    print(i,end=' ')\n",
    "    print(dict_1[i])"
   ]
  },
  {
   "cell_type": "code",
   "execution_count": 4,
   "metadata": {},
   "outputs": [
    {
     "name": "stdout",
     "output_type": "stream",
     "text": [
      "{10: 100, 20: 200, 'ED1': 'name1', 'ED2': 'Data Science: Theory and Practice'}\n"
     ]
    }
   ],
   "source": [
    "dict_1['ED2']='Data Science: Theory and Practice'\n",
    "print(dict_1)"
   ]
  },
  {
   "cell_type": "code",
   "execution_count": 7,
   "metadata": {},
   "outputs": [
    {
     "name": "stdout",
     "output_type": "stream",
     "text": [
      "10\n",
      "20\n",
      "ED1\n",
      "ED2\n",
      "\n",
      "100\n",
      "200\n",
      "name1\n",
      "Data Science: Theory and Practice\n",
      "\n",
      "10 100\n",
      "20 200\n",
      "ED1 name1\n",
      "ED2 Data Science: Theory and Practice\n"
     ]
    }
   ],
   "source": [
    "for k in dict_1.keys():\n",
    "    print(k)\n",
    "print()\n",
    "\n",
    "for k in dict_1.values():\n",
    "    print(k)\n",
    "print()\n",
    "\n",
    "for i,j in dict_1.items():\n",
    "    print(i,j)"
   ]
  },
  {
   "cell_type": "code",
   "execution_count": 9,
   "metadata": {},
   "outputs": [
    {
     "name": "stdout",
     "output_type": "stream",
     "text": [
      "3\n",
      "1\n",
      "shobs\n"
     ]
    }
   ],
   "source": [
    "dict_st_name={1:\"adi\",2:\"pranav\",3:\"shobs\"}\n",
    "print(max(dict_st_name))\n",
    "print(min(dict_st_name))\n",
    "\n",
    "print(max(dict_st_name.values()))"
   ]
  },
  {
   "cell_type": "code",
   "execution_count": 12,
   "metadata": {},
   "outputs": [
    {
     "name": "stdout",
     "output_type": "stream",
     "text": [
      "shobs\n",
      "['adi', 'pranav', 'shobs']\n"
     ]
    }
   ],
   "source": [
    "dict_st_name={\"adi\":1,\"pranav\":2,\"shobs\":3}\n",
    "print(max(dict_st_name))\n",
    "\n",
    "dict_st_name=sorted(dict_st_name)\n",
    "print(dict_st_name) # Gives a sorted list\n",
    "\n",
    "dict_2={}"
   ]
  },
  {
   "cell_type": "code",
   "execution_count": 14,
   "metadata": {},
   "outputs": [
    {
     "name": "stdout",
     "output_type": "stream",
     "text": [
      "False\n"
     ]
    }
   ],
   "source": [
    "a={1:2}\n",
    "b={2:3}\n",
    "c={}\n",
    "print(not b)"
   ]
  },
  {
   "cell_type": "code",
   "execution_count": 15,
   "metadata": {},
   "outputs": [
    {
     "name": "stdout",
     "output_type": "stream",
     "text": [
      "{1: 2, 2: 3}\n"
     ]
    }
   ],
   "source": [
    "a.update(b)\n",
    "print(a)"
   ]
  },
  {
   "cell_type": "code",
   "execution_count": 16,
   "metadata": {},
   "outputs": [
    {
     "name": "stdout",
     "output_type": "stream",
     "text": [
      "{}\n"
     ]
    }
   ],
   "source": [
    "a.clear()\n",
    "print(a)"
   ]
  },
  {
   "attachments": {},
   "cell_type": "markdown",
   "metadata": {},
   "source": [
    "### **Nested Dictionary**"
   ]
  },
  {
   "cell_type": "code",
   "execution_count": 25,
   "metadata": {},
   "outputs": [],
   "source": [
    "dict_3={key:value for key,value in zip(range(5),range(5))}"
   ]
  },
  {
   "cell_type": "code",
   "execution_count": 26,
   "metadata": {},
   "outputs": [
    {
     "name": "stdout",
     "output_type": "stream",
     "text": [
      "{0: 0, 1: 1, 2: 2, 3: 3, 4: 4}\n"
     ]
    }
   ],
   "source": [
    "print(dict_3)"
   ]
  },
  {
   "cell_type": "code",
   "execution_count": 27,
   "metadata": {},
   "outputs": [],
   "source": [
    "dict_4={\"Adi\":{1:\"ED5340\",2:\"ED4040\"},\"Pranav\":{1:\"ED5310\",2:\"ED4040\"},\"Vidhi\":{1:\"ED5340\",2:\"ED4040\"},\"Shobs\":{1:\"ED5340\",2:\"ED4040\"}}"
   ]
  },
  {
   "cell_type": "code",
   "execution_count": 31,
   "metadata": {},
   "outputs": [
    {
     "name": "stdout",
     "output_type": "stream",
     "text": [
      "Adi              {1: 'ED5340', 2: 'ED4040'}\n",
      "Pranav           {1: 'ED5310', 2: 'ED4040'}\n",
      "Vidhi            {1: 'ED5340', 2: 'ED4040'}\n",
      "Shobs            {1: 'ED5340', 2: 'ED4040'}\n"
     ]
    }
   ],
   "source": [
    "for i,j in dict_4.items():\n",
    "    print('{0: <16} {1}'.format(i,j))"
   ]
  },
  {
   "cell_type": "code",
   "execution_count": 34,
   "metadata": {},
   "outputs": [
    {
     "name": "stdout",
     "output_type": "stream",
     "text": [
      "ED4040\n"
     ]
    }
   ],
   "source": [
    "print(dict_4[\"Adi\"][2])\n",
    "dict_4[\"Adi\"][2]=\"ED4060\""
   ]
  },
  {
   "attachments": {},
   "cell_type": "markdown",
   "metadata": {},
   "source": [
    "Unpacking operator just unpacks the keys"
   ]
  },
  {
   "cell_type": "code",
   "execution_count": 35,
   "metadata": {},
   "outputs": [
    {
     "name": "stdout",
     "output_type": "stream",
     "text": [
      "Adi Pranav Vidhi Shobs\n"
     ]
    }
   ],
   "source": [
    "print(*dict_4)\n",
    "#Unpacks the keys"
   ]
  },
  {
   "cell_type": "code",
   "execution_count": 36,
   "metadata": {},
   "outputs": [
    {
     "name": "stdout",
     "output_type": "stream",
     "text": [
      "Adi              {1: 'ED5340', 2: 'ED4060'}\n",
      "Pranav           {1: 'ED5310', 2: 'ED4040'}\n",
      "Vidhi            {1: 'ED5340', 2: 'ED4040'}\n",
      "Shobs            {1: 'ED5340', 2: 'ED4040'}\n"
     ]
    }
   ],
   "source": [
    "for i,j in dict_4.items():\n",
    "    print('{0: <16} {1}'.format(i,j))"
   ]
  },
  {
   "cell_type": "code",
   "execution_count": 40,
   "metadata": {},
   "outputs": [
    {
     "name": "stdout",
     "output_type": "stream",
     "text": [
      "10 20 ED1 ED2\n"
     ]
    }
   ],
   "source": [
    "print(*dict_1)"
   ]
  },
  {
   "cell_type": "code",
   "execution_count": 38,
   "metadata": {},
   "outputs": [
    {
     "name": "stdout",
     "output_type": "stream",
     "text": [
      "(10, 100) (20, 200) ('ED1', 'name1') ('ED2', 'Data Science: Theory and Practice')\n"
     ]
    }
   ],
   "source": [
    "print(*dict_1.items())"
   ]
  },
  {
   "cell_type": "code",
   "execution_count": null,
   "metadata": {},
   "outputs": [],
   "source": []
  }
 ],
 "metadata": {
  "kernelspec": {
   "display_name": "Python 3",
   "language": "python",
   "name": "python3"
  },
  "language_info": {
   "codemirror_mode": {
    "name": "ipython",
    "version": 3
   },
   "file_extension": ".py",
   "mimetype": "text/x-python",
   "name": "python",
   "nbconvert_exporter": "python",
   "pygments_lexer": "ipython3",
   "version": "3.11.1"
  },
  "orig_nbformat": 4,
  "vscode": {
   "interpreter": {
    "hash": "aee8b7b246df8f9039afb4144a1f6fd8d2ca17a180786b69acc140d282b71a49"
   }
  }
 },
 "nbformat": 4,
 "nbformat_minor": 2
}
