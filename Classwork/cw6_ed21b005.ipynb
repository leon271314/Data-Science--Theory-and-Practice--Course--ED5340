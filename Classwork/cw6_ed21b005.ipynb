{
 "cells": [
  {
   "cell_type": "code",
   "execution_count": 1,
   "metadata": {},
   "outputs": [
    {
     "name": "stdout",
     "output_type": "stream",
     "text": [
      "passing 2 arguements <class 'str'>\n",
      "1 <class 'int'>\n",
      "5 <class 'int'>\n"
     ]
    }
   ],
   "source": [
    "def var_arg(*args):\n",
    "    for var in args:\n",
    "        print(var,type(var))\n",
    "var_arg(\"passing 2 arguements\",1,5)"
   ]
  },
  {
   "attachments": {},
   "cell_type": "markdown",
   "metadata": {},
   "source": [
    "This is the variable length positional arguement. We use an unpacking arguement(*args). So it will unpack all the elements. *args is a variable length ihnput"
   ]
  },
  {
   "cell_type": "code",
   "execution_count": 4,
   "metadata": {},
   "outputs": [
    {
     "name": "stdout",
     "output_type": "stream",
     "text": [
      "i 10\n",
      "hello 5\n",
      "length 3.14\n"
     ]
    }
   ],
   "source": [
    "def kwvar_arg(**kwargs):\n",
    "    for k,v in kwargs.items():\n",
    "        print(k,v)\n",
    "kwvar_arg(i=10,hello=5,length=3.14)"
   ]
  },
  {
   "attachments": {},
   "cell_type": "markdown",
   "metadata": {},
   "source": [
    "Every assignment works as a key value pair."
   ]
  },
  {
   "attachments": {},
   "cell_type": "markdown",
   "metadata": {},
   "source": [
    "Arguements we looked at\n",
    "- Positonal\n",
    "- Keyword\n",
    "- Variable Length Positional\n",
    "- Variable Length Keyword\n",
    "\n",
    "We can also use a combination of these together"
   ]
  },
  {
   "attachments": {},
   "cell_type": "markdown",
   "metadata": {},
   "source": [
    "Default Arguement\n",
    "```python\n",
    "def TorF(cond=True):\n",
    "    if cond==True:\n",
    "        print(\"Hi\")\n",
    "    else:\n",
    "        print(F)\n",
    "```"
   ]
  },
  {
   "cell_type": "code",
   "execution_count": 6,
   "metadata": {},
   "outputs": [
    {
     "name": "stdout",
     "output_type": "stream",
     "text": [
      "Hi\n",
      "F\n"
     ]
    }
   ],
   "source": [
    "def TorF(cond=True):\n",
    "    if cond==True:\n",
    "        print(\"Hi\")\n",
    "    else:\n",
    "        print('F')\n",
    "\n",
    "TorF()\n",
    "TorF(\"False\")"
   ]
  },
  {
   "attachments": {},
   "cell_type": "markdown",
   "metadata": {},
   "source": [
    "We will try to combine all of them"
   ]
  },
  {
   "cell_type": "code",
   "execution_count": 7,
   "metadata": {},
   "outputs": [
    {
     "name": "stdout",
     "output_type": "stream",
     "text": [
      "10 23.53\n",
      "ram\n",
      "hi\n"
     ]
    }
   ],
   "source": [
    "def pv(i,j,*args):\n",
    "    print(i,j)#They are fixed parameters and can be positional or keyowrd\n",
    "    for var in args:\n",
    "        print(var)\n",
    "pv(10,23.53,\"ram\",\"hi\")# This will work\n",
    "#if 10 is removed as firsrt arguement i is 23.53, j would be \"ram\""
   ]
  },
  {
   "attachments": {},
   "cell_type": "markdown",
   "metadata": {},
   "source": [
    "```python\n",
    "def pkvk(i,j,*args,k,**kwargs)\n",
    "\n",
    "i,j are positional arguements\n",
    "*args-variable length\n",
    "k- keyword fixed\n",
    "**kwargs-variable length keyowrd\n",
    "```"
   ]
  },
  {
   "attachments": {},
   "cell_type": "markdown",
   "metadata": {},
   "source": [
    "### **Recursive Function**"
   ]
  },
  {
   "attachments": {},
   "cell_type": "markdown",
   "metadata": {},
   "source": [
    "- A function calls itself from within its body\n",
    "- Example function\n",
    "\n",
    "```python\n",
    "def PrintNum(n):\n",
    "    PrintNum(n-1)\n",
    "```"
   ]
  },
  {
   "attachments": {},
   "cell_type": "markdown",
   "metadata": {},
   "source": [
    "Function is calling itself. This is called recursion\n",
    "This won't run cause it is never ending\n",
    "\n",
    "![Alt text](https://miro.medium.com/v2/resize:fit:1100/format:webp/1*FY8HOceFgixCVbTF-aZNKg.png \"a title\")\n"
   ]
  },
  {
   "cell_type": "code",
   "execution_count": 8,
   "metadata": {},
   "outputs": [
    {
     "ename": "RecursionError",
     "evalue": "maximum recursion depth exceeded",
     "output_type": "error",
     "traceback": [
      "\u001b[0;31m---------------------------------------------------------------------------\u001b[0m",
      "\u001b[0;31mRecursionError\u001b[0m                            Traceback (most recent call last)",
      "Cell \u001b[0;32mIn[8], line 3\u001b[0m\n\u001b[1;32m      1\u001b[0m \u001b[39mdef\u001b[39;00m \u001b[39mPrintNum\u001b[39m(n):\n\u001b[1;32m      2\u001b[0m     PrintNum(n\u001b[39m-\u001b[39m\u001b[39m1\u001b[39m)\n\u001b[0;32m----> 3\u001b[0m \u001b[39mprint\u001b[39m(PrintNum(\u001b[39m10\u001b[39;49m))\n",
      "Cell \u001b[0;32mIn[8], line 2\u001b[0m, in \u001b[0;36mPrintNum\u001b[0;34m(n)\u001b[0m\n\u001b[1;32m      1\u001b[0m \u001b[39mdef\u001b[39;00m \u001b[39mPrintNum\u001b[39m(n):\n\u001b[0;32m----> 2\u001b[0m     PrintNum(n\u001b[39m-\u001b[39;49m\u001b[39m1\u001b[39;49m)\n",
      "Cell \u001b[0;32mIn[8], line 2\u001b[0m, in \u001b[0;36mPrintNum\u001b[0;34m(n)\u001b[0m\n\u001b[1;32m      1\u001b[0m \u001b[39mdef\u001b[39;00m \u001b[39mPrintNum\u001b[39m(n):\n\u001b[0;32m----> 2\u001b[0m     PrintNum(n\u001b[39m-\u001b[39;49m\u001b[39m1\u001b[39;49m)\n",
      "    \u001b[0;31m[... skipping similar frames: PrintNum at line 2 (2971 times)]\u001b[0m\n",
      "Cell \u001b[0;32mIn[8], line 2\u001b[0m, in \u001b[0;36mPrintNum\u001b[0;34m(n)\u001b[0m\n\u001b[1;32m      1\u001b[0m \u001b[39mdef\u001b[39;00m \u001b[39mPrintNum\u001b[39m(n):\n\u001b[0;32m----> 2\u001b[0m     PrintNum(n\u001b[39m-\u001b[39;49m\u001b[39m1\u001b[39;49m)\n",
      "\u001b[0;31mRecursionError\u001b[0m: maximum recursion depth exceeded"
     ]
    }
   ],
   "source": [
    "def PrintNum(n):\n",
    "    PrintNum(n-1)\n",
    "print(PrintNum(10))"
   ]
  },
  {
   "cell_type": "code",
   "execution_count": 12,
   "metadata": {},
   "outputs": [
    {
     "name": "stdout",
     "output_type": "stream",
     "text": [
      "10\n",
      "9\n",
      "8\n",
      "7\n",
      "6\n",
      "5\n",
      "4\n",
      "3\n",
      "2\n",
      "1\n"
     ]
    }
   ],
   "source": [
    "#We add a condition to return it or end it at some point\n",
    "def PrintNum(n):\n",
    "    if n>0:\n",
    "        print(n)\n",
    "        PrintNum(n-1)\n",
    "PrintNum(10)"
   ]
  },
  {
   "cell_type": "code",
   "execution_count": 18,
   "metadata": {},
   "outputs": [
    {
     "name": "stdout",
     "output_type": "stream",
     "text": [
      "55\n"
     ]
    }
   ],
   "source": [
    "#sum of n integers through recursion\n",
    "def Sum_n(n):\n",
    "    if n==0:\n",
    "        return 0\n",
    "    return n+Sum_n(n-1)\n",
    "Sum_n(10)\n",
    "\n",
    "def suum_n(n):\n",
    "    if n==0:\n",
    "        return 0\n",
    "    else:\n",
    "        s=n+suum_n(n-1)\n",
    "    return s\n",
    "print(suum_n(10))\n"
   ]
  },
  {
   "cell_type": "code",
   "execution_count": 23,
   "metadata": {},
   "outputs": [
    {
     "name": "stdout",
     "output_type": "stream",
     "text": [
      "120\n"
     ]
    }
   ],
   "source": [
    "def fact(n):\n",
    "    if n==1:\n",
    "        return 1\n",
    "    else:\n",
    "        return n*fact(n-1)\n",
    "print(fact(5))"
   ]
  },
  {
   "attachments": {},
   "cell_type": "markdown",
   "metadata": {},
   "source": [
    "Lambda function: lambda arguements:expression\n",
    "lambda a,b:(a+b)<br />\n",
    "Mainly used for one line functions like sorting dict using values"
   ]
  },
  {
   "cell_type": "code",
   "execution_count": 24,
   "metadata": {},
   "outputs": [
    {
     "name": "stdout",
     "output_type": "stream",
     "text": [
      "7.5\n"
     ]
    }
   ],
   "source": [
    "avg=lambda a,b:(a+b)/2\n",
    "print(avg(7,8))"
   ]
  },
  {
   "cell_type": "code",
   "execution_count": 33,
   "metadata": {},
   "outputs": [
    {
     "name": "stdout",
     "output_type": "stream",
     "text": [
      "[('stdu', 2), ('hi', 3), ('oil', 4)]\n",
      "['hi', 'oil', 'stdu']\n"
     ]
    }
   ],
   "source": [
    "dc1={\"oil\":4,'stdu':2,'hi':3}\n",
    "print(sorted(dc1.items(), key=lambda kv1:kv1[1]))\n",
    "#We operate it on dc1.items()[1] ie the values. So sorts based on values\n",
    "print(sorted(dc1, key=lambda kv1:kv1))#Sending dict into sorted makes it into a key list\n"
   ]
  },
  {
   "attachments": {},
   "cell_type": "markdown",
   "metadata": {},
   "source": [
    "Map, Filter and Reduce"
   ]
  },
  {
   "cell_type": "code",
   "execution_count": null,
   "metadata": {},
   "outputs": [],
   "source": []
  }
 ],
 "metadata": {
  "kernelspec": {
   "display_name": "Python 3",
   "language": "python",
   "name": "python3"
  },
  "language_info": {
   "codemirror_mode": {
    "name": "ipython",
    "version": 3
   },
   "file_extension": ".py",
   "mimetype": "text/x-python",
   "name": "python",
   "nbconvert_exporter": "python",
   "pygments_lexer": "ipython3",
   "version": "3.11.1"
  },
  "orig_nbformat": 4,
  "vscode": {
   "interpreter": {
    "hash": "aee8b7b246df8f9039afb4144a1f6fd8d2ca17a180786b69acc140d282b71a49"
   }
  }
 },
 "nbformat": 4,
 "nbformat_minor": 2
}
