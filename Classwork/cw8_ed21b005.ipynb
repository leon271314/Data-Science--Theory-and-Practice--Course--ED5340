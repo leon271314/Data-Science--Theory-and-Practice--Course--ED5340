{
 "cells": [
  {
   "cell_type": "code",
   "execution_count": 15,
   "metadata": {},
   "outputs": [
    {
     "name": "stdout",
     "output_type": "stream",
     "text": [
      "2+j0.0\n",
      "2+j0.0\n",
      "1+j1.732\n",
      "2+j0.0\n",
      "-1.9998239999999998+j0.0\n"
     ]
    }
   ],
   "source": [
    "#Write a complex class with capital C\n",
    "class Complex:\n",
    "    def __init__(self,real,imag):\n",
    "        self._real=real\n",
    "        self._imag=imag\n",
    "    def print_comp(self):\n",
    "        print(f\"{self._real}+j{self._imag}\")\n",
    "    def add(self,other):\n",
    "        C=Complex(0,0)#Defining a Complex function inside and replacing the C.real and C.complex with the sum and returning it.\n",
    "        C._real=self._real+other._real\n",
    "        C._imag=self._imag+other._imag\n",
    "        print(f\"{self._real+other._real}+j{self._imag+other._imag}\")\n",
    "        return C\n",
    "    def __add__(self,other):\n",
    "        C=Complex(0,0)\n",
    "        C._real=self._real+other._real\n",
    "        C._imag=self._imag+other._imag\n",
    "        #print(f\"{self._real+other._real}+j{self._imag+other._imag}\")\n",
    "        return C\n",
    "    def __mul__(self,other):\n",
    "        C=Complex(0,0)\n",
    "        C._real=self._real*other._real-self._imag*self._imag\n",
    "        C._imag=self._real*other._imag+self._imag*other._real\n",
    "        return C\n",
    "    \n",
    "c1=Complex(1,1.732)\n",
    "c2=Complex(1,-1.732)\n",
    "c3=c1.add(c2)\n",
    "c3.print_comp()\n",
    "c1.print_comp()\n",
    "c4=c1+c2\n",
    "c4.print_comp()\n",
    "c5=c1*c2\n",
    "c5.print_comp()\n",
    "#add(C1,C2)\n",
    "#c4=c1+c2- We haven't defined how to use the + symbol (when it was without operator overloading)\n"
   ]
  },
  {
   "attachments": {},
   "cell_type": "markdown",
   "metadata": {},
   "source": [
    "## **Operator Overloading**\n",
    "```Give meaning beyond the existing meaning\n",
    "This is called Operator overloading where we add them directly with a plus sign. It is like predefined options\n",
    "There's many like __sub__,__mul__,__pow__,__and__,__gt__...\n",
    "```\n",
    "https://www.geeksforgeeks.org/operator-overloading-in-python/"
   ]
  },
  {
   "attachments": {},
   "cell_type": "markdown",
   "metadata": {},
   "source": [
    "**`Class Methods`**"
   ]
  },
  {
   "cell_type": "code",
   "execution_count": 16,
   "metadata": {},
   "outputs": [
    {
     "name": "stdout",
     "output_type": "stream",
     "text": [
      "1\n",
      "2\n"
     ]
    }
   ],
   "source": [
    "class CMV:\n",
    "    count=0 \n",
    "    #This takes count as 0 when class is defined. Every time it is initialized, its count increases by 1 and this is never called again\n",
    "\n",
    "    def __init__(self,n='',s=0,c=''):\n",
    "        self._name=n\n",
    "        self._size=s\n",
    "        self._color=c\n",
    "        CMV.count+=1\n",
    "    def display():\n",
    "        print(CMV.count)#We access via classname rather than self\n",
    "c1 = CMV(\"R\",1,\"B\")\n",
    "print(CMV.count)\n",
    "c2 = CMV(\"R\",1,\"B\")\n",
    "CMV.display()"
   ]
  },
  {
   "attachments": {},
   "cell_type": "markdown",
   "metadata": {},
   "source": [
    "## **`Class Containers`**\n",
    "- We dont Necessarily do a `nested class` or `nested structure` like lists,tuples and stuff"
   ]
  },
  {
   "cell_type": "code",
   "execution_count": 6,
   "metadata": {},
   "outputs": [
    {
     "name": "stdout",
     "output_type": "stream",
     "text": [
      "Name             Adithyaa\n",
      "Roll Number      ED21B005\n",
      "Department       ED\n",
      "CGPA             100\n"
     ]
    }
   ],
   "source": [
    "class Department:\n",
    "    def __init__(self, dname=\"Engineering Design\"):\n",
    "        self.dname=dname\n",
    "    def PrintDept(self):\n",
    "        print(self.dname)\n",
    "class Student:\n",
    "    def __init__(self,sname,rollno,dept,cgpa):\n",
    "        self.name=sname\n",
    "        self.rollno=rollno\n",
    "        self.dept=Department(dept)\n",
    "        self.cgpa=cgpa\n",
    "    \n",
    "    def printStudent(self):\n",
    "        print(f'{\"Name\": <16} {self.name}')\n",
    "        print(f'{\"Roll Number\": <16} {self.rollno}')\n",
    "        print(f'{\"Department\": <16} ',end='')\n",
    "        self.dept.PrintDept()\n",
    "        print(f'{\"CGPA\": <16} {self.cgpa}')\n",
    "Student(\"Adithyaa\",\"ED21B005\",\"ED\",\"100\").printStudent()"
   ]
  },
  {
   "cell_type": "code",
   "execution_count": null,
   "metadata": {},
   "outputs": [],
   "source": []
  }
 ],
 "metadata": {
  "kernelspec": {
   "display_name": "Python 3",
   "language": "python",
   "name": "python3"
  },
  "language_info": {
   "codemirror_mode": {
    "name": "ipython",
    "version": 3
   },
   "file_extension": ".py",
   "mimetype": "text/x-python",
   "name": "python",
   "nbconvert_exporter": "python",
   "pygments_lexer": "ipython3",
   "version": "3.11.1"
  },
  "orig_nbformat": 4,
  "vscode": {
   "interpreter": {
    "hash": "aee8b7b246df8f9039afb4144a1f6fd8d2ca17a180786b69acc140d282b71a49"
   }
  }
 },
 "nbformat": 4,
 "nbformat_minor": 2
}
