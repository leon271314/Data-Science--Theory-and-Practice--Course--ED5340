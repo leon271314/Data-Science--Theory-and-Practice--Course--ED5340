{
 "cells": [
  {
   "attachments": {},
   "cell_type": "markdown",
   "metadata": {},
   "source": [
    "if-else statements"
   ]
  },
  {
   "cell_type": "code",
   "execution_count": 2,
   "metadata": {},
   "outputs": [
    {
     "name": "stdout",
     "output_type": "stream",
     "text": [
      "6 is greater than or equal to 5\n"
     ]
    }
   ],
   "source": [
    "a,b = input(\"Enter numbers a and b\").split()\n",
    "if int(a)>int(b):\n",
    "    print(int(a),\"is greater than\",b)\n",
    "else:\n",
    "    print(int(b),\"is greater than or equal to\",a)"
   ]
  },
  {
   "attachments": {},
   "cell_type": "markdown",
   "metadata": {},
   "source": [
    "Relational Operator\n",
    "\n",
    "- <\n",
    "- '>'\n",
    "- <=\n",
    "- '>='\n",
    "- == : checking for equality- not assignment\n",
    "- != : not equality"
   ]
  },
  {
   "attachments": {},
   "cell_type": "markdown",
   "metadata": {},
   "source": [
    "We can do a < b < c in python but have to use logical operators in other languages<br />\n",
    "### Assignment: Do a comparison between a, b, c"
   ]
  },
  {
   "cell_type": "code",
   "execution_count": 5,
   "metadata": {},
   "outputs": [
    {
     "name": "stdout",
     "output_type": "stream",
     "text": [
      "48\n",
      "is the smallest number\n"
     ]
    }
   ],
   "source": [
    "a,b,c=input(\"Enter numbers a,b,c\").split()\n",
    "a,b,c=int(a),int(b),int(c)\n",
    "if a>b>c:\n",
    "    print(c)\n",
    "elif b>a>c:\n",
    "    print(c)\n",
    "elif a>c>b:\n",
    "    print(b)\n",
    "elif c>a>b:\n",
    "    print(b)\n",
    "else:\n",
    "    print(a)\n",
    "print(\"is the smallest number\")"
   ]
  },
  {
   "cell_type": "code",
   "execution_count": 8,
   "metadata": {},
   "outputs": [
    {
     "name": "stdout",
     "output_type": "stream",
     "text": [
      "True\n",
      "False\n"
     ]
    }
   ],
   "source": [
    "a=5\n",
    "b=7\n",
    "print(a!=b!=c)\n",
    "\n",
    "a=4\n",
    "b=4\n",
    "print(a!=b!=c)"
   ]
  },
  {
   "attachments": {},
   "cell_type": "markdown",
   "metadata": {},
   "source": [
    "Any non-zero number is True and zero is false"
   ]
  },
  {
   "attachments": {},
   "cell_type": "markdown",
   "metadata": {},
   "source": [
    "&& and || no longer working in python\n",
    "'and' and 'or' are usec"
   ]
  },
  {
   "cell_type": "code",
   "execution_count": 10,
   "metadata": {},
   "outputs": [
    {
     "name": "stdout",
     "output_type": "stream",
     "text": [
      "Hi\n"
     ]
    }
   ],
   "source": [
    "if (5+10):\n",
    "    print(\"Hi\")"
   ]
  },
  {
   "cell_type": "code",
   "execution_count": 24,
   "metadata": {},
   "outputs": [
    {
     "name": "stdout",
     "output_type": "stream",
     "text": [
      "False\n"
     ]
    }
   ],
   "source": [
    "a=0\n",
    "b=10\n",
    "print(not(a)+b)#booleon+integer- giving false\n",
    "# is booleon being converted into integer or the other way. Looks like the other way\n",
    "#Looks like it does not(a+b) which is confusing"
   ]
  },
  {
   "attachments": {},
   "cell_type": "markdown",
   "metadata": {},
   "source": [
    "# Loops<br />\n",
    "## While and For<br />\n",
    "No do while\n"
   ]
  },
  {
   "attachments": {},
   "cell_type": "markdown",
   "metadata": {},
   "source": [
    "## For and while\n",
    "\n",
    "No do-while in python\n",
    "\n",
    "while condition:\n",
    "\n",
    "statements\n",
    "\n",
    "while condition:\n",
    "\n",
    "statements\n",
    "\n",
    "..\n",
    "\n",
    "..\n",
    "\n",
    "else:\n",
    "\n",
    "statement\n",
    "\n",
    "for loop - this iterates over each element in a sequence(string,range,list,tuple,etc)\n",
    "\n",
    "for ele in seq:\n",
    "\n",
    "statement\n",
    "\n",
    "For also has an else statement\n",
    "\n",
    "‘in’ in a for loop statement checks for containment check\n",
    "\n",
    "for else\n",
    "\n",
    "it can be used during searching"
   ]
  },
  {
   "cell_type": "code",
   "execution_count": 25,
   "metadata": {},
   "outputs": [
    {
     "name": "stdout",
     "output_type": "stream",
     "text": [
      "n is 1\n",
      "n is 2\n",
      "Hi\n"
     ]
    }
   ],
   "source": [
    "n=1\n",
    "while n==1 or n==2:\n",
    "    print(\"n is\",n)\n",
    "    n+=1\n",
    "else:\n",
    "    print(\"Hi\")"
   ]
  },
  {
   "cell_type": "code",
   "execution_count": 28,
   "metadata": {},
   "outputs": [
    {
     "name": "stdout",
     "output_type": "stream",
     "text": [
      "H 1\n",
      "\n",
      "E 1\n",
      "\n",
      "L 1\n",
      "\n",
      "L 1\n",
      "\n",
      "O 1\n",
      "\n",
      "  1\n",
      "\n",
      "W 1\n",
      "\n",
      "O 1\n",
      "\n",
      "r 1\n",
      "\n",
      "L 1\n",
      "\n",
      "D 1\n",
      "\n"
     ]
    }
   ],
   "source": [
    "a=\"HELLO WOrLD\"\n",
    "for i in a:\n",
    "    print(i+' 1\\n')"
   ]
  },
  {
   "cell_type": "code",
   "execution_count": 31,
   "metadata": {},
   "outputs": [
    {
     "name": "stdout",
     "output_type": "stream",
     "text": [
      "0\n",
      "1\n",
      "2\n",
      "3\n",
      "4\n",
      "\n",
      "6\n",
      "7\n",
      "8\n",
      "9\n"
     ]
    }
   ],
   "source": [
    "for i in range(5):\n",
    "    print(i)\n",
    "print()\n",
    "for i in [6,7,8,9]:\n",
    "    print(i)"
   ]
  }
 ],
 "metadata": {
  "kernelspec": {
   "display_name": "Python 3",
   "language": "python",
   "name": "python3"
  },
  "language_info": {
   "codemirror_mode": {
    "name": "ipython",
    "version": 3
   },
   "file_extension": ".py",
   "mimetype": "text/x-python",
   "name": "python",
   "nbconvert_exporter": "python",
   "pygments_lexer": "ipython3",
   "version": "3.11.1"
  },
  "orig_nbformat": 4,
  "vscode": {
   "interpreter": {
    "hash": "aee8b7b246df8f9039afb4144a1f6fd8d2ca17a180786b69acc140d282b71a49"
   }
  }
 },
 "nbformat": 4,
 "nbformat_minor": 2
}
