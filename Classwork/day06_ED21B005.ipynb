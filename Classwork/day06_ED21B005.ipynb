{
 "cells": [
  {
   "attachments": {},
   "cell_type": "markdown",
   "metadata": {},
   "source": [
    "# Tuples\n",
    "\n",
    "1. Tuples is a collection of heterogeneous data- empty_tuple=tuple() or ()"
   ]
  },
  {
   "cell_type": "code",
   "execution_count": 5,
   "metadata": {},
   "outputs": [
    {
     "name": "stdout",
     "output_type": "stream",
     "text": [
      "()\n",
      "()\n",
      "<class 'tuple'>\n"
     ]
    }
   ],
   "source": [
    "empty_tup=()\n",
    "print(tuple())\n",
    "print(empty_tup)\n",
    "print(type(empty_tup))"
   ]
  },
  {
   "attachments": {},
   "cell_type": "markdown",
   "metadata": {},
   "source": [
    "1. Tuples are also iterable. They also have indexing and can be sliced.\n",
    "2. Entire tuple can be printed.\n",
    "3. Tuples are also immutable"
   ]
  },
  {
   "cell_type": "code",
   "execution_count": 7,
   "metadata": {},
   "outputs": [
    {
     "name": "stdout",
     "output_type": "stream",
     "text": [
      "1100\n",
      "('Ram', 25, 45.55)\n",
      "('Ram1', 2345, 2.14)\n"
     ]
    }
   ],
   "source": [
    "one_tup=(1100)\n",
    "mix_tup=(\"Ram\",25,45.55)\n",
    "\n",
    "tup1=\"Ram1\",2345,2.14\n",
    "\n",
    "print(one_tup)\n",
    "print(mix_tup)\n",
    "print(tup1)"
   ]
  },
  {
   "cell_type": "code",
   "execution_count": 8,
   "metadata": {},
   "outputs": [
    {
     "name": "stdout",
     "output_type": "stream",
     "text": [
      "('A', 'd', 'i', 't', 'h', 'y', 'a', 'a')\n"
     ]
    }
   ],
   "source": [
    "print(tuple(\"Adithyaa\"))"
   ]
  },
  {
   "attachments": {},
   "cell_type": "markdown",
   "metadata": {},
   "source": [
    "Nested Tuples is also possible. "
   ]
  },
  {
   "cell_type": "code",
   "execution_count": 11,
   "metadata": {},
   "outputs": [
    {
     "name": "stdout",
     "output_type": "stream",
     "text": [
      "(('stud1', 55, 6.7), ('stud2', 66, 7.7), ('stud3', 77, 8.7))\n",
      "stud1 55 6.7\n",
      "stud2 66 7.7\n",
      "stud3 77 8.7\n",
      "[('stud1', 55, 6.7), ('stud2', 66, 7.7), ('stud3', 77, 8.7)]\n",
      "stud1 55 6.7\n",
      "stud2 66 7.7\n",
      "stud3 77 8.7\n"
     ]
    }
   ],
   "source": [
    "stud_details = ((\"stud1\",55,6.7),(\"stud2\",66,7.7),(\"stud3\",77,8.7),)\n",
    "print(stud_details)\n",
    "for i,j,k in stud_details:\n",
    "    print(i,j,k)\n",
    "#It works in list also\n",
    "lst1=list(stud_details)\n",
    "print(lst1)\n",
    "for i,j,k in lst1:\n",
    "    print(i,j,k)\n"
   ]
  },
  {
   "attachments": {},
   "cell_type": "markdown",
   "metadata": {},
   "source": [
    "1. '*' is an unwrapping operator"
   ]
  },
  {
   "cell_type": "code",
   "execution_count": 17,
   "metadata": {},
   "outputs": [
    {
     "name": "stdout",
     "output_type": "stream",
     "text": [
      "('stud1', 55, 6.7) ('stud2', 66, 7.7) ('stud3', 77, 8.7)\n",
      "stud1 55 6.7\n"
     ]
    },
    {
     "ename": "TypeError",
     "evalue": "type.__new__() argument 2 must be tuple, not int",
     "output_type": "error",
     "traceback": [
      "\u001b[0;31m---------------------------------------------------------------------------\u001b[0m",
      "\u001b[0;31mTypeError\u001b[0m                                 Traceback (most recent call last)",
      "Cell \u001b[0;32mIn[17], line 3\u001b[0m\n\u001b[1;32m      1\u001b[0m \u001b[39mprint\u001b[39m(\u001b[39m*\u001b[39mstud_details)\n\u001b[1;32m      2\u001b[0m \u001b[39mprint\u001b[39m(\u001b[39m*\u001b[39mstud_details[\u001b[39m0\u001b[39m])\n\u001b[0;32m----> 3\u001b[0m \u001b[39mprint\u001b[39m(\u001b[39mtype\u001b[39;49m(\u001b[39m*\u001b[39;49mstud_details[\u001b[39m0\u001b[39;49m]))\n",
      "\u001b[0;31mTypeError\u001b[0m: type.__new__() argument 2 must be tuple, not int"
     ]
    }
   ],
   "source": [
    "print(*stud_details)\n",
    "print(*stud_details[0])\n",
    "print(type(*stud_details[0]))"
   ]
  },
  {
   "attachments": {},
   "cell_type": "markdown",
   "metadata": {},
   "source": [
    "CW:Define a typle in various datatypes and print using iterators <br />\n",
    "HW: In a tuple, find number of objects of each type"
   ]
  },
  {
   "cell_type": "code",
   "execution_count": 18,
   "metadata": {},
   "outputs": [
    {
     "name": "stdout",
     "output_type": "stream",
     "text": [
      "String:1 Int:1 Float:1\n"
     ]
    }
   ],
   "source": [
    "#HW\n",
    "tup=('Ram', 25, 45.55)\n",
    "stri=0\n",
    "inte=0\n",
    "floatt=0\n",
    "for i in tup:\n",
    "    if type(i)==str:\n",
    "        stri+=1\n",
    "    if type(i)==int:\n",
    "        inte+=1\n",
    "    if type(i)==float:\n",
    "        floatt+=1\n",
    "print(f\"String:{stri} Int:{inte} Float:{floatt}\")"
   ]
  },
  {
   "cell_type": "code",
   "execution_count": 21,
   "metadata": {},
   "outputs": [
    {
     "ename": "TypeError",
     "evalue": "'int' object is not iterable",
     "output_type": "error",
     "traceback": [
      "\u001b[0;31m---------------------------------------------------------------------------\u001b[0m",
      "\u001b[0;31mTypeError\u001b[0m                                 Traceback (most recent call last)",
      "Cell \u001b[0;32mIn[21], line 4\u001b[0m\n\u001b[1;32m      2\u001b[0m a\u001b[39m=\u001b[39m\u001b[39m5\u001b[39m\n\u001b[1;32m      3\u001b[0m b\u001b[39m=\u001b[39m\u001b[39m1.5\u001b[39m\n\u001b[0;32m----> 4\u001b[0m \u001b[39mprint\u001b[39m(\u001b[39mtuple\u001b[39;49m(a))\n\u001b[1;32m      5\u001b[0m \u001b[39mprint\u001b[39m(\u001b[39mtuple\u001b[39m(b))\n\u001b[1;32m      6\u001b[0m \u001b[39mprint\u001b[39m(\u001b[39mtuple\u001b[39m([\u001b[39m2\u001b[39m,\u001b[39m3\u001b[39m]))\n",
      "\u001b[0;31mTypeError\u001b[0m: 'int' object is not iterable"
     ]
    }
   ],
   "source": [
    "#CW\n",
    "a=5\n",
    "b=1.5\n",
    "print(tuple(a))\n",
    "print(tuple(b))\n",
    "print(tuple([2,3]))"
   ]
  },
  {
   "cell_type": "code",
   "execution_count": 23,
   "metadata": {},
   "outputs": [
    {
     "ename": "TypeError",
     "evalue": "'tuple' object does not support item assignment",
     "output_type": "error",
     "traceback": [
      "\u001b[0;31m---------------------------------------------------------------------------\u001b[0m",
      "\u001b[0;31mTypeError\u001b[0m                                 Traceback (most recent call last)",
      "Cell \u001b[0;32mIn[23], line 1\u001b[0m\n\u001b[0;32m----> 1\u001b[0m tup[\u001b[39m0\u001b[39;49m]\u001b[39m=\u001b[39m\u001b[39m2\u001b[39m\n",
      "\u001b[0;31mTypeError\u001b[0m: 'tuple' object does not support item assignment"
     ]
    }
   ],
   "source": [
    "tup[0]=2"
   ]
  },
  {
   "cell_type": "code",
   "execution_count": 40,
   "metadata": {},
   "outputs": [
    {
     "name": "stdout",
     "output_type": "stream",
     "text": [
      "(1, 2, 3, 54, 6, 7)\n"
     ]
    }
   ],
   "source": [
    "#Tuple is immutable and be concatenated\n",
    "tup=1,2,3\n",
    "tup+=(54,6,7)\n",
    "print(tup)\n",
    "del(tup)\n",
    "#print(tup)"
   ]
  },
  {
   "attachments": {},
   "cell_type": "markdown",
   "metadata": {},
   "source": [
    "del(tup) removes the tuple"
   ]
  },
  {
   "cell_type": "code",
   "execution_count": 27,
   "metadata": {},
   "outputs": [
    {
     "data": {
      "text/plain": [
       "[1, 2, 3, 6, 7, 54]"
      ]
     },
     "execution_count": 27,
     "metadata": {},
     "output_type": "execute_result"
    }
   ],
   "source": [
    "sorted(tup)"
   ]
  },
  {
   "cell_type": "code",
   "execution_count": 31,
   "metadata": {},
   "outputs": [],
   "source": [
    "tup.sort() # member function used only for list"
   ]
  },
  {
   "cell_type": "code",
   "execution_count": 55,
   "metadata": {},
   "outputs": [
    {
     "name": "stdout",
     "output_type": "stream",
     "text": [
      "[5, 4, 3, 2, 1]\n",
      "<class 'reversed'>\n",
      "[5, 4, 3, 2, 1] ()\n"
     ]
    }
   ],
   "source": [
    "tup_a=(1,2,3,4,5)\n",
    "list_a=reversed(tup_a) #Reverses and returns a reversed class which can be converted to a list or tuple\n",
    "print(list(reversed(tup_a)))\n",
    "print(type(list_a))\n",
    "print(list(list_a),tuple(list_a))# It is not getting used for a 2nd time."
   ]
  },
  {
   "cell_type": "code",
   "execution_count": 49,
   "metadata": {},
   "outputs": [
    {
     "name": "stdout",
     "output_type": "stream",
     "text": [
      "(0, 1, 2, 3, 4)\n"
     ]
    }
   ],
   "source": [
    "a=(i for i in range(5)) #Tuple comperehension works but doesnt return back a tuple- It gives a generator class\n",
    "print(tuple(a))"
   ]
  },
  {
   "attachments": {},
   "cell_type": "markdown",
   "metadata": {},
   "source": [
    "\n",
    "## **Tuples are used to avoid even accidental change**"
   ]
  },
  {
   "attachments": {},
   "cell_type": "markdown",
   "metadata": {},
   "source": [
    "### **Tuple Varieties**"
   ]
  },
  {
   "cell_type": "code",
   "execution_count": 56,
   "metadata": {},
   "outputs": [
    {
     "name": "stdout",
     "output_type": "stream",
     "text": [
      "((1, 2, 3), (3, 4, 5))\n"
     ]
    }
   ],
   "source": [
    "tup_1=(1,2,3)\n",
    "tup_2=(3,4,5)\n",
    "tup_3=(tup_1,tup_2)\n",
    "print(tup_3)"
   ]
  },
  {
   "attachments": {},
   "cell_type": "markdown",
   "metadata": {},
   "source": [
    "## **Can you print all elements of a tuple in one line**"
   ]
  },
  {
   "cell_type": "code",
   "execution_count": 62,
   "metadata": {},
   "outputs": [
    {
     "name": "stdout",
     "output_type": "stream",
     "text": [
      "(1, 2, 3) (3, 4, 5)\n",
      "2 3 4\n"
     ]
    },
    {
     "ename": "SyntaxError",
     "evalue": "can't use starred expression here (2443719553.py, line 3)",
     "output_type": "error",
     "traceback": [
      "\u001b[0;36m  Cell \u001b[0;32mIn[62], line 3\u001b[0;36m\u001b[0m\n\u001b[0;31m    a,b,c=*[2,3,4]\u001b[0m\n\u001b[0m          ^\u001b[0m\n\u001b[0;31mSyntaxError\u001b[0m\u001b[0;31m:\u001b[0m can't use starred expression here\n"
     ]
    }
   ],
   "source": [
    "print(*tup_3)\n",
    "print(*[2,3,4])"
   ]
  },
  {
   "cell_type": "code",
   "execution_count": 66,
   "metadata": {},
   "outputs": [
    {
     "name": "stdout",
     "output_type": "stream",
     "text": [
      "(('Ram', 'M'), ('Geeta', 'F'), ('Raja', 'M'), ('Ramya', 'F'))\n"
     ]
    }
   ],
   "source": [
    "name=(\"Ram\",\"Geeta\",\"Raja\",\"Ramya\")\n",
    "gender=(\"M\",\"F\",\"M\",\"F\")\n",
    "\n",
    "mapped=()\n",
    "for i in range(len(name)):\n",
    "    mapped+=((name[i],gender[i]),)\n",
    "print(mapped)"
   ]
  }
 ],
 "metadata": {
  "kernelspec": {
   "display_name": "Python 3",
   "language": "python",
   "name": "python3"
  },
  "language_info": {
   "codemirror_mode": {
    "name": "ipython",
    "version": 3
   },
   "file_extension": ".py",
   "mimetype": "text/x-python",
   "name": "python",
   "nbconvert_exporter": "python",
   "pygments_lexer": "ipython3",
   "version": "3.11.1"
  },
  "orig_nbformat": 4,
  "vscode": {
   "interpreter": {
    "hash": "aee8b7b246df8f9039afb4144a1f6fd8d2ca17a180786b69acc140d282b71a49"
   }
  }
 },
 "nbformat": 4,
 "nbformat_minor": 2
}
