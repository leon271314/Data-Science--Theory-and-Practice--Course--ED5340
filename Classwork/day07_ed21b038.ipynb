{
 "cells": [
  {
   "attachments": {},
   "cell_type": "markdown",
   "metadata": {},
   "source": [
    "Tuple unpacking is very important and useful"
   ]
  },
  {
   "cell_type": "code",
   "execution_count": 5,
   "metadata": {},
   "outputs": [
    {
     "name": "stdout",
     "output_type": "stream",
     "text": [
      "(('Ram', 'M'), ('Geeta', 'F'), ('Raja', 'M'), ('Ramya', 'F'))\n"
     ]
    }
   ],
   "source": [
    "name=(\"Ram\",\"Geeta\",\"Raja\",\"Ramya\")\n",
    "gender=(\"M\",\"F\",\"M\",\"F\")\n",
    "\n",
    "mapped=()\n",
    "for i in range(len(name)):\n",
    "    mapped+=((name[i],gender[i]),)\n",
    "print(mapped)"
   ]
  },
  {
   "attachments": {},
   "cell_type": "markdown",
   "metadata": {},
   "source": [
    "We use a zip function to do the same function above: zip()<br />\n",
    "Zip function returns an iterator of tuples <br />"
   ]
  },
  {
   "cell_type": "code",
   "execution_count": 15,
   "metadata": {},
   "outputs": [
    {
     "name": "stdout",
     "output_type": "stream",
     "text": [
      "<class 'zip'>\n",
      "('Ram', 'M') ('Geeta', 'F') ('Raja', 'M') ('Ramya', 'F')\n",
      "Ram M\n",
      "Geeta F\n",
      "Raja M\n",
      "Ramya F\n"
     ]
    }
   ],
   "source": [
    "zipped=zip(name,gender)\n",
    "\n",
    "print(type(zipped))\n",
    "print(*zipped)\n",
    "zipped=zip(name,gender)\n",
    "for i in zipped:\n",
    "    print(*i)\n",
    "#print(tuple(zipped))"
   ]
  },
  {
   "attachments": {},
   "cell_type": "markdown",
   "metadata": {},
   "source": [
    "Iterator is like a linked list. We have a next structure and we can just keep on iterating. Iterator is very similar to pointers and this works like a linked list only."
   ]
  },
  {
   "attachments": {},
   "cell_type": "markdown",
   "metadata": {},
   "source": [
    "'*' ite prints every tuple though. It behaves like an iterator and prints when put inside print <br />\n",
    "'*' kind of means like all in python. It iterates through all of it."
   ]
  },
  {
   "cell_type": "code",
   "execution_count": null,
   "metadata": {},
   "outputs": [],
   "source": [
    "__next__(): #Double underscore is called dunderscore. There's a lot of dunderscore in python. Check out how these work."
   ]
  },
  {
   "attachments": {},
   "cell_type": "markdown",
   "metadata": {},
   "source": [
    "### Matrices"
   ]
  },
  {
   "cell_type": "code",
   "execution_count": 18,
   "metadata": {},
   "outputs": [
    {
     "name": "stdout",
     "output_type": "stream",
     "text": [
      "[[1, 2, 3], [3, 4, 5]]\n",
      "[1, 2, 3] [3, 4, 5]\n",
      "<zip object at 0x10cb508c0>\n",
      "(1, 3) (2, 4) (3, 5)\n",
      "(1, 3) (2, 4) (3, 5)\n"
     ]
    }
   ],
   "source": [
    "mat1=[[1,2,3],[3,4,5]]\n",
    "print(mat1)\n",
    "print(*mat1)\n",
    "mat2=zip(mat1[0],mat1[1])\n",
    "mat3=zip(*mat1)\n",
    "print(mat2)\n",
    "print(*mat2)# This is basically the transpose of the original matrix\n",
    "print(*mat3)"
   ]
  },
  {
   "cell_type": "code",
   "execution_count": 21,
   "metadata": {},
   "outputs": [
    {
     "name": "stdout",
     "output_type": "stream",
     "text": [
      "1 3\t2 4\t3 5\t"
     ]
    }
   ],
   "source": [
    "for i in zip(*mat1):\n",
    "    print(*i,end='\\t')"
   ]
  },
  {
   "cell_type": "code",
   "execution_count": 41,
   "metadata": {},
   "outputs": [
    {
     "name": "stdout",
     "output_type": "stream",
     "text": [
      "[[12, 14, 16], [16, 18, 20]]\n"
     ]
    }
   ],
   "source": [
    "a=[[11,12,13],[13,14,15]]\n",
    "b=[[sum(k) for k in zip(*i)] for i in zip(a,mat1)]\n",
    "print(b)"
   ]
  },
  {
   "attachments": {},
   "cell_type": "markdown",
   "metadata": {},
   "source": [
    "#### **HW: Perform element by element multiplication,division and other operations**"
   ]
  },
  {
   "attachments": {},
   "cell_type": "markdown",
   "metadata": {},
   "source": [
    "# **SETS**\n",
    "Set is a collection is dissimilar data types using curly brackets. It is like a mathematical operation."
   ]
  },
  {
   "attachments": {},
   "cell_type": "markdown",
   "metadata": {},
   "source": [
    "Only unique elements are present in it.<br />\n",
    "* It is an unordered collection. Can't be indexed or sliced.\n",
    "* Entire set or each element can be printed.\n",
    "* Set is an iterable.\n",
    "* We can convert a list or a tuple into set.\n",
    "* Set is mutable. We can add into same set but we can't use indexing to change\n",
    "* frozenset() makes it immutable\n",
    "* 2 sets can't be concatenated\n",
    "* Searching and sorting"
   ]
  },
  {
   "attachments": {},
   "cell_type": "markdown",
   "metadata": {},
   "source": [
    "Set is a function"
   ]
  },
  {
   "cell_type": "code",
   "execution_count": 46,
   "metadata": {},
   "outputs": [
    {
     "name": "stdout",
     "output_type": "stream",
     "text": [
      "{1, 2, 3, 4, 5}\n",
      "{50, 20, 40, 10, 30}\n",
      "50\n",
      "20\n",
      "40\n",
      "10\n",
      "30\n"
     ]
    }
   ],
   "source": [
    "setA={1,2,3,4,5,5}\n",
    "print(setA)\n",
    "setB={10,20,30,40,50}\n",
    "print(setB)\n",
    "\n",
    "#The order of elements changes when it is outputted.\n",
    "\n",
    "for i in setB:\n",
    "    print(i)"
   ]
  },
  {
   "attachments": {},
   "cell_type": "markdown",
   "metadata": {},
   "source": [
    "### ****"
   ]
  },
  {
   "cell_type": "code",
   "execution_count": null,
   "metadata": {},
   "outputs": [],
   "source": []
  }
 ],
 "metadata": {
  "kernelspec": {
   "display_name": "Python 3",
   "language": "python",
   "name": "python3"
  },
  "language_info": {
   "codemirror_mode": {
    "name": "ipython",
    "version": 3
   },
   "file_extension": ".py",
   "mimetype": "text/x-python",
   "name": "python",
   "nbconvert_exporter": "python",
   "pygments_lexer": "ipython3",
   "version": "3.11.1"
  },
  "orig_nbformat": 4,
  "vscode": {
   "interpreter": {
    "hash": "aee8b7b246df8f9039afb4144a1f6fd8d2ca17a180786b69acc140d282b71a49"
   }
  }
 },
 "nbformat": 4,
 "nbformat_minor": 2
}
