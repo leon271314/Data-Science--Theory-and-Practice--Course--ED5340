{
 "cells": [
  {
   "attachments": {},
   "cell_type": "markdown",
   "metadata": {},
   "source": [
    "# **Functions**\n",
    "* We are making user defined functions\n",
    "* Another type of calling functions\n",
    "* **call** is what we use to tell about calling a function\n",
    "* no function prototyping\n",
    "<br />\n",
    "<br />\n",
    "\n",
    "```python\n",
    "def function_name(arguments):\n",
    "    statements\n",
    "    return multiple_data\n",
    "```"
   ]
  },
  {
   "cell_type": "code",
   "execution_count": 1,
   "metadata": {},
   "outputs": [
    {
     "name": "stdout",
     "output_type": "stream",
     "text": [
      "15\n"
     ]
    }
   ],
   "source": [
    "def cal_sum(x,y):\n",
    "    s=(x+y)\n",
    "    return s\n",
    "a=10\n",
    "b=5\n",
    "su=cal_sum(10,5)#calling the function. We pass the parameters too\n",
    "print(su)"
   ]
  },
  {
   "cell_type": "code",
   "execution_count": 8,
   "metadata": {},
   "outputs": [
    {
     "name": "stdout",
     "output_type": "stream",
     "text": [
      "('sum', 30) ('diff', -10) ('prod', 200) ('div', 0.5)\n"
     ]
    }
   ],
   "source": [
    "def arith_op(x,y):\n",
    "    return x+y,x-y,x*y,x/y\n",
    "print(*zip((\"sum\",\"diff\",\"prod\",\"div\"),arith_op(10,20)))"
   ]
  },
  {
   "attachments": {},
   "cell_type": "markdown",
   "metadata": {},
   "source": [
    "### Positional and Keyword Arguement\n",
    "* **Positional Arguement**<br />\n",
    "```python\n",
    "    def function(a,b,c):\n",
    "        return (a+b+c)\n",
    "    print(function(2,3,4))\n",
    "```\n",
    "        \n",
    "    a is assigned to 2, b is assigned to 3 and c is assigned to 4. It is corresponding assignment"
   ]
  },
  {
   "cell_type": "code",
   "execution_count": 10,
   "metadata": {},
   "outputs": [
    {
     "ename": "TypeError",
     "evalue": "can only concatenate str (not \"int\") to str",
     "output_type": "error",
     "traceback": [
      "\u001b[0;31m---------------------------------------------------------------------------\u001b[0m",
      "\u001b[0;31mTypeError\u001b[0m                                 Traceback (most recent call last)",
      "Cell \u001b[0;32mIn[10], line 3\u001b[0m\n\u001b[1;32m      1\u001b[0m \u001b[39mdef\u001b[39;00m \u001b[39mfn\u001b[39m(i,f,\u001b[39mstr\u001b[39m):\n\u001b[1;32m      2\u001b[0m     \u001b[39mprint\u001b[39m(i\u001b[39m+\u001b[39mf)\n\u001b[0;32m----> 3\u001b[0m fn(\u001b[39m\"\u001b[39;49m\u001b[39mhello\u001b[39;49m\u001b[39m\"\u001b[39;49m,\u001b[39m10\u001b[39;49m,\u001b[39m5.5\u001b[39;49m)\n\u001b[1;32m      4\u001b[0m \u001b[39m# As we see here non matching data types don't work here and causes an error.\u001b[39;00m\n\u001b[1;32m      5\u001b[0m \u001b[39m#Function is called but inside there's a computing error\u001b[39;00m\n",
      "Cell \u001b[0;32mIn[10], line 2\u001b[0m, in \u001b[0;36mfn\u001b[0;34m(i, f, str)\u001b[0m\n\u001b[1;32m      1\u001b[0m \u001b[39mdef\u001b[39;00m \u001b[39mfn\u001b[39m(i,f,\u001b[39mstr\u001b[39m):\n\u001b[0;32m----> 2\u001b[0m     \u001b[39mprint\u001b[39m(i\u001b[39m+\u001b[39;49mf)\n",
      "\u001b[0;31mTypeError\u001b[0m: can only concatenate str (not \"int\") to str"
     ]
    }
   ],
   "source": [
    "def fn(i,f,str):\n",
    "    print(i+f)\n",
    "fn(\"hello\",10,5.5)\n",
    "# As we see here non matching data types don't work here and causes an error.\n",
    "#Function is called but inside there's a computing error"
   ]
  },
  {
   "attachments": {},
   "cell_type": "markdown",
   "metadata": {},
   "source": [
    "#### **This is a keyword arguement**\n",
    "```python\n",
    "    fn(str=\"Hello\",f=10.5,i=5)\n",
    "    #Here it works even though though the order is changed.\n",
    "    #We are using the identifier name when using ketword arguements\n",
    "    #order isn't important in keyword arguements\n",
    "    #we can pretty much pass any data types in as arguements\n",
    "```"
   ]
  },
  {
   "cell_type": "code",
   "execution_count": 12,
   "metadata": {},
   "outputs": [
    {
     "name": "stdout",
     "output_type": "stream",
     "text": [
      "15.5\n"
     ]
    }
   ],
   "source": [
    "def fn(f,i,str):\n",
    "    print(i+f)\n",
    "fn(str=\"Hello\",f=10.5,i=5)\n",
    "#Here it works even though though the order is changed."
   ]
  },
  {
   "attachments": {},
   "cell_type": "markdown",
   "metadata": {},
   "source": [
    "**We have only done positional or keyword arguements upto now. We can also do a combination of both<br />**\n",
    "- Rule is starting with positional arguements and then doing keyword arguements\n",
    "```python\n",
    "def fn(f,i,str):\n",
    "    print(f+i)\n",
    "fn(str=\"Hello\",1,2)\n",
    "```"
   ]
  },
  {
   "cell_type": "code",
   "execution_count": 15,
   "metadata": {},
   "outputs": [
    {
     "name": "stdout",
     "output_type": "stream",
     "text": [
      "3\n",
      "9\n"
     ]
    }
   ],
   "source": [
    "def fn(f,i,str,f1):\n",
    "    print(f+i)\n",
    "    print(f1-f)\n",
    "fn(1,2,f1=10,str=\"Hello\")"
   ]
  },
  {
   "cell_type": "code",
   "execution_count": 6,
   "metadata": {},
   "outputs": [
    {
     "name": "stdout",
     "output_type": "stream",
     "text": [
      "True\n",
      "False\n"
     ]
    }
   ],
   "source": [
    "def torf(cond=True):\n",
    "    if cond==True:\n",
    "        print(\"True\")\n",
    "    else:\n",
    "        print(\"False\")\n",
    "torf(True)\n",
    "torf(False)"
   ]
  }
 ],
 "metadata": {
  "kernelspec": {
   "display_name": "Python 3",
   "language": "python",
   "name": "python3"
  },
  "language_info": {
   "codemirror_mode": {
    "name": "ipython",
    "version": 3
   },
   "file_extension": ".py",
   "mimetype": "text/x-python",
   "name": "python",
   "nbconvert_exporter": "python",
   "pygments_lexer": "ipython3",
   "version": "3.11.1"
  },
  "orig_nbformat": 4,
  "vscode": {
   "interpreter": {
    "hash": "aee8b7b246df8f9039afb4144a1f6fd8d2ca17a180786b69acc140d282b71a49"
   }
  }
 },
 "nbformat": 4,
 "nbformat_minor": 2
}
