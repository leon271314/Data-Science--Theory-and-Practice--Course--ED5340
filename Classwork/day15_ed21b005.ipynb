{
 "cells": [
  {
   "attachments": {},
   "cell_type": "markdown",
   "metadata": {},
   "source": [
    "## **Multiple Inheritance and Multi-level Inheritance**\n",
    "---\n",
    "\n",
    "The name of the derived class can be used to access the data of the base class."
   ]
  },
  {
   "cell_type": "code",
   "execution_count": null,
   "metadata": {},
   "outputs": [
    {
     "name": "stdout",
     "output_type": "stream",
     "text": [
      "Hello\n",
      "Inside base class\n",
      "Hello World\n"
     ]
    }
   ],
   "source": [
    "class Base:\n",
    "    def __init__(self,name):\n",
    "        self.name=name\n",
    "        print(\"Hello\")\n",
    "    def println(self):\n",
    "        print(\"Inside base class\")\n",
    "        print(self.name)\n",
    "class Derived(Base):\n",
    "    #def __init__(self,name):\n",
    "        #super().__init__(name)\n",
    "    def println(self):\n",
    "        Base.println(self)\n",
    "x=Derived(\"Hello World\")\n",
    "x.println()\n"
   ]
  },
  {
   "attachments": {},
   "cell_type": "markdown",
   "metadata": {},
   "source": [
    "But calling Derived.name doesn't work. We aren't able to call it as a function from the derived class even though it is a multilevel.\n",
    "Is it because self.name is a local a local variable within the function and isn't part of the scope of the function.\n",
    "\n",
    "We always need an object to access the corresponding function name.\n",
    "\n",
    "We should declare data.name outside the functions(methods) and make it a class variable.\n",
    "\n",
    "So we basically can't use name of the class to access the data."
   ]
  },
  {
   "cell_type": "code",
   "execution_count": 2,
   "metadata": {},
   "outputs": [
    {
     "name": "stdout",
     "output_type": "stream",
     "text": [
      "Hello\n"
     ]
    },
    {
     "ename": "AttributeError",
     "evalue": "type object 'Derived' has no attribute 'name'",
     "output_type": "error",
     "traceback": [
      "\u001b[0;31m---------------------------------------------------------------------------\u001b[0m",
      "\u001b[0;31mAttributeError\u001b[0m                            Traceback (most recent call last)",
      "Cell \u001b[0;32mIn[2], line 14\u001b[0m\n\u001b[1;32m     12\u001b[0m     \u001b[39mdef\u001b[39;00m \u001b[39mprintln\u001b[39m(\u001b[39mself\u001b[39m):\n\u001b[1;32m     13\u001b[0m         Base\u001b[39m.\u001b[39mprintln(\u001b[39mself\u001b[39m)\n\u001b[0;32m---> 14\u001b[0m x\u001b[39m=\u001b[39mDerived(\u001b[39m\"\u001b[39;49m\u001b[39mHello World\u001b[39;49m\u001b[39m\"\u001b[39;49m)\n\u001b[1;32m     15\u001b[0m x\u001b[39m.\u001b[39mprintln()\n",
      "Cell \u001b[0;32mIn[2], line 11\u001b[0m, in \u001b[0;36mDerived.__init__\u001b[0;34m(self, name)\u001b[0m\n\u001b[1;32m      9\u001b[0m \u001b[39mdef\u001b[39;00m \u001b[39m__init__\u001b[39m(\u001b[39mself\u001b[39m,name):\n\u001b[1;32m     10\u001b[0m     \u001b[39msuper\u001b[39m()\u001b[39m.\u001b[39m\u001b[39m__init__\u001b[39m(name)\n\u001b[0;32m---> 11\u001b[0m     \u001b[39mprint\u001b[39m(Derived\u001b[39m.\u001b[39;49mname)\n",
      "\u001b[0;31mAttributeError\u001b[0m: type object 'Derived' has no attribute 'name'"
     ]
    }
   ],
   "source": [
    "class Base:\n",
    "    def __init__(self,name):\n",
    "        self.name=name\n",
    "        print(\"Hello\")\n",
    "    def println(self):\n",
    "        print(\"Inside base class\")\n",
    "        print(self.name)\n",
    "class Derived(Base):\n",
    "    def __init__(self,name):\n",
    "        super().__init__(name)\n",
    "        print(Derived.name)\n",
    "    def println(self):\n",
    "        Base.println(self)\n",
    "x=Derived(\"Hello World\")\n",
    "x.println()\n"
   ]
  },
  {
   "attachments": {},
   "cell_type": "markdown",
   "metadata": {},
   "source": [
    "---"
   ]
  },
  {
   "attachments": {},
   "cell_type": "markdown",
   "metadata": {},
   "source": [
    "# **File Handling**"
   ]
  },
  {
   "attachments": {},
   "cell_type": "markdown",
   "metadata": {},
   "source": [
    "```python\n",
    "f=open(\"filename\",\"mode\")\n",
    "```\n",
    "**Examples**\n",
    "```\n",
    "f=open(\"messages.txt\",\"r\")\n",
    "f=open(\"messages.txt\",\"w\")\n",
    "f=open(\"messages.txt\",\"a\")\n",
    "```\n",
    "`We can also open files in binary mode ie read binary data`\n",
    "\n",
    "```python\n",
    "msg1=\"Hello World\"\n",
    "f=open(\"msgs.txt\",\"w\")\n",
    "f.write(msg1)\n",
    "f.close()\n",
    "```\n",
    "`This creates and writes the file called msgs.txt and puts the message into it and then closes it`"
   ]
  },
  {
   "cell_type": "code",
   "execution_count": 1,
   "metadata": {},
   "outputs": [],
   "source": [
    "msg1=\"Hello World\"\n",
    "f=open(\"msgs.txt\",\"w\")\n",
    "f.write(msg1)\n",
    "f.close()"
   ]
  },
  {
   "cell_type": "code",
   "execution_count": 33,
   "metadata": {},
   "outputs": [
    {
     "name": "stdout",
     "output_type": "stream",
     "text": [
      "SPGIBKXNLJOJEOBHJHRP\n",
      "\n",
      "BSOUQCLEMVFVOTSERKOC\n",
      "\n",
      "NAPFPHBTNIVLHMAGLVNU\n",
      "\n",
      "\n",
      "S\n",
      "<class 'str'>\n",
      "['SPGIBKXNLJOJEOBHJHRPBSOUQCLEMVFVOTSERKOCNAPFPHBTNIVLHMAGLVNU']\n",
      "SPGIBKXNLJOJEOBHJHRPBSOUQCLEMVFVOTSERKOCNAPFPHBTNIVLHMAGLVNU\n"
     ]
    }
   ],
   "source": [
    "import random\n",
    "random.seed(10)\n",
    "l1=''\n",
    "l2=''\n",
    "l3=''\n",
    "for i in range(20):\n",
    "    l1+=str(chr(random.randint(65,88)))\n",
    "    l2+=str(chr(random.randint(65,88)))\n",
    "    l3+=str(chr(random.randint(65,88)))\n",
    "f=open(\"messages.txt\",'w')\n",
    "l1+='\\n'\n",
    "l2+='\\n'\n",
    "l3+='\\n'\n",
    "f.write(l1+'\\n')\n",
    "f.write(l2+'\\n')\n",
    "f.write(l3+'\\n')\n",
    "f.close()\n",
    "\n",
    "f=open(\"messages.txt\",'r')\n",
    "data=f.read()\n",
    "print(data)\n",
    "print(data[0])\n",
    "print(type(data))\n",
    "f.close()\n",
    "\n",
    "f=open(\"msgs.txt\",'r')\n",
    "data=f.readlines()#returns a list\n",
    "print(data)\n",
    "f.close()\n",
    "\n",
    "f=open(\"msgs.txt\",'r')\n",
    "data=f.readline()#returns a list\n",
    "print(data)\n",
    "f.close()"
   ]
  },
  {
   "attachments": {},
   "cell_type": "markdown",
   "metadata": {},
   "source": [
    "```python\n",
    "writelines : Write onto a file as a list. We can send in a list and write into the file\n",
    "```"
   ]
  },
  {
   "cell_type": "code",
   "execution_count": 34,
   "metadata": {},
   "outputs": [
    {
     "name": "stdout",
     "output_type": "stream",
     "text": [
      "SPGIBKXNLJOJEOBHJHRP\n",
      "BSOUQCLEMVFVOTSERKOC\n",
      "NAPFPHBTNIVLHMAGLVNU\n",
      "\n"
     ]
    }
   ],
   "source": [
    "L=[l1,l2,l3]\n",
    "f=open(\"msgs.txt\",'w')\n",
    "f.writelines(L)#Writes all strings in the list onto one line. New line character doesn't come.\n",
    "f.close()\n",
    "\n",
    "f=open(\"msgs.txt\",'r')\n",
    "data=f.read()\n",
    "print(data)\n",
    "f.close()\n"
   ]
  },
  {
   "attachments": {},
   "cell_type": "markdown",
   "metadata": {},
   "source": [
    "```python\n",
    "seek()\n",
    "```\n",
    "It seeks the cursor at the point we want it to be at.\n",
    "```python\n",
    "f.seek(0)- Seeks the 0th value\n",
    "seek(offset,reference)\n",
    "reference can take 0,1,2: 0- Beginning, 1-current position, 2-EOF\n",
    "f.seek(-15,2)- 15 positions from the eof(to the left)\n",
    "f.seek(0,2)- 2 positions from the start\n",
    "```"
   ]
  },
  {
   "attachments": {},
   "cell_type": "markdown",
   "metadata": {},
   "source": [
    "```python\n",
    "with open(\"filename\",\"mode\") as variable_name:\n",
    "    statements and functions\n",
    "```\n",
    "This works without a close statements as it automatically closes once it comes out of the indentation"
   ]
  },
  {
   "cell_type": "code",
   "execution_count": 32,
   "metadata": {},
   "outputs": [
    {
     "name": "stdout",
     "output_type": "stream",
     "text": [
      "SPGIBKXNLJOJEOBHJHRPBSOUQCLEMVFVOTSERKOCNAPFPHBTNIVLHMAGLVNU\n"
     ]
    }
   ],
   "source": [
    "with open(\"msgs.txt\",'r') as f:\n",
    "    data=f.read()\n",
    "    print(data)"
   ]
  },
  {
   "attachments": {},
   "cell_type": "markdown",
   "metadata": {},
   "source": [
    "# **Try using os library**\n",
    "Avaliable on his website:\n",
    "https://github.com/emry001/ED5340_DataScience<br/>\n",
    "What is the purpose of .joint() function. It is a member function<br/>\n",
    "Checking if a class is a subclass or not. Use issubclass()."
   ]
  }
 ],
 "metadata": {
  "kernelspec": {
   "display_name": "Python 3",
   "language": "python",
   "name": "python3"
  },
  "language_info": {
   "codemirror_mode": {
    "name": "ipython",
    "version": 3
   },
   "file_extension": ".py",
   "mimetype": "text/x-python",
   "name": "python",
   "nbconvert_exporter": "python",
   "pygments_lexer": "ipython3",
   "version": "3.11.1"
  },
  "orig_nbformat": 4,
  "vscode": {
   "interpreter": {
    "hash": "aee8b7b246df8f9039afb4144a1f6fd8d2ca17a180786b69acc140d282b71a49"
   }
  }
 },
 "nbformat": 4,
 "nbformat_minor": 2
}
