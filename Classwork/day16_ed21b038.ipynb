{
 "cells": [
  {
   "cell_type": "code",
   "execution_count": 9,
   "metadata": {},
   "outputs": [],
   "source": [
    "import csv"
   ]
  },
  {
   "attachments": {},
   "cell_type": "markdown",
   "metadata": {},
   "source": [
    "2 March 2023\n",
    "\n",
    "# **CSV Files**\n",
    "---\n",
    "\n",
    "We can open a text file also in csv format.<br/>\n",
    "We should `import csv` before using it.<br/>\n",
    "```python\n",
    "csv.reader(\"Filename\",delimiter=',')\n",
    "```\n",
    "Delimiter is the symbol which is used to separate each type of data"
   ]
  },
  {
   "cell_type": "code",
   "execution_count": 10,
   "metadata": {},
   "outputs": [],
   "source": [
    "with open(\"text.txt\") as csvfile:\n",
    "    csv_reader=csv.reader(csvfile,delimiter=',')\n",
    "    details=[]\n",
    "    for i in csv_reader:\n",
    "        details+=[i]\n",
    "    details=details[1:]\n"
   ]
  },
  {
   "cell_type": "code",
   "execution_count": 11,
   "metadata": {},
   "outputs": [
    {
     "name": "stdout",
     "output_type": "stream",
     "text": [
      "\n",
      "['0', '1', '2', '3', '4'] ['0', '1', '2', '3', '4']\n"
     ]
    }
   ],
   "source": [
    "with open(\"text.txt\") as csv_file:\n",
    "    csv_reader=csv.reader(csv_file)\n",
    "    x=[]\n",
    "    y=[]\n",
    "    line_count=0\n",
    "    for row in csv_reader:\n",
    "        if line_count==0:\n",
    "            print()\n",
    "        else:\n",
    "            x+=row[0]\n",
    "            y+=row[1]\n",
    "        line_count+=1\n",
    "print(x,y)"
   ]
  },
  {
   "attachments": {},
   "cell_type": "markdown",
   "metadata": {},
   "source": [
    "---\n",
    "## **NumPy**\n",
    "- Numberical Python\n",
    "- Arrays (similar to list but around 50 times faster)\n",
    "- Contiguous memory location(\"C\" concept of arrays)\n",
    "- Access and manipulate easier\n",
    "- Written in C/C++\n",
    "- ndarray object\n",
    "- import numpy as np"
   ]
  },
  {
   "attachments": {},
   "cell_type": "markdown",
   "metadata": {},
   "source": [
    "- Create arrays of any dimension\n",
    "- Array indexing/slicing\n",
    "- Array reshaping\n",
    "- Arange linespace functions\n",
    "- Operation on array"
   ]
  },
  {
   "cell_type": "code",
   "execution_count": 42,
   "metadata": {},
   "outputs": [
    {
     "name": "stdout",
     "output_type": "stream",
     "text": [
      "1.24.2 \n",
      "\n",
      "4383220784\n",
      "4658504304\n",
      "4658504304\n",
      "\n",
      "[1 2 3 4 5] \n",
      "\n",
      "8 (8,)\n",
      "8 (40, 8) \n",
      "\n",
      "3 , (3, 2, 2) , 12 , 8 , (32, 16, 8) , <memory at 0x115b1c7c0>\n",
      "\n",
      "[[ 0  1  2  3  4]\n",
      " [ 5  6  7  8  9]\n",
      " [10 11 12 13 14]]\n"
     ]
    }
   ],
   "source": [
    "import numpy as np\n",
    "print(np.__version__,\"\\n\")\n",
    "\n",
    "arr=np.array([1,2,3,4,5])\n",
    "#This is a 1-D array\n",
    "print(id(arr))\n",
    "print(id(arr[0]))\n",
    "print(id(arr[1]))\n",
    "\n",
    "print()\n",
    "print(arr,\"\\n\")\n",
    "print(arr.itemsize, arr.strides)\n",
    "\n",
    "arr2=np.array([[1,2,3,4,5],[5,6,7,8,8]])\n",
    "print(arr2.itemsize,arr2.strides,'\\n')\n",
    "# This is like bitwise operation. First level of array is of elements\n",
    "# which are arrays of size 5 ie 5*8=40 bytes.capitalize\n",
    "# In the 2nd level, it is a list of 5 elements, each of which is an integer\n",
    "# Thus 2nd level, the size of element is 8. This is what is done in stride.\n",
    "\n",
    "d=np.array([[[1,2],[2,3]],[[1,2],[2,3]],[[1,2],[2,3]]])\n",
    "print(d.ndim,d.shape, d.size, d.itemsize, d.strides, d.data,sep=' , ',end='\\n\\n')\n",
    "\n",
    "e=np.arange(15) # We have numbers from 0 to 15\n",
    "e=e.reshape(3,5) #Reshapes into 3 rows and 5 columns\n",
    "print(e)\n",
    "\n",
    "#We can now do indexing also in this. Everything is applicable, just that it is a numpy array\n"
   ]
  },
  {
   "attachments": {},
   "cell_type": "markdown",
   "metadata": {},
   "source": [
    "We use something called `nd array` which is `n-dimensional` array."
   ]
  },
  {
   "cell_type": "code",
   "execution_count": 43,
   "metadata": {},
   "outputs": [],
   "source": [
    "zeroes = np.zeros((3,5))\n",
    "ones = np.ones((3,5))\n",
    "# Initiates an array with dimensions (3,5) and initiates with zeroes or ones"
   ]
  },
  {
   "cell_type": "code",
   "execution_count": 45,
   "metadata": {},
   "outputs": [
    {
     "name": "stdout",
     "output_type": "stream",
     "text": [
      "[[1. 1. 1. 1. 1.]\n",
      " [1. 1. 1. 1. 1.]\n",
      " [1. 1. 1. 1. 1.]]\n",
      "[[0. 0. 0. 0. 0.]\n",
      " [0. 0. 0. 0. 0.]\n",
      " [0. 0. 0. 0. 0.]]\n"
     ]
    }
   ],
   "source": [
    "print(ones)\n",
    "print(zeroes)"
   ]
  },
  {
   "cell_type": "code",
   "execution_count": 51,
   "metadata": {},
   "outputs": [
    {
     "name": "stdout",
     "output_type": "stream",
     "text": [
      "[0.         0.55555556 1.11111111 1.66666667 2.22222222 2.77777778\n",
      " 3.33333333 3.88888889 4.44444444 5.        ]\n",
      "[0.  0.5 1.  1.5 2.  2.5 3.  3.5 4.  4.5 5. ]\n"
     ]
    }
   ],
   "source": [
    "linsp=np.linspace(0,5,10)\n",
    "ar=np.arange(0,5.1,0.5)\n",
    "# We get values from 0 to 10 and linearly space it into 10 values unlike arange which is basically just range\n",
    "print(linsp)\n",
    "print(ar)"
   ]
  }
 ],
 "metadata": {
  "kernelspec": {
   "display_name": "Python 3",
   "language": "python",
   "name": "python3"
  },
  "language_info": {
   "codemirror_mode": {
    "name": "ipython",
    "version": 3
   },
   "file_extension": ".py",
   "mimetype": "text/x-python",
   "name": "python",
   "nbconvert_exporter": "python",
   "pygments_lexer": "ipython3",
   "version": "3.11.1"
  },
  "orig_nbformat": 4
 },
 "nbformat": 4,
 "nbformat_minor": 2
}
