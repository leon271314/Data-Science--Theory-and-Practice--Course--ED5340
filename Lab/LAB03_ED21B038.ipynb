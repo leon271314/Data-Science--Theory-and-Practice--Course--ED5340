{
 "cells": [
  {
   "attachments": {},
   "cell_type": "markdown",
   "metadata": {},
   "source": [
    "### 1.   Find out the applicable methods for the list but not tuples. List them out."
   ]
  },
  {
   "attachments": {},
   "cell_type": "markdown",
   "metadata": {},
   "source": [
    "### **Answer**\n",
    "* **list.sort()**: sorts the list and changes the list to a sorted version of itself.<br /> tuple.sort() on the other hand gives back an error\n",
    "* **list.clear()**: empties the whole list and changes it to an empty list.<br /> tuple.clear() again returns an error\n",
    "* **list.remove() and list.pop()**:When we want to remove one element from the list, we can use list.remove(element) or list.pop(index). Using it on a tuple again results in an error.\n",
    "* **list.extend()**: adds iterable elements to the end of the list while tuple.extend() again doesnt work\n",
    "* **list.insert()**: is used to insert an element in a particular index while it doesnt work on tuples\n"
   ]
  },
  {
   "attachments": {},
   "cell_type": "markdown",
   "metadata": {},
   "source": [
    "### 2.   Write a code snippet in Python that takes a string as input and returns a tuple of tuples. Each inner tuple should contain a character from the input string and its corresponding ASCII value.\n",
    "<br /><br />\n",
    "Sample example: Input_string = \"Hello\"<br/>\n",
    "Output_tuple = (('H', 72), ('e', 101), ('l', 108), ('l', 108), ('o', 111))"
   ]
  },
  {
   "cell_type": "code",
   "execution_count": 17,
   "metadata": {},
   "outputs": [
    {
     "name": "stdout",
     "output_type": "stream",
     "text": [
      "Input_string = 'Hello'\n",
      "Output_tuple = (('H', 72), ('e', 101), ('l', 108), ('l', 108), ('o', 111))\n"
     ]
    }
   ],
   "source": [
    "input_str=input(\"Enter an input string\")\n",
    "print(f\"Input_string = '{input_str}'\")\n",
    "output_tuple=()\n",
    "for i in input_str:\n",
    "    output_tuple+=((i,ord(i)),)\n",
    "print(f\"Output_tuple = {output_tuple}\")"
   ]
  },
  {
   "attachments": {},
   "cell_type": "markdown",
   "metadata": {},
   "source": [
    "### 3. Create a program that takes a list of tuples containing student name and roll number and returns a new list of tuples containing only those tuples whose first element is a vowel (a, e, i, o, u, A, E, I, O, U).\n",
    "\n",
    "Sample example: list_of_tuples = [(\"ananya\", 1), (\"Tanvi\", 2)]\n",
    "<br />Output_list_of_tuples = [(\"ananya\", 1)]"
   ]
  },
  {
   "cell_type": "code",
   "execution_count": 19,
   "metadata": {},
   "outputs": [
    {
     "name": "stdout",
     "output_type": "stream",
     "text": [
      "list_of_tuples = [('ananya', 1), ('Tanvi', 2)]\n",
      "Output_list_of_tuples = [('ananya', 1)]\n"
     ]
    }
   ],
   "source": [
    "list_of_tuples=eval(input(\"Enter a list of tuples of the format[(name,roll_no)]\"))\n",
    "#eval function evaluates an expression(string) and gives an evaluated result. So here using list brackets while inputting the data along with tuple brackets makes it interpret it as a list of tuples\n",
    "\n",
    "#print(list_of_tuples,type(list_of_tuples),type(list_of_tuples[0]))\n",
    "\n",
    "print(f\"list_of_tuples = {list_of_tuples}\")\n",
    "new_list=[]\n",
    "for i in list_of_tuples:\n",
    "    if i[0][0].lower() in ['a','e','i','o','u']:\n",
    "        new_list.append((i[0],i[1]))\n",
    "print(f\"Output_list_of_tuples = {new_list}\")"
   ]
  },
  {
   "attachments": {},
   "cell_type": "markdown",
   "metadata": {},
   "source": [
    "### 4. WAP with both ways:  \n",
    "\n",
    "(i) Without using Zip but use list comprehension<br />\n",
    "<br />\n",
    "a)    For two matrices of size 4X4 each, perform matrix addition, subtraction, trace, transpose and scalar multiplication. <br />\n",
    "b)    For a given matrix, perform row-wise operations such as row addition and column addition.<br /><br />\n",
    "(ii) Using Zip ()<br />\n",
    "\n",
    "a)  For two matrices of size 4X4 each, perform matrix addition, subtraction, trace, transpose and scalar multiplication. "
   ]
  },
  {
   "cell_type": "code",
   "execution_count": 41,
   "metadata": {},
   "outputs": [],
   "source": [
    "mat_1=[[j for j in range(4*i,4*(i+1))] for i in range(0,4)]\n",
    "mat_2=[[j*10 for j in range(4*i,4*(i+1))] for i in range(0,4)]"
   ]
  },
  {
   "cell_type": "code",
   "execution_count": 42,
   "metadata": {},
   "outputs": [
    {
     "name": "stdout",
     "output_type": "stream",
     "text": [
      "With List Comprehenesion\n",
      "0 1 2 3 \n",
      "4 5 6 7 \n",
      "8 9 10 11 \n",
      "12 13 14 15 \n",
      "\n",
      "0 10 20 30 \n",
      "40 50 60 70 \n",
      "80 90 100 110 \n",
      "120 130 140 150 \n",
      "\n",
      "Matrix addition:\n",
      "0 11 22 33 \n",
      "44 55 66 77 \n",
      "88 99 110 121 \n",
      "132 143 154 165 \n",
      "\n",
      "Matrix subtraction:\n",
      "0 -9 -18 -27 \n",
      "-36 -45 -54 -63 \n",
      "-72 -81 -90 -99 \n",
      "-108 -117 -126 -135 \n",
      "\n",
      "Trace of Matrix 1:30\n",
      "Trace of Matrix 2:300\n",
      "\n",
      "Transpose of Matrix 1:\n",
      "0 4 8 12 \n",
      "1 5 9 13 \n",
      "2 6 10 14 \n",
      "3 7 11 15 \n",
      "\n",
      "Transpose of Matrix 2:\n",
      "0 40 80 120 \n",
      "10 50 90 130 \n",
      "20 60 100 140 \n",
      "30 70 110 150 \n",
      "\n",
      "Scalar Multiplication of Matrix 1:\n",
      "0.0 5.0 10.0 15.0 \n",
      "20.0 25.0 30.0 35.0 \n",
      "40.0 45.0 50.0 55.0 \n",
      "60.0 65.0 70.0 75.0 \n",
      "\n",
      "Scalar Multiplication of Matrix 1:\n",
      "0.0 50.0 100.0 150.0 \n",
      "200.0 250.0 300.0 350.0 \n",
      "400.0 450.0 500.0 550.0 \n",
      "600.0 650.0 700.0 750.0 \n"
     ]
    }
   ],
   "source": [
    "\n",
    "#1a\n",
    "print(\"With List Comprehenesion\")\n",
    "for i in range(4):\n",
    "    for j in range(4):\n",
    "        print(mat_1[i][j],end=' ')\n",
    "    print()\n",
    "print()\n",
    "for i in range(4):\n",
    "    for j in range(4):\n",
    "        print(mat_2[i][j],end=' ')\n",
    "    print()\n",
    "mat_add_1=[[mat_1[i][j]+mat_2[i][j] for j in range(4)] for i in range(4)]\n",
    "mat_sub_1=[[mat_1[i][j]-mat_2[i][j] for j in range(4)] for i in range(4)]\n",
    "trace_1_1=[mat_1[i][i] for i in range(4)]\n",
    "trace_1_2=[mat_2[i][i] for i in range(4)]\n",
    "mat_transpose_11=[[mat_1[j][i] for j in range(4)] for i in range(4)]\n",
    "mat_transpose_12=[[mat_2[j][i] for j in range(4)] for i in range(4)]\n",
    "\n",
    "scalar_factor=float(input(\"Enter factor of scalar multiplication\"))\n",
    "scalar_11=[[mat_1[i][j]*scalar_factor for j in range(4)] for i in range(4)]\n",
    "scalar_12=[[mat_2[i][j]*scalar_factor for j in range(4)] for i in range(4)]\n",
    "\n",
    "print(f\"\\nMatrix addition:\")\n",
    "for i in range(4):\n",
    "    for j in range(4):\n",
    "        print(mat_add_1[i][j],end=' ')\n",
    "    print()\n",
    "print(f\"\\nMatrix subtraction:\")\n",
    "for i in range(4):\n",
    "    for j in range(4):\n",
    "        print(mat_sub_1[i][j],end=' ')\n",
    "    print()\n",
    "print()\n",
    "print(f\"Trace of Matrix 1:{sum(trace_1_1)}\")\n",
    "print(f\"Trace of Matrix 2:{sum(trace_1_2)}\\n\")\n",
    "\n",
    "print(f\"Transpose of Matrix 1:\")\n",
    "for i in range(4):\n",
    "    for j in range(4):\n",
    "        print(mat_transpose_11[i][j],end=' ')\n",
    "    print()\n",
    "print(f\"\\nTranspose of Matrix 2:\")\n",
    "for i in range(4):\n",
    "    for j in range(4):\n",
    "        print(mat_transpose_12[i][j],end=' ')\n",
    "    print()\n",
    "print(f\"\\nScalar Multiplication of Matrix 1:\")\n",
    "for i in range(4):\n",
    "    for j in range(4):\n",
    "        print(scalar_11[i][j],end=' ')\n",
    "    print()\n",
    "print(f\"\\nScalar Multiplication of Matrix 1:\")\n",
    "for i in range(4):\n",
    "    for j in range(4):\n",
    "        print(scalar_12[i][j],end=' ')\n",
    "    print()\n"
   ]
  },
  {
   "cell_type": "code",
   "execution_count": 49,
   "metadata": {},
   "outputs": [
    {
     "name": "stdout",
     "output_type": "stream",
     "text": [
      "Row_wise_addition=[6, 15]\n",
      "Column_wise_addition=[5, 7, 9]\n"
     ]
    }
   ],
   "source": [
    "#1b\n",
    "matrix=[[1,2,3],[4,5,6]]\n",
    "row_wise_addition=[sum(i) for i in matrix]\n",
    "matrix_transpose=[[matrix[j][i] for j in range(2)] for i in range(3)]\n",
    "column_wise_addition=[sum(j) for j in matrix_transpose]\n",
    "print(f\"Row_wise_addition={row_wise_addition}\\nColumn_wise_addition={column_wise_addition}\")"
   ]
  },
  {
   "cell_type": "code",
   "execution_count": 136,
   "metadata": {},
   "outputs": [
    {
     "name": "stdout",
     "output_type": "stream",
     "text": [
      "[(0.0, 5.0, 10.0, 15.0), (20.0, 25.0, 30.0, 35.0), (40.0, 45.0, 50.0, 55.0), (60.0, 65.0, 70.0, 75.0)]\n",
      "\n",
      "\n",
      "Matrix addition:\n",
      "0 11 22 33 \n",
      "44 55 66 77 \n",
      "88 99 110 121 \n",
      "132 143 154 165 \n",
      "\n",
      "Matrix subtraction:\n",
      "0 -9 -18 -27 \n",
      "-36 -45 -54 -63 \n",
      "-72 -81 -90 -99 \n",
      "-108 -117 -126 -135 \n",
      "\n",
      "Trace of Matrix 1:30\n",
      "Trace of Matrix 2:300\n",
      "\n",
      "Transpose of Matrix 1:\n",
      "0 4 8 12 \n",
      "1 5 9 13 \n",
      "2 6 10 14 \n",
      "3 7 11 15 \n",
      "\n",
      "Transpose of Matrix 2:\n",
      "0 40 80 120 \n",
      "10 50 90 130 \n",
      "20 60 100 140 \n",
      "30 70 110 150 \n",
      "\n",
      "Scalar Multiplication of Matrix 1:\n",
      "0.0 5.0 10.0 15.0 \n",
      "20.0 25.0 30.0 35.0 \n",
      "40.0 45.0 50.0 55.0 \n",
      "60.0 65.0 70.0 75.0 \n",
      "\n",
      "Scalar Multiplication of Matrix 1:\n",
      "0.0 50.0 100.0 150.0 \n",
      "200.0 250.0 300.0 350.0 \n",
      "400.0 450.0 500.0 550.0 \n",
      "600.0 650.0 700.0 750.0 \n"
     ]
    }
   ],
   "source": [
    "#2-With zip()\n",
    "\n",
    "mat_add_2=[[sum(j) for j in zip(*i)] for i in zip(mat_1,mat_2)]\n",
    "mat_sub_2=[[j[0]-j[1] for j in zip(*i)] for i in zip(mat_1,mat_2)]\n",
    "\n",
    "x=[[i[j] for j in range(len(i)-1) if i[4][j]==i[j]] for i in zip(*mat_1,mat_1) ]\n",
    "trace_21=sum([i[0] for i in x])\n",
    "\n",
    "y=[[i[j] for j in range(len(i)-1) if i[4][j]==i[j]] for i in zip(*mat_2,mat_2) ]\n",
    "trace_22=sum([i[0] for i in y])\n",
    "\n",
    "mat1_transpose=list(zip(*mat_1))\n",
    "mat2_transpose=list(zip(*mat_2))\n",
    "\n",
    "scalar_21=list(zip(*[[j*scalar_factor for j in i] for i in zip(*mat_1)]))\n",
    "scalar_22=list(zip(*[[j*scalar_factor for j in i] for i in zip(*mat_2)]))\n",
    "\n",
    "print(z)\n",
    "print()\n",
    "#print(list(mat1_transpose),list(mat2_transpose))\n",
    "#mat_add_2=\n",
    "\n",
    "print(f\"\\nMatrix addition:\")\n",
    "for i in range(4):\n",
    "    for j in range(4):\n",
    "        print(mat_add_2[i][j],end=' ')\n",
    "    print()\n",
    "print(f\"\\nMatrix subtraction:\")\n",
    "for i in range(4):\n",
    "    for j in range(4):\n",
    "        print(mat_sub_2[i][j],end=' ')\n",
    "    print()\n",
    "print()\n",
    "print(f\"Trace of Matrix 1:{trace_21}\")\n",
    "print(f\"Trace of Matrix 2:{trace_22}\\n\")\n",
    "\n",
    "print(f\"Transpose of Matrix 1:\")\n",
    "for i in range(4):\n",
    "    for j in range(4):\n",
    "        print(mat1_transpose[i][j],end=' ')\n",
    "    print()\n",
    "print(f\"\\nTranspose of Matrix 2:\")\n",
    "for i in range(4):\n",
    "    for j in range(4):\n",
    "        print(mat2_transpose[i][j],end=' ')\n",
    "    print()\n",
    "print(f\"\\nScalar Multiplication of Matrix 1:\")\n",
    "for i in range(4):\n",
    "    for j in range(4):\n",
    "        print(scalar_21[i][j],end=' ')\n",
    "    print()\n",
    "print(f\"\\nScalar Multiplication of Matrix 1:\")\n",
    "for i in range(4):\n",
    "    for j in range(4):\n",
    "        print(scalar_22[i][j],end=' ')\n",
    "    print()"
   ]
  },
  {
   "attachments": {},
   "cell_type": "markdown",
   "metadata": {},
   "source": [
    "### 5.    Given a list of numbers, write a Python program to create a set `S` from the list and perform the following operations on the set:\n",
    "\n",
    "*    Add an element to the set `S`\n",
    "\n",
    "*    Remove an element from the set `S`\n",
    "\n",
    "*     Discard an element from the set `S`\n",
    "\n",
    "*    Clear all elements from the set `S`"
   ]
  },
  {
   "cell_type": "code",
   "execution_count": 152,
   "metadata": {},
   "outputs": [
    {
     "name": "stdout",
     "output_type": "stream",
     "text": [
      "List: [5, 6, 8, 9, 3, 2, 8, 5, 3, 10]\n",
      "Set fo the list: {2, 3, 5, 6, 8, 9, 10}\n",
      "After adding 1: {1, 2, 3, 5, 6, 8, 9, 10}\n",
      "After adding 2: {1, 2, 3, 5, 6, 8, 9, 10}\n",
      "After removing 2: {1, 3, 5, 6, 8, 9, 10}\n",
      "After discarding 5 {1, 3, 6, 8, 9, 10}\n",
      "After clearing set_1: set()\n"
     ]
    }
   ],
   "source": [
    "list_1=[5,6,8,9,3,2,8,5,3,10]\n",
    "print(\"List:\",list_1)\n",
    "\n",
    "set_1=set(list_1)\n",
    "print(\"Set fo the list:\",set_1)\n",
    "\n",
    "set_1.add(1)\n",
    "print(\"After adding 1:\",set_1)\n",
    "set_1.add(2)\n",
    "print(\"After adding 2:\",set_1)\n",
    "set_1.remove(2)\n",
    "print(\"After removing 2:\",set_1)\n",
    "set_1.discard(5)\n",
    "print(\"After discarding 5\",set_1)\n",
    "set_1.clear()\n",
    "print(\"After clearing set_1:\",set_1)"
   ]
  },
  {
   "attachments": {},
   "cell_type": "markdown",
   "metadata": {},
   "source": [
    "### 6.    What is a frozenset()? Give examples.\n",
    "\n"
   ]
  },
  {
   "attachments": {},
   "cell_type": "markdown",
   "metadata": {},
   "source": [
    "### **ANS:**\n",
    "A frozenset() makes a given set immutable. It can't be edited ie added or subtracted beyond that point. Set by itself is mutable to some extent but frozen set is no longer mutable. It can be used as a dictionary key cause it can't change beyond that"
   ]
  },
  {
   "cell_type": "code",
   "execution_count": 160,
   "metadata": {},
   "outputs": [
    {
     "name": "stdout",
     "output_type": "stream",
     "text": [
      "{2, 3, 4, 5, 6}\n",
      "Adding 10: {2, 3, 4, 5, 6, 10}\n",
      "Declaring frozen set\n",
      "Adding 20: frozenset({2, 3, 4, 5, 6, 10}) We encountered an error so I have commented it out\n"
     ]
    }
   ],
   "source": [
    "set_2={2,3,4,5,6}\n",
    "print(set_2)\n",
    "set_3=set_2\n",
    "set_2.add(10)\n",
    "print(\"Adding 10:\",set_2)\n",
    "print(\"Declaring frozen set\")\n",
    "set_2=frozenset(set_2)\n",
    "#set_2.add(20)\n",
    "print(\"Adding 20:\",set_2,\"We encountered an error so I have commented it out\")"
   ]
  },
  {
   "cell_type": "code",
   "execution_count": 163,
   "metadata": {},
   "outputs": [
    {
     "name": "stdout",
     "output_type": "stream",
     "text": [
      "{frozenset({2, 3, 4, 5, 6, 10}): 1}\n"
     ]
    }
   ],
   "source": [
    "dict_2={set_2:1}\n",
    "print(dict_2)#Frozenset Working with dict"
   ]
  },
  {
   "cell_type": "code",
   "execution_count": 161,
   "metadata": {},
   "outputs": [
    {
     "ename": "NameError",
     "evalue": "name 'set_3' is not defined",
     "output_type": "error",
     "traceback": [
      "\u001b[0;31m---------------------------------------------------------------------------\u001b[0m",
      "\u001b[0;31mNameError\u001b[0m                                 Traceback (most recent call last)",
      "Cell \u001b[0;32mIn[161], line 1\u001b[0m\n\u001b[0;32m----> 1\u001b[0m dict_1\u001b[39m=\u001b[39m{set_3:\u001b[39m2\u001b[39m}\n",
      "\u001b[0;31mNameError\u001b[0m: name 'set_3' is not defined"
     ]
    }
   ],
   "source": [
    "dict_1={set_3:2}#Set not working with dictionary"
   ]
  },
  {
   "attachments": {},
   "cell_type": "markdown",
   "metadata": {},
   "source": [
    "### 7.    Set comprehension: Create a set of all the even numbers between 1 and 10 using set comprehensions.\n",
    "\n"
   ]
  },
  {
   "cell_type": "code",
   "execution_count": 165,
   "metadata": {},
   "outputs": [
    {
     "name": "stdout",
     "output_type": "stream",
     "text": [
      "{2, 4, 6, 8, 10}\n"
     ]
    }
   ],
   "source": [
    "set_4={i for i in range(1,11) if i%2==0}\n",
    "print(set_4)"
   ]
  }
 ],
 "metadata": {
  "kernelspec": {
   "display_name": "Python 3",
   "language": "python",
   "name": "python3"
  },
  "language_info": {
   "codemirror_mode": {
    "name": "ipython",
    "version": 3
   },
   "file_extension": ".py",
   "mimetype": "text/x-python",
   "name": "python",
   "nbconvert_exporter": "python",
   "pygments_lexer": "ipython3",
   "version": "3.11.1"
  },
  "orig_nbformat": 4,
  "vscode": {
   "interpreter": {
    "hash": "aee8b7b246df8f9039afb4144a1f6fd8d2ca17a180786b69acc140d282b71a49"
   }
  }
 },
 "nbformat": 4,
 "nbformat_minor": 2
}
