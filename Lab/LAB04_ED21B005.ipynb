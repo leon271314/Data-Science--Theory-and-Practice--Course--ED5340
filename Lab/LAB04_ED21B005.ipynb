{
 "cells": [
  {
   "attachments": {},
   "cell_type": "markdown",
   "metadata": {},
   "source": [
    "## 1. Given a list of integers, write a Python program to:\n",
    "\n",
    "a) Find the frequency of each integer in the list and store the result in a dictionary.\n",
    "\n",
    "b) Print the maximum integer and its frequency.\n",
    "\n",
    "c) Remove duplicates from the list and print the new list without changing the order of elements. Do this operation without using the set data type.\n",
    "\n",
    "d) Remove duplicates from the list and print the new list. Do this operation using the set data type."
   ]
  },
  {
   "cell_type": "code",
   "execution_count": 25,
   "metadata": {},
   "outputs": [
    {
     "name": "stdout",
     "output_type": "stream",
     "text": [
      "[4, 5, 7, 5, 3, 2, 4, 6, 54] \n",
      "\n",
      "The number 4 occurs 2 times\n",
      "The number 5 occurs 2 times\n",
      "The number 7 occurs 1 times\n",
      "The number 3 occurs 1 times\n",
      "The number 2 occurs 1 times\n",
      "The number 6 occurs 1 times\n",
      "The number 54 occurs 1 times\n"
     ]
    }
   ],
   "source": [
    "lst1=eval(input(\"Enter a list\"))\n",
    "freq={}\n",
    "for i in lst1:\n",
    "    if i not in freq.keys():\n",
    "        freq[i]=lst1.count(i)\n",
    "print(lst1,'\\n')\n",
    "for i,j in freq.items():\n",
    "    print(f\"The number {i} occurs {j} times\")"
   ]
  },
  {
   "cell_type": "code",
   "execution_count": 26,
   "metadata": {},
   "outputs": [
    {
     "name": "stdout",
     "output_type": "stream",
     "text": [
      "The maximum number 54 occurs 1 times\n"
     ]
    }
   ],
   "source": [
    "maximum=max(freq.keys())\n",
    "print(f\"The maximum number {maximum} occurs {freq[maximum]} times\")"
   ]
  },
  {
   "cell_type": "code",
   "execution_count": 30,
   "metadata": {},
   "outputs": [
    {
     "name": "stdout",
     "output_type": "stream",
     "text": [
      "Before removing duplicates: [4, 5, 7, 5, 3, 2, 4, 6, 54]\n",
      "After removing duplicates: [4, 5, 7, 3, 2, 6, 54]\n"
     ]
    }
   ],
   "source": [
    "lst2=lst1[::]\n",
    "print(\"Before removing duplicates:\",lst2)\n",
    "n=len(lst2)\n",
    "i=0\n",
    "while (i<n):\n",
    "    if lst2[i] in lst2[:i]:\n",
    "        lst2.pop(i)\n",
    "        i-=1\n",
    "        n-=1\n",
    "    i+=1\n",
    "print(\"After removing duplicates:\",lst2)"
   ]
  },
  {
   "cell_type": "code",
   "execution_count": 34,
   "metadata": {},
   "outputs": [
    {
     "name": "stdout",
     "output_type": "stream",
     "text": [
      "Before removing duplicates: [4, 5, 7, 5, 3, 2, 4, 6, 54]\n",
      "After removing duplicates: [2, 3, 4, 5, 6, 7, 54]\n"
     ]
    }
   ],
   "source": [
    "lst3=lst1[::]\n",
    "print(\"Before removing duplicates:\",lst3)\n",
    "temp_set=set(lst3)\n",
    "lst3=list(temp_set)\n",
    "print(\"After removing duplicates:\",lst3)"
   ]
  },
  {
   "attachments": {},
   "cell_type": "markdown",
   "metadata": {},
   "source": [
    "## 2. Store the employee IDs, names, salaries, and years of experience using nested dictionaries (the key of the highest level dictionary can be the employee ID). \n",
    "\n",
    "a) Sort this dictionary using the salary value. \n",
    "\n",
    "b) Add a new employee to the dictionary in the correct position (sorted as mentioned above)."
   ]
  },
  {
   "cell_type": "code",
   "execution_count": 51,
   "metadata": {},
   "outputs": [
    {
     "name": "stdout",
     "output_type": "stream",
     "text": [
      "Before sorting:\n",
      " {'1': {'name': 'Adi', 'salary': 10000, 'years of experience': 2}, '2': {'name': 'Ram', 'salary': 20000, 'years of experience': 3}, '3': {'name': 'Sam', 'salary': 15000, 'years of experience': 4}}\n",
      "\n",
      "After sorting:\n",
      " {'1': {'name': 'Adi', 'salary': 10000, 'years of experience': 2}, '3': {'name': 'Sam', 'salary': 15000, 'years of experience': 4}, '2': {'name': 'Ram', 'salary': 20000, 'years of experience': 3}}\n",
      "[10000, 15000, 20000]\n",
      "\n",
      "After inserting:\n",
      " {'1': {'name': 'Adi', 'salary': 10000, 'years of experience': 2}, '5': {'name': 'Galvin', 'salary': 13000, 'years of experience': 6}, '3': {'name': 'Sam', 'salary': 15000, 'years of experience': 4}, '2': {'name': 'Ram', 'salary': 20000, 'years of experience': 3}}\n"
     ]
    }
   ],
   "source": [
    "employee={'1': {'name': 'Adi', 'salary': 10000, 'years of experience': 2}, '2': {'name': 'Ram', 'salary': 20000, 'years of experience': 3}, '3': {'name': 'Sam', 'salary': 15000, 'years of experience': 4}}\n",
    "'''for i in range(3):\n",
    "    id=input(f\"Enter your ID user{i+1}:\")\n",
    "    name=input(f\"Enter your name user{i+1}:\")\n",
    "    salary=int(input(f\"Enter your salary {name}:\"))\n",
    "    yoe=int(input(f\"Enter years of experience {name}:\"))\n",
    "    employee[id]={\"name\":name,\"salary\":salary,\"years of experience\":yoe}'''\n",
    "print(\"Before sorting:\\n\",employee)\n",
    "sorted_employee=sorted(zip(employee.keys(),employee.values()),key=lambda value:value[1]['salary'])\n",
    "print(\"\\nAfter sorting:\\n\",dict(sorted_employee))\n",
    "\n",
    "n=len(sorted_employee)\n",
    "salary_lst=[sorted_employee[i][1]['salary'] for i in range(n)]\n",
    "print(salary_lst)\n",
    "id=input(f\"Enter your ID user{i+1}:\")\n",
    "name=input(f\"Enter your name user{i+1}:\")\n",
    "salary=int(input(f\"Enter your salary {name}:\"))\n",
    "yoe=int(input(f\"Enter years of experience {name}:\"))\n",
    "for i in range(n):\n",
    "    if salary<salary_lst[i]:\n",
    "        sorted_employee.insert(i,(id,{\"name\":name,\"salary\":salary,\"years of experience\":yoe}))\n",
    "        break\n",
    "else:\n",
    "    sorted_employee.append(i,(id,{\"name\":name,\"salary\":salary,\"years of experience\":yoe}))\n",
    "sorted_employee=dict(sorted_employee)\n",
    "print(\"\\nAfter inserting:\\n\",sorted_employee)"
   ]
  },
  {
   "attachments": {},
   "cell_type": "markdown",
   "metadata": {},
   "source": [
    "## 3. You are given two Python dictionaries, A and B, with keys as alphabets and values as random integers. Write a Python function to create a third dictionary C, that combines A and B. For common keys, the value in C should be the sum of values from A and B. \n",
    "\n",
    "For example, if dictionary A is {\"a\": 3, \"b\": 5, \"c\": 7} and dictionary B is {\"b\": 2, \"c\": 4, \"d\": 6}, the function should return a dictionary C that looks like {\"a\": 3, \"b\": 7, \"c\": 11, \"d\": 6}."
   ]
  },
  {
   "cell_type": "code",
   "execution_count": 54,
   "metadata": {},
   "outputs": [
    {
     "name": "stdout",
     "output_type": "stream",
     "text": [
      "Dictionary A is {'a': 3, 'b': 5, 'c': 7}\n",
      "Dictionary B is {'b': 2, 'c': 4, 'd': 6}\n",
      "Dictionary C is {'a': 3, 'b': 7, 'c': 11, 'd': 6}\n"
     ]
    }
   ],
   "source": [
    "dict_A={\"a\": 3, \"b\": 5, \"c\": 7}\n",
    "dict_B={\"b\": 2, \"c\": 4, \"d\": 6}\n",
    "\n",
    "def dict_add(A,B):\n",
    "    C={}\n",
    "    l1=[i for i in A]\n",
    "    l2=[i for i in B]\n",
    "    for i in l1:\n",
    "        if i in l2:\n",
    "            C[i]=A[i]+B[i]\n",
    "        else:\n",
    "            C[i]=A[i]\n",
    "    for j in l2:\n",
    "        if j not in l1:\n",
    "            C[j]=B[j]\n",
    "    return C\n",
    "dict_C=dict_add(dict_A,dict_B)\n",
    "\n",
    "print(\"Dictionary A is\",dict_A)\n",
    "print(\"Dictionary B is\",dict_B)\n",
    "print(\"Dictionary C is\",dict_C)"
   ]
  },
  {
   "attachments": {},
   "cell_type": "markdown",
   "metadata": {},
   "source": [
    "## 4. Assume you have a list of lists, where each inner list contains two elements: a key and a value. Write a Python function that takes the list of lists as input and returns a list of dictionaries, where each dictionary contains a key-value pair from the original input list."
   ]
  },
  {
   "cell_type": "code",
   "execution_count": 12,
   "metadata": {},
   "outputs": [
    {
     "name": "stdout",
     "output_type": "stream",
     "text": [
      "[{'A': 1}, {'B': 1}, {'C': 1}, {'D': 1}]\n"
     ]
    }
   ],
   "source": [
    "list_1=[[\"A\",1],[\"B\",1],[\"C\",1],[\"D\",1]]\n",
    "\n",
    "def list_of_dict(lst):\n",
    "    lst1=[]\n",
    "    for i in lst:\n",
    "        lst1+=[{i[0]:i[1]}]\n",
    "    return lst1\n",
    "dict_list=list_of_dict(list_1)\n",
    "\n",
    "print(dict_list)"
   ]
  },
  {
   "attachments": {},
   "cell_type": "markdown",
   "metadata": {},
   "source": [
    "## 5.  Write a function to check whether all the members in the list are anagrams of each other. For example: \n",
    "\n",
    "This input [\"triangle\", \"integral\", \"altering\"] should return True,\n",
    "\n",
    "While [\"world\", \"hello\", \"goodbye\"] should return False."
   ]
  },
  {
   "cell_type": "code",
   "execution_count": 71,
   "metadata": {},
   "outputs": [
    {
     "name": "stdout",
     "output_type": "stream",
     "text": [
      "['world', 'hello', 'goodbye'] \n",
      "\n",
      "False\n"
     ]
    }
   ],
   "source": [
    "words=eval(input(\"Enter list of anagram words\"))\n",
    "print(words,'\\n')\n",
    "def anagram(words):\n",
    "    word1=list(words[0])\n",
    "    n=len(word1)\n",
    "    #print(word1)\n",
    "    for i in words:\n",
    "        if len(i)!=n:\n",
    "            print(False)\n",
    "            return 0\n",
    "        for j in range(n):\n",
    "            if i.count(i[j])!=word1.count(i[j]):\n",
    "                print(False)\n",
    "                return 0\n",
    "    else:\n",
    "        print(True)\n",
    "        return 1\n",
    "ret=anagram(words)"
   ]
  },
  {
   "attachments": {},
   "cell_type": "markdown",
   "metadata": {},
   "source": [
    "## 6. Write a Python function that calculates the square of a given number. Then, take a list of numbers and use the map() function to apply the square function to each list element. Print the resulting list of numbers and their squares in the form of a dictionary where each key is a number from the original list, and its corresponding value is its square.\n",
    "\n",
    "Sample example: numbers = [1, 2, 3, 4, 5]<br/>\n",
    "output dictionary = {1: 1, 2: 4, 3: 9, 4: 16, 5: 25}\n",
    "\n"
   ]
  },
  {
   "cell_type": "code",
   "execution_count": 76,
   "metadata": {},
   "outputs": [
    {
     "name": "stdout",
     "output_type": "stream",
     "text": [
      "{1: 1, 2: 4, 3: 9, 4: 16, 5: 25}\n"
     ]
    }
   ],
   "source": [
    "def square(n):\n",
    "    return n*n\n",
    "numbers=eval(input(\"Enter a list of numbers\"))\n",
    "squared=list(map(square,numbers))\n",
    "n=len(numbers)\n",
    "num_sq={}\n",
    "for i in range(n):\n",
    "    num_sq[numbers[i]]=squared[i]\n",
    "print(num_sq)"
   ]
  },
  {
   "attachments": {},
   "cell_type": "markdown",
   "metadata": {},
   "source": [
    "## 7. Write a function that takes an integer input from the user and prints Pascal’s Triangle."
   ]
  },
  {
   "cell_type": "code",
   "execution_count": 7,
   "metadata": {},
   "outputs": [
    {
     "name": "stdout",
     "output_type": "stream",
     "text": [
      "      1\n",
      "     1 1 \n",
      "    1 2 1 \n",
      "   1 3 3 1 \n",
      "  1 4 6 4 1 \n",
      " 1 5 10 10 5 1 \n"
     ]
    }
   ],
   "source": [
    "num = int(input(\"Enter height of pascal's triangle(excluding first row)\"))\n",
    "import math\n",
    "def fact(n):\n",
    "    if n==1:\n",
    "        return n\n",
    "    if n==0:\n",
    "        return 1\n",
    "    return n*fact(n-1)\n",
    "def pascal(height):\n",
    "    print(height*\" \",1)\n",
    "    for i in range(1,height+1):\n",
    "        print((num-i)*\" \",end=' ')\n",
    "        for j in range(i+1):\n",
    "            comb=fact(i)/(fact(j)*fact(i-j))\n",
    "            #print(comb)\n",
    "            print(int(comb),end=' ')\n",
    "        print()\n",
    "pascal(num)"
   ]
  },
  {
   "attachments": {},
   "cell_type": "markdown",
   "metadata": {},
   "source": [
    "## 8. Write a function:\n",
    "## That takes a user input (integer, say n) and prints n Fibonacci numbers (inclusively), using recursion and without recursion.Also, check if the number n is present in the Fibonacci series.\n",
    "\n",
    "Fibonacci series: 0,1,1,2,3,5,8, where F (0) =0, F (1) =1 and so on.\n",
    "\n"
   ]
  },
  {
   "cell_type": "code",
   "execution_count": 3,
   "metadata": {},
   "outputs": [
    {
     "name": "stdout",
     "output_type": "stream",
     "text": [
      "With Recursion 0 1 1 2 3 5 8 13\n",
      "Without Recursion 0 1 1 2 3 5 8 13\n"
     ]
    }
   ],
   "source": [
    "#With Recursion\n",
    "length=int(input(\"enter n\"))\n",
    "def fibo(n):\n",
    "    if n==0:\n",
    "        return 0\n",
    "    if n==1:\n",
    "        return 1\n",
    "    return fibo(n-1)+fibo(n-2)\n",
    "fibo_list=[fibo(i) for i in range(length)]\n",
    "print(\"With Recursion\",*fibo_list)\n",
    "\n",
    "#Without Recursion\n",
    "initial=[0,1]\n",
    "for i in range(2,length):\n",
    "    initial+=[initial[i-1]+initial[i-2]]\n",
    "print(\"Without Recursion\",*initial)"
   ]
  },
  {
   "attachments": {},
   "cell_type": "markdown",
   "metadata": {},
   "source": [
    "## 9. Write a program:\n",
    "\n",
    "a) To filter the even numbers from a list of integers using lambda.\n",
    "\n",
    "b) To count even and odd numbers in a given list of integers using lambda.\n",
    "\n",
    "c) To sort a list of dictionaries using lambda."
   ]
  },
  {
   "cell_type": "code",
   "execution_count": 37,
   "metadata": {},
   "outputs": [
    {
     "name": "stdout",
     "output_type": "stream",
     "text": [
      "[2, 4, 6, 8]\n",
      "{'Even': 4, 'Odd': 5}\n",
      "[{'B': 1}, {'C': 1}, {'D': 1}, {'E': 1}]\n"
     ]
    }
   ],
   "source": [
    "#A\n",
    "list1=[1,2,3,4,5,6,7,8,9]\n",
    "list1_even=lambda a: [i for i in a if i%2==0]\n",
    "print(list1_even(list1))\n",
    "\n",
    "#B\n",
    "list1_count=lambda a: {\"Even\":len([i for i in a if i%2==0]),\"Odd\":len([i for i in a if i%2!=0])}\n",
    "print(list1_count(list1))\n",
    "\n",
    "#C\n",
    "dict_list1=[{\"E\":1},{\"B\":1},{\"C\":1},{\"D\":1}]\n",
    "dict_sort=lambda a: [dict(j) for j in sorted([list(i.items()) for i in a])]\n",
    "#sorting based on the first key of each dictionary\n",
    "print(dict_sort(dict_list1))"
   ]
  },
  {
   "attachments": {},
   "cell_type": "markdown",
   "metadata": {},
   "source": [
    "## 10. Query for two integers N and M from the user where 0<=N<=100 and 0<=M<=9. These will be the inputs to your function. Using recursion, compute the number of times the integer M occurs in all non-negative integers less than or equal to N. \n",
    "\n",
    " Example: For N=13 and M=1, count=6 (numbers 1, 10, 11, 12, 13) "
   ]
  },
  {
   "cell_type": "code",
   "execution_count": 2,
   "metadata": {},
   "outputs": [
    {
     "name": "stdout",
     "output_type": "stream",
     "text": [
      "6\n"
     ]
    }
   ],
   "source": [
    "def no_of_occurence(M,N):\n",
    "    if 0<=N<=100 and 0<=M<=100:\n",
    "        if str(M) in str(N):\n",
    "            cou=str(N).count(str(M))\n",
    "            return cou+ no_of_occurence(M,N-1)\n",
    "        else:\n",
    "            return no_of_occurence(M,N-1)\n",
    "    if N==-1:\n",
    "        return 0 \n",
    "M,N=input(\"Enter M and N\").split()\n",
    "occ=no_of_occurence(int(M),int(N))\n",
    "print(occ)"
   ]
  },
  {
   "attachments": {},
   "cell_type": "markdown",
   "metadata": {},
   "source": [
    "## 11. Illustrate the usage of positional and keyword arguments using suitable examples"
   ]
  },
  {
   "attachments": {},
   "cell_type": "markdown",
   "metadata": {},
   "source": [
    " **This is a keyword arguement**\n",
    "```python\n",
    "    fn(str=\"Hello\",f=10.5,i=5)\n",
    "    #Here it works even though though the order is changed.\n",
    "    #We are using the identifier name when using ketword arguements\n",
    "    #order isn't important in keyword arguements\n",
    "    #we can pretty much pass any data types in as arguements\n",
    "```"
   ]
  },
  {
   "cell_type": "code",
   "execution_count": null,
   "metadata": {},
   "outputs": [],
   "source": [
    "def fn(f,i,str):\n",
    "    print(i+f)\n",
    "fn(str=\"Hello\",f=10.5,i=5)"
   ]
  },
  {
   "attachments": {},
   "cell_type": "markdown",
   "metadata": {},
   "source": [
    "**Positional Arguement**<br />\n",
    "```python\n",
    "    def function(a,b,c):\n",
    "        return (a+b+c)\n",
    "    print(function(2,3,4))\n",
    "```\n",
    "        \n",
    "a is assigned to 2, b is assigned to 3 and c is assigned to 4. It is corresponding assignment. Order and datatypes matter in this"
   ]
  },
  {
   "cell_type": "code",
   "execution_count": 115,
   "metadata": {},
   "outputs": [
    {
     "name": "stdout",
     "output_type": "stream",
     "text": [
      "15.5\n"
     ]
    },
    {
     "ename": "TypeError",
     "evalue": "unsupported operand type(s) for +: 'int' and 'str'",
     "output_type": "error",
     "traceback": [
      "\u001b[0;31m---------------------------------------------------------------------------\u001b[0m",
      "\u001b[0;31mTypeError\u001b[0m                                 Traceback (most recent call last)",
      "Cell \u001b[0;32mIn[115], line 8\u001b[0m\n\u001b[1;32m      6\u001b[0m \u001b[39mdef\u001b[39;00m \u001b[39mfn\u001b[39m(i,f,\u001b[39mstr\u001b[39m):\n\u001b[1;32m      7\u001b[0m     \u001b[39mprint\u001b[39m(i\u001b[39m+\u001b[39mf)\n\u001b[0;32m----> 8\u001b[0m fn(\u001b[39m10\u001b[39;49m,\u001b[39m\"\u001b[39;49m\u001b[39mHi\u001b[39;49m\u001b[39m\"\u001b[39;49m,\u001b[39m5.5\u001b[39;49m)\n\u001b[1;32m      9\u001b[0m \u001b[39m#This doesnt works cause order doesnt matter the data type of the given data\u001b[39;00m\n",
      "Cell \u001b[0;32mIn[115], line 7\u001b[0m, in \u001b[0;36mfn\u001b[0;34m(i, f, str)\u001b[0m\n\u001b[1;32m      6\u001b[0m \u001b[39mdef\u001b[39;00m \u001b[39mfn\u001b[39m(i,f,\u001b[39mstr\u001b[39m):\n\u001b[0;32m----> 7\u001b[0m     \u001b[39mprint\u001b[39m(i\u001b[39m+\u001b[39;49mf)\n",
      "\u001b[0;31mTypeError\u001b[0m: unsupported operand type(s) for +: 'int' and 'str'"
     ]
    }
   ],
   "source": [
    "def fn(i,f,str):#i is integer,f is float and str is string\n",
    "    print(i+f)\n",
    "fn(10,5.5,\"Hi\")\n",
    "#This works\n",
    "\n",
    "def fn(i,f,str):\n",
    "    print(i+f)\n",
    "fn(10,\"Hi\",5.5)\n",
    "#This doesnt works cause order doesnt matter the data type of the given data"
   ]
  },
  {
   "attachments": {},
   "cell_type": "markdown",
   "metadata": {},
   "source": [
    "## 12. Write a function to find the minimum of n numbers using variable length positional arguments.\n",
    "\n"
   ]
  },
  {
   "cell_type": "code",
   "execution_count": 116,
   "metadata": {},
   "outputs": [
    {
     "name": "stdout",
     "output_type": "stream",
     "text": [
      "1\n"
     ]
    }
   ],
   "source": [
    "def minimum(*args):\n",
    "    list_args=[i for i in args]\n",
    "    return (min(list_args))\n",
    "print(minimum(2,5,6,8,4,6,8,4,1))"
   ]
  },
  {
   "attachments": {},
   "cell_type": "markdown",
   "metadata": {},
   "source": [
    "## 13. Write a function to concatenate n strings using variable length key word arguments."
   ]
  },
  {
   "cell_type": "code",
   "execution_count": 3,
   "metadata": {},
   "outputs": [
    {
     "name": "stdout",
     "output_type": "stream",
     "text": [
      "12Hello WorldH ola \n"
     ]
    }
   ],
   "source": [
    "def strings(**kwargs):\n",
    "    str1=''\n",
    "    for i,j in kwargs.items():\n",
    "        str1+=str(j)\n",
    "    return str1\n",
    "print(strings(key=1,key1=2,key3=\"Hello World\",hola=\"H ola \"))"
   ]
  },
  {
   "attachments": {},
   "cell_type": "markdown",
   "metadata": {},
   "source": [
    "## 14. Describe filter () and reduce () functions with suitable examples.\n"
   ]
  },
  {
   "attachments": {},
   "cell_type": "markdown",
   "metadata": {},
   "source": [
    "filter() tests every element in a sequence and classifies it to be true or false to a given conditions and filters it."
   ]
  },
  {
   "cell_type": "code",
   "execution_count": 5,
   "metadata": {},
   "outputs": [
    {
     "name": "stdout",
     "output_type": "stream",
     "text": [
      "[2, 4, 6, 8]\n"
     ]
    }
   ],
   "source": [
    "seq=[1,2,3,4,6,7,8,9]\n",
    "#we want to filter even nos\n",
    "even=filter(lambda a: a%2==0,seq)#filter(function,sequence)\n",
    "print(list(even))"
   ]
  },
  {
   "attachments": {},
   "cell_type": "markdown",
   "metadata": {},
   "source": [
    "reduce() is used to apply a particular fn passed in its arg to all list elements. It is defined in functools module. Initially takes first 2 elements,applied function and takes the result and does it with subsequent elemeents"
   ]
  },
  {
   "cell_type": "code",
   "execution_count": 13,
   "metadata": {},
   "outputs": [
    {
     "name": "stdout",
     "output_type": "stream",
     "text": [
      "72576\n",
      "40\n"
     ]
    }
   ],
   "source": [
    "import functools\n",
    "print(functools.reduce(lambda x,y:x*y,seq))\n",
    "print(functools.reduce(lambda x,y:x+y,seq))\n"
   ]
  }
 ],
 "metadata": {
  "kernelspec": {
   "display_name": "Python 3",
   "language": "python",
   "name": "python3"
  },
  "language_info": {
   "codemirror_mode": {
    "name": "ipython",
    "version": 3
   },
   "file_extension": ".py",
   "mimetype": "text/x-python",
   "name": "python",
   "nbconvert_exporter": "python",
   "pygments_lexer": "ipython3",
   "version": "3.11.1"
  },
  "orig_nbformat": 4,
  "vscode": {
   "interpreter": {
    "hash": "aee8b7b246df8f9039afb4144a1f6fd8d2ca17a180786b69acc140d282b71a49"
   }
  }
 },
 "nbformat": 4,
 "nbformat_minor": 2
}
