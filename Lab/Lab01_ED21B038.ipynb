{
 "cells": [
  {
   "attachments": {},
   "cell_type": "markdown",
   "metadata": {},
   "source": [
    "### 1.  WAP to find the value of the following:\n",
    "    - 7(ln(5)+ln(e^3))\n",
    "    - 1/sin(π/3) + 1/cos(3π)"
   ]
  },
  {
   "cell_type": "code",
   "execution_count": 1,
   "metadata": {},
   "outputs": [
    {
     "name": "stdout",
     "output_type": "stream",
     "text": [
      "32.2660653870387\n",
      "0.15470053837925168\n"
     ]
    }
   ],
   "source": [
    "import math\n",
    "print(7*(math.log(5)+math.log(math.e**3)))\n",
    "print(1/math.sin(math.pi/3)+1/math.cos(3*math.pi))"
   ]
  },
  {
   "attachments": {},
   "cell_type": "markdown",
   "metadata": {},
   "source": [
    "### 2. WAP to return the count of odd numbers between 5 and 50 (both inclusive) using arithmetic operators (without using loops)."
   ]
  },
  {
   "cell_type": "code",
   "execution_count": 2,
   "metadata": {},
   "outputs": [
    {
     "name": "stdout",
     "output_type": "stream",
     "text": [
      "23\n"
     ]
    }
   ],
   "source": [
    "print((50-5)//2+1)"
   ]
  },
  {
   "attachments": {},
   "cell_type": "markdown",
   "metadata": {},
   "source": [
    "### 3. WAP to demonstrate the use of  trunc( ), floor( ), ceil( ) and round( ) on the following numbers 100.496, 100.59,-100.496, -6.5, 4.25, 8.5 and 9."
   ]
  },
  {
   "cell_type": "code",
   "execution_count": 3,
   "metadata": {},
   "outputs": [
    {
     "name": "stdout",
     "output_type": "stream",
     "text": [
      "100.496\n",
      "trunc 100\n",
      "floor 100\n",
      "ceil 101\n",
      "round 100.5\n",
      "\n",
      "\n",
      "100.59\n",
      "trunc 100\n",
      "floor 100\n",
      "ceil 101\n",
      "round 100.6\n",
      "\n",
      "\n",
      "-100.496\n",
      "trunc -100\n",
      "floor -101\n",
      "ceil -100\n",
      "round -100.5\n",
      "\n",
      "\n",
      "-6.5\n",
      "trunc -6\n",
      "floor -7\n",
      "ceil -6\n",
      "round -6.5\n",
      "\n",
      "\n",
      "4.25\n",
      "trunc 4\n",
      "floor 4\n",
      "ceil 5\n",
      "round 4.2\n",
      "\n",
      "\n",
      "4.25\n",
      "trunc 4\n",
      "floor 4\n",
      "ceil 5\n",
      "round 4.2\n",
      "\n",
      "\n",
      "9\n",
      "trunc 9\n",
      "floor 9\n",
      "ceil 9\n",
      "round 9\n",
      "\n",
      "\n"
     ]
    }
   ],
   "source": [
    "import math\n",
    "print(100.496)\n",
    "print('trunc',math.trunc(100.496))\n",
    "print('floor',math.floor(100.496))\n",
    "print('ceil',math.ceil(100.496))\n",
    "print('round',round(100.496,1))\n",
    "print('\\n')\n",
    "\n",
    "print(100.59)\n",
    "print('trunc',math.trunc(100.59))\n",
    "print('floor',math.floor(100.59))\n",
    "print('ceil',math.ceil(100.59))\n",
    "print('round',round(100.59,1))\n",
    "print('\\n')\n",
    "\n",
    "print(-100.496)\n",
    "print('trunc',math.trunc(-100.496))\n",
    "print('floor',math.floor(-100.496))\n",
    "print('ceil',math.ceil(-100.496))\n",
    "print('round',round(-100.496,1))\n",
    "print('\\n')\n",
    "\n",
    "print(-6.5)\n",
    "print('trunc',math.trunc(-6.5))\n",
    "print('floor',math.floor(-6.5))\n",
    "print('ceil',math.ceil(-6.5))\n",
    "print('round',round(-6.5,1))\n",
    "print('\\n')\n",
    "\n",
    "print(4.25)\n",
    "print('trunc',math.trunc(4.25))\n",
    "print('floor',math.floor(4.25))\n",
    "print('ceil',math.ceil(4.25))\n",
    "print('round',round(4.25,1))\n",
    "print('\\n')\n",
    "\n",
    "print(4.25)\n",
    "print('trunc',math.trunc(4.25))\n",
    "print('floor',math.floor(4.25))\n",
    "print('ceil',math.ceil(4.25))\n",
    "print('round',round(4.25,1))\n",
    "print('\\n')\n",
    "\n",
    "print(9)\n",
    "print('trunc',math.trunc(9))\n",
    "print('floor',math.floor(9))\n",
    "print('ceil',math.ceil(9))\n",
    "print('round',round(9,1))\n",
    "print('\\n')\n",
    "\n"
   ]
  },
  {
   "attachments": {},
   "cell_type": "markdown",
   "metadata": {},
   "source": [
    "### 4. WAP \n",
    "    - That generates the random numbers in the range 5 to 55. Take the seed value as user input. (import random module)\n",
    "    - Find the average of those numbers."
   ]
  },
  {
   "cell_type": "code",
   "execution_count": 4,
   "metadata": {},
   "outputs": [
    {
     "name": "stdout",
     "output_type": "stream",
     "text": [
      "Random numbers are\n",
      "41 7 32\n",
      "Average is 26.666666666666668\n"
     ]
    }
   ],
   "source": [
    "#a\n",
    "import random\n",
    "n=int(input(\"Enter seed of random numbers to be generated\"))\n",
    "random.seed(n)\n",
    "print(\"Random numbers are\")\n",
    "a=random.randint(5,55)\n",
    "b=random.randint(5,55)\n",
    "c=random.randint(5,55)\n",
    "print(a,b,c)\n",
    "   \n",
    "average=(a+b+c)/3\n",
    "print(\"Average is\",average)"
   ]
  },
  {
   "attachments": {},
   "cell_type": "markdown",
   "metadata": {},
   "source": [
    "### 5. WAP to solve the quadratic equation of the form ax2+bx+c=0, where a, b and c are real numbers and a ≠ 0 (Take a, b and c as user input)."
   ]
  },
  {
   "cell_type": "code",
   "execution_count": 5,
   "metadata": {},
   "outputs": [
    {
     "name": "stdout",
     "output_type": "stream",
     "text": [
      "The 2 roots are  -1.0 and -1.0\n"
     ]
    }
   ],
   "source": [
    "import math\n",
    "a,b,c=input(\"Enter a, b, c from ax^2+bx+c=0\").split()\n",
    "D=(int(b)**2-4*int(a)*int(c))\n",
    "print(\"The 2 roots are \",(-D-int(b))/(2*int(a)),\"and\",(D-int(b))/(2*int(a)))\n"
   ]
  },
  {
   "attachments": {},
   "cell_type": "markdown",
   "metadata": {},
   "source": [
    "### 6. From the word “PYTHON”\n",
    "    - print the letter \"H\".\n",
    "    -  print the first three letters.\n",
    "    -  print last letter.\n",
    "    -  reverse the string."
   ]
  },
  {
   "cell_type": "code",
   "execution_count": 6,
   "metadata": {},
   "outputs": [
    {
     "name": "stdout",
     "output_type": "stream",
     "text": [
      "H\n",
      "PYT\n",
      "N\n",
      "NOHTYP\n"
     ]
    }
   ],
   "source": [
    "word=\"PYTHON\"\n",
    "#a\n",
    "print(word[3])\n",
    "#b\n",
    "print(word[0:3])\n",
    "#c\n",
    "print(word[-1])\n",
    "#d\n",
    "print(word[::-1])"
   ]
  },
  {
   "attachments": {},
   "cell_type": "markdown",
   "metadata": {},
   "source": [
    "### 7.  Given the words Learning, python, is, fun, WAP to print the following:<br />\n",
    "    - Learning python is fun\n",
    "    - LEARNING PYTHON IS FUN\n",
    "    - Fun is python learning\n",
    "    - nuf si nohtyp gninrael"
   ]
  },
  {
   "cell_type": "code",
   "execution_count": 7,
   "metadata": {},
   "outputs": [
    {
     "name": "stdout",
     "output_type": "stream",
     "text": [
      "Learning python is fun\n",
      "LEARNING PYTHON IS FUN\n",
      "Fun is python learning\n",
      "nuf si nohtyp gninrael\n"
     ]
    }
   ],
   "source": [
    "a=\"Learning\"\n",
    "b=\"python\"\n",
    "c=\"is\"\n",
    "d=\"fun\"\n",
    "#a\n",
    "print(a,b,c,d)\n",
    "#b\n",
    "print(a.upper(),b.upper(),c.upper(),d.upper())\n",
    "#c\n",
    "print(d.capitalize(),c,b,a.lower())\n",
    "#d\n",
    "print(d[::-1],c[::-1],b[::-1],a.lower()[::-1])"
   ]
  },
  {
   "attachments": {},
   "cell_type": "markdown",
   "metadata": {},
   "source": [
    "### 8. WAP to demonstrate the standard data types in Python and print the size and type of each of them and print them in ascending order."
   ]
  },
  {
   "cell_type": "code",
   "execution_count": 8,
   "metadata": {},
   "outputs": [
    {
     "name": "stdout",
     "output_type": "stream",
     "text": [
      "Numeric float 5.0 <class 'float'> 24\n",
      "Numeric float 5.0 <class 'float'> 24\n",
      "Boolean True <class 'bool'> 28\n",
      "Numeric int 5 <class 'int'> 28\n",
      "Numeric int 50000000000 <class 'int'> 32\n",
      "Numeric Complex (1+2j) <class 'complex'> 32\n",
      "String Hello <class 'str'> 54\n",
      "Tuple (1, 2, 3, 4) <class 'tuple'> 72\n",
      "List [1, 2, 3, 4, 5] <class 'list'> 104\n",
      "Dictionary {'Name': 'Adi', 'Roll': 'ED21B005'} <class 'dict'> 184\n",
      "Set {'D', '4', '3', '0', 'E', ' ', '5'} <class 'set'> 728\n"
     ]
    }
   ],
   "source": [
    "import sys\n",
    "\n",
    "a=5 #Numeric int\n",
    "b=50000000000 #Numeric int\n",
    "c=5.0 #Numeric float\n",
    "d=5.0000000000000000000000000001 #Numeric float\n",
    "e=\"Hello\" #String(Sequence Type)\n",
    "f=[1,2,3,4,5] #List(Sequence Type)\n",
    "g={\"Name\":\"Adi\",\"Roll\":\"ED21B005\"} #Dictionary\n",
    "h=1+2j #Numeric complex\n",
    "i=True #Boolean\n",
    "j=(1, 2, 3, 4) #Tuple(Sequence Type)\n",
    "k=set(\"ED 5340\") #Set\n",
    "\n",
    "print(\"Numeric float\",c,type(c),sys.getsizeof(c))\n",
    "print(\"Numeric float\",d,type(d),sys.getsizeof(d))\n",
    "\n",
    "print(\"Boolean\",i,type(i),sys.getsizeof(i))\n",
    "\n",
    "print(\"Numeric int\",a,type(a),sys.getsizeof(a))\n",
    "print(\"Numeric int\",b,type(b),sys.getsizeof(b))\n",
    "\n",
    "print(\"Numeric Complex\",h,type(h),sys.getsizeof(h))\n",
    "\n",
    "print(\"String\",e,type(e),sys.getsizeof(e))\n",
    "\n",
    "print(\"Tuple\",j,type(j),sys.getsizeof(j))\n",
    "\n",
    "print(\"List\",f,type(f),sys.getsizeof(f))\n",
    "\n",
    "print(\"Dictionary\",g,type(g),sys.getsizeof(g))\n",
    "\n",
    "print(\"Set\",k,type(k),sys.getsizeof(k))\n",
    "\n",
    "\n"
   ]
  },
  {
   "attachments": {},
   "cell_type": "markdown",
   "metadata": {},
   "source": [
    "### 9. WAP for demonstrating the arithmetic operations by taking two input values from the keyboard simultaneously. (Use split function)"
   ]
  },
  {
   "cell_type": "code",
   "execution_count": 11,
   "metadata": {},
   "outputs": [
    {
     "name": "stdout",
     "output_type": "stream",
     "text": [
      "Addition operator '+' does 2 + 3 = 5\n",
      "Subtraction operator '-' does 2 - 3 = -1\n",
      "Multiplication operator '*' does 2 * 3 = 6\n",
      "Division operator '/' does 2 / 3 = 0.6666666666666666\n",
      "Floor Division operator '//' does 2 // 3 = 0\n",
      "Modulo operator '%' does 2 % 3 = 2\n",
      "Exponent operator '**' does 2 ** 3 = 8\n"
     ]
    }
   ],
   "source": [
    "a,b=input(\"Enter 2 values to be added\").split()\n",
    "print(\"Addition operator '+' does\",a,'+',b,'=',int(a)+int(b))\n",
    "print(\"Subtraction operator '-' does\",a,'-',b,'=',int(a)-int(b))\n",
    "print(\"Multiplication operator '*' does\",a,'*',b,'=',int(a)*int(b))\n",
    "print(\"Division operator '/' does\",a,'/',b,'=',int(a)/int(b))\n",
    "print(\"Floor Division operator '//' does\",a,'//',b,'=',int(a)//int(b))\n",
    "print(\"Modulo operator '%' does\",a,'%',b,'=',int(a)%int(b))\n",
    "print(\"Exponent operator '**' does\",a,'**',b,'=',int(a)**int(b))"
   ]
  },
  {
   "attachments": {},
   "cell_type": "markdown",
   "metadata": {},
   "source": [
    "### 10. Find out five built in functions and write a description of the same.\n",
    "\n",
    "    Ans: 5 inbuilt functions are\n",
    "    - print(): This outputs any value given inside its brackets. It prints it onto the screen\n",
    "    - input(): This collects any user inputted data and stores it in a variable as a string. Whatever is in the brackets is outputted when input is taken\n",
    "    - max(): This gives the maximum of any list or set of integers or floats or strings or any data type based on various self defined parameters\n",
    "    - id(): This gives the memory id of any given integer when it is stored in memory at any point of time\n",
    "    - range(): Range gives a sequence of numbers from 0 to n-1 where n would be inputted in the brackets and it would by default increment itself by 1 "
   ]
  },
  {
   "cell_type": "code",
   "execution_count": 12,
   "metadata": {},
   "outputs": [
    {
     "name": "stdout",
     "output_type": "stream",
     "text": [
      "I am printing Hello using print()\n",
      "\n",
      "Outputting the input taken in by input(): \n",
      "\n",
      "Max of 2 numbers 6\n",
      "Max of 2 strings xyz\n",
      "using max()\n",
      "\n",
      "ID of test input is given by id() 140712273979104\n",
      "\n",
      "Range is range(0, 5) by range(integer)\n",
      "Range listed is [0, 1, 2, 3, 4]\n"
     ]
    }
   ],
   "source": [
    "#a\n",
    "print(\"I am printing Hello using print()\\n\")\n",
    "\n",
    "#b\n",
    "test_input=input(\"Enter an input\")\n",
    "print(\"Outputting the input taken in by input():\",test_input)\n",
    "\n",
    "#c\n",
    "print(\"\\nMax of 2 numbers\",max(5,6))\n",
    "print(\"Max of 2 strings\",max(\"xyz\",\"abc\"))\n",
    "print(\"using max()\\n\")\n",
    "\n",
    "#d\n",
    "id_test_input=id(test_input)\n",
    "print(\"ID of test input is given by id()\",id_test_input)\n",
    "\n",
    "#e\n",
    "x = range(5)\n",
    "print(\"\\nRange is\",x,\"by range(integer)\")\n",
    "print(\"Range listed is\",list(x))"
   ]
  },
  {
   "attachments": {},
   "cell_type": "markdown",
   "metadata": {},
   "source": [
    "### 11. Find out difference between pointers and referencing and write a description.\n",
    "\n",
    "    "
   ]
  },
  {
   "attachments": {},
   "cell_type": "markdown",
   "metadata": {},
   "source": [
    "**Pointers**\n",
    "- Pointers are variables which refer to the memory address of an other variable. So if a=5, then a pointer pointing to 'a' holds the memory at which 'a' is stored.*pointer dereferences the variable and gives the value at 'a'.\n",
    "    - There can be multi levels of pointers where you can have single pointer, double pointer which gives the memory location of the first pointer and so on.\n",
    "    - This is declared using * symbol.\n",
    "    - Need not be initialized when declared.\n",
    "    - This can also be assigned NULL value<br />\n"
   ]
  },
  {
   "attachments": {},
   "cell_type": "markdown",
   "metadata": {},
   "source": [
    "**Referencing**\n",
    "- Reference becomes an alternate name for a variable we are referring to. Say we have int a=5 and declare int& ref=a, Then changing a or ref changes the other one too.If we change a to 10, ref also changes to 10 and vice verse.\n",
    "    - This is only a single level and referencing doesnt go beyond one level and changing one changes the other directly. This is an internal pointer.\n",
    "    - This is declared using & symbol.\n",
    "    - Have to be initialized when declared and can't be reassigned to a different variable.\n",
    "    - This can't be assigned NULL value\n",
    "     <br />\n",
    "    Both referencing and pointers can be used during function calling and copying of big structures."
   ]
  },
  {
   "attachments": {},
   "cell_type": "markdown",
   "metadata": {},
   "source": [
    "### Optional\n",
    "\n",
    "**Object Oriented Programming**\n",
    "An object is a data field that has a unique attribute and behavior. This is well suited for dealing with large amount of data that are to be actively updated and maintained. It simplifies software development and maintenance by providing major concepts such as abstraction, inheritance, polymorphism, and encapsulation. These core concepts support OOP.\n",
    "\n",
    "**Abstraction** is an abstract way of presenting the user functions so that it makes it easier to read, reduce complexity and hard to be used maliciously\n",
    "\n",
    "**Encapsulation** helps bind various data types and data into various classes and structures to work with much more easily\n",
    "\n",
    "**Inheritance** helps use class within another data thus making it reusable.\n",
    "\n",
    "**Polymorphism** basically helps explain giving one data multiple headings or titles thus helping handle it easily in various cases."
   ]
  }
 ],
 "metadata": {
  "kernelspec": {
   "display_name": "Python 3",
   "language": "python",
   "name": "python3"
  },
  "language_info": {
   "codemirror_mode": {
    "name": "ipython",
    "version": 3
   },
   "file_extension": ".py",
   "mimetype": "text/x-python",
   "name": "python",
   "nbconvert_exporter": "python",
   "pygments_lexer": "ipython3",
   "version": "3.11.0 (main, Oct 24 2022, 18:26:48) [MSC v.1933 64 bit (AMD64)]"
  },
  "orig_nbformat": 4,
  "vscode": {
   "interpreter": {
    "hash": "db8f6fe2c73d52efb0db1d408b7a5b5a8f8e128d3b65693194c9f744dd911af9"
   }
  }
 },
 "nbformat": 4,
 "nbformat_minor": 2
}
