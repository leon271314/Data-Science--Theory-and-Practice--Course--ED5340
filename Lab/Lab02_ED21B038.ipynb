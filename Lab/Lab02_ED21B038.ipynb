{
 "cells": [
  {
   "attachments": {},
   "cell_type": "markdown",
   "metadata": {},
   "source": [
    "1. Write a program to print numbers divisible by both 6 and 7. Numbers between 1\n",
    "and 500.<br />\n",
    "[Numbers like 42, which are both divisible by 6 and 7] <br />\n",
    "a. Using continue statement <br />\n",
    "b. Using the pass statement <br />"
   ]
  },
  {
   "cell_type": "code",
   "execution_count": 1,
   "metadata": {},
   "outputs": [
    {
     "name": "stdout",
     "output_type": "stream",
     "text": [
      "42\n",
      "84\n",
      "126\n",
      "168\n",
      "210\n",
      "252\n",
      "294\n",
      "336\n",
      "378\n",
      "420\n",
      "462\n"
     ]
    }
   ],
   "source": [
    "for i in range(1,501):\n",
    "    if i%6==0 and i%7==0:\n",
    "        print(i)\n",
    "        continue\n"
   ]
  },
  {
   "cell_type": "code",
   "execution_count": 2,
   "metadata": {},
   "outputs": [
    {
     "name": "stdout",
     "output_type": "stream",
     "text": [
      "42\n",
      "84\n",
      "126\n",
      "168\n",
      "210\n",
      "252\n",
      "294\n",
      "336\n",
      "378\n",
      "420\n",
      "462\n"
     ]
    }
   ],
   "source": [
    "for i in range(1,501):\n",
    "    if i%6==0 and i%7==0:\n",
    "        print(i)\n",
    "        pass\n"
   ]
  },
  {
   "attachments": {},
   "cell_type": "markdown",
   "metadata": {},
   "source": [
    "2. Number 1111122221111222 has been given. Print the addition of all even digits\n",
    "and the addition of all odd digits.<br />\n",
    "[Sample input = 156893, Sample Output: sum_even = 14\n",
    "sum_odd = 18]"
   ]
  },
  {
   "cell_type": "code",
   "execution_count": 6,
   "metadata": {},
   "outputs": [
    {
     "name": "stdout",
     "output_type": "stream",
     "text": [
      "Input is 1111122221111222\n",
      "Even Sum is 14\n",
      "Odd Sum is 9\n"
     ]
    }
   ],
   "source": [
    "n=1111122221111222\n",
    "print(f\"Input is {n}\")\n",
    "even_sum=0\n",
    "odd_sum=0\n",
    "str_n=str(n)\n",
    "for i in str_n:\n",
    "    if int(i)%2==0:\n",
    "        even_sum+=int(i)\n",
    "    else:\n",
    "        odd_sum+=int(i)\n",
    "print(f\"Even Sum is {even_sum}\")\n",
    "print(f\"Odd Sum is {odd_sum}\")\n"
   ]
  },
  {
   "attachments": {},
   "cell_type": "markdown",
   "metadata": {},
   "source": [
    "3. Describe conditional expression. Write a program to print the maximum and\n",
    "minimum numbers from a list using conditional expression. Use the max () and\n",
    "min () functions to verify your output"
   ]
  },
  {
   "attachments": {},
   "cell_type": "markdown",
   "metadata": {},
   "source": [
    "## Ans.\n",
    "Conditional expressions in python are if, else if (elif) and else<br />\n",
    "If checks for a condition specified along with it.<br />\n",
    "It's syntax is **if conditional statement:**<br />\n",
    "It checks if that statement is True and if it is True it executes the code present under it.<br />\n",
    "If it is false it goes to an **elif** statement if that is present. elif statements also have a similar syntax **elif conditional statement:**<br />\n",
    "It keeps on checking all elif and if all of them turn out false, it executes the else statement.**else:** is executed if no other option is available to execute."
   ]
  },
  {
   "cell_type": "code",
   "execution_count": 68,
   "metadata": {},
   "outputs": [
    {
     "name": "stdout",
     "output_type": "stream",
     "text": [
      "[2, 3, 4, 5]\n",
      "Maximum using max function is 5 and Maximum using conditional statements is 5\n",
      "Minimum using max function is 2 and Minumum using conditional statements is 2\n"
     ]
    }
   ],
   "source": [
    "lst=[]\n",
    "n=int(input(\"Enter number of elements in the list\"))\n",
    "for i in range(n):\n",
    "    inp=int(input(f\"Enter input number {i}\"))\n",
    "    lst.append(inp)\n",
    "print(lst)\n",
    "max_lst=lst[0]\n",
    "min_lst=lst[0]\n",
    "\n",
    "max_list=max(lst)\n",
    "min_list=min(lst)\n",
    "\n",
    "for i in lst:\n",
    "    if i>max_lst:\n",
    "        max_lst=i\n",
    "print(f\"Maximum using max function is {max_list} and Maximum using conditional statements is {max_lst}\")\n",
    "\n",
    "for i in lst:\n",
    "    if i<min_lst:\n",
    "        min_lst=i\n",
    "print(f\"Minimum using max function is {min_list} and Minumum using conditional statements is {min_lst}\")"
   ]
  },
  {
   "attachments": {},
   "cell_type": "markdown",
   "metadata": {},
   "source": [
    "4. Triangle Number Pattern: Print the following pattern for the given N number of\n",
    "rows.<br />\n",
    "Sample Example:\n",
    "<br />\n",
    "Pattern for N = 4<br />\n",
    "1<br />\n",
    "22<br />\n",
    "333<br />\n",
    "4444<br />"
   ]
  },
  {
   "cell_type": "code",
   "execution_count": 6,
   "metadata": {},
   "outputs": [
    {
     "name": "stdout",
     "output_type": "stream",
     "text": [
      "1\n",
      "22\n",
      "333\n",
      "4444\n",
      "55555\n"
     ]
    }
   ],
   "source": [
    "N=int(input(\"Enter number of rows\"))\n",
    "for i in range(1,N+1):\n",
    "    for j in range(i):\n",
    "        print(i,end='')\n",
    "    print()"
   ]
  },
  {
   "attachments": {},
   "cell_type": "markdown",
   "metadata": {},
   "source": [
    "5. A palindrome sentence is a phrase or sentence that reads the same forwards as\n",
    "it does backwards, ignoring spaces, punctuation, and capitalization.<br />\n",
    "A) Take a number as input, determine if it is a palindrome, considering only\n",
    "alphanumeric characters. Eg: 1331<br />\n",
    "B) Now, take a string as an input and check whether if it is Palindrome or not.\n",
    "eg: 'A man, a plan, a canal, Panama'"
   ]
  },
  {
   "cell_type": "code",
   "execution_count": 2,
   "metadata": {},
   "outputs": [
    {
     "name": "stdout",
     "output_type": "stream",
     "text": [
      "Input is: 1331\n",
      "True\n"
     ]
    }
   ],
   "source": [
    "#A\n",
    "integer=int(input(\"Enter a number\"))\n",
    "int_str=str(integer)\n",
    "print(\"Input is:\",integer)\n",
    "N=len(int_str)\n",
    "if int_str==int_str[::-1]:\n",
    "    print(True)\n",
    "else:\n",
    "    print(False)"
   ]
  },
  {
   "cell_type": "code",
   "execution_count": 25,
   "metadata": {},
   "outputs": [
    {
     "name": "stdout",
     "output_type": "stream",
     "text": [
      "Input is: A man, a plan, a canal, Panama\n",
      "True\n"
     ]
    }
   ],
   "source": [
    "#B\n",
    "input_string=input(\"Enter a string\")\n",
    "print(\"Input is:\",input_string)\n",
    "new_str=''\n",
    "for i in input_string:\n",
    "    if i not in [' ',',','.','?','!','\\n','\\t']:\n",
    "        new_str+=i\n",
    "\n",
    "new_str=new_str.lower()\n",
    "if new_str==new_str[::-1]:\n",
    "    print(True)\n",
    "else:\n",
    "    print(False)"
   ]
  },
  {
   "attachments": {},
   "cell_type": "markdown",
   "metadata": {},
   "source": [
    "6. Describe chr () and ord () functions. Write a small program to show its\n",
    "functionality.Using these functions,write a program to print:<br />\n",
    "<br />\n",
    "Pattern for N=4<br />\n",
    "A<br />\n",
    "B B<br />\n",
    "C C C<br />\n",
    "D D D D<br />"
   ]
  },
  {
   "attachments": {},
   "cell_type": "markdown",
   "metadata": {},
   "source": [
    "## Ans:\n",
    "chr() function gives the corresponding value for any unicode value arguement given to it. Unicode is a universal representation given to all integers, alphabets, symbols and emojis in various languages to be included in the computer language. So for example the letter 'A' is represented by 65-1000001 in binary.<br />\n",
    "So chr(65) would return A.<br />\n",
    "ord() function gives the corresponding unicode value for any input arguement given. So ord('A') would give 65 as the output\n",
    "\n",
    "\n"
   ]
  },
  {
   "cell_type": "code",
   "execution_count": 3,
   "metadata": {},
   "outputs": [
    {
     "name": "stdout",
     "output_type": "stream",
     "text": [
      "A\n",
      "65\n"
     ]
    }
   ],
   "source": [
    "print(chr(65))\n",
    "print(ord('A'))"
   ]
  },
  {
   "cell_type": "code",
   "execution_count": 4,
   "metadata": {},
   "outputs": [
    {
     "name": "stdout",
     "output_type": "stream",
     "text": [
      "A \n",
      "B B \n",
      "C C C \n",
      "D D D D \n",
      "E E E E E \n"
     ]
    }
   ],
   "source": [
    "N=int(input(\"Enter number of rows\"))\n",
    "for i in range(1,N+1):\n",
    "    for j in range(i):\n",
    "        print(chr(64+i),end=' ')\n",
    "    print()"
   ]
  },
  {
   "attachments": {},
   "cell_type": "markdown",
   "metadata": {},
   "source": [
    "7. Write a program to perform the following tasks: (a) Create a list of airline\n",
    "tickets, each containing the name of the passenger, ticket number, departure\n",
    "date, and flight distance. (b) Insert a new ticket into the list while maintaining\n",
    "alphabetical order of passenger names. (c) Search for a specific passenger by\n",
    "name and remove their ticket information from the list. (d) Add a new ticket to\n",
    "the beginning of the list with inputted passenger information. (e) Detect and\n",
    "eliminate duplicate tickets, keeping only one instance of each. (f) Sort the entire\n",
    "list of tickets in alphabetical order by passenger name.\n"
   ]
  },
  {
   "cell_type": "code",
   "execution_count": 74,
   "metadata": {},
   "outputs": [
    {
     "name": "stdout",
     "output_type": "stream",
     "text": [
      "[['Adi', '1', '2/1/23', 3.0], ['Aki', '2', '3/1/23', 4.0], ['Bond', '3', '4/1/23', 5.0]]\n",
      "\n",
      "[['Adi', '1', '2/1/23', 3.0], ['Aki', '2', '3/1/23', 4.0], ['Bad', '4', '2/2/23', 10.0], ['Bond', '3', '4/1/23', 5.0]]\n",
      "\n",
      "Successfully removed\n",
      "[['Adi', '1', '2/1/23', 3.0], ['Bad', '4', '2/2/23', 10.0], ['Bond', '3', '4/1/23', 5.0]]\n",
      "\n",
      "[['Bad', '4', '2/2/23', 10.0], ['Adi', '1', '2/1/23', 3.0], ['Bad', '4', '2/2/23', 10.0], ['Bond', '3', '4/1/23', 5.0]]\n",
      "\n",
      "[['Bad', '4', '2/2/23', 10.0], ['Adi', '1', '2/1/23', 3.0], ['Bond', '3', '4/1/23', 5.0]]\n",
      "\n",
      "[['Adi', '1', '2/1/23', 3.0], ['Bad', '4', '2/2/23', 10.0], ['Bond', '3', '4/1/23', 5.0]]\n",
      "\n"
     ]
    }
   ],
   "source": [
    "#A-Created a list of airline tickets\n",
    "airline_tickets=[['Adi', '1', '2/1/23', 3.0], ['Aki', '2', '3/1/23', 4.0],['Bond','3','4/1/23',5.0]]\n",
    "print(airline_tickets)\n",
    "print()\n",
    "\n",
    "#B-Inserting in alphabetical order\n",
    "passenger=[]\n",
    "passenger+=[input(\"Name :\")]\n",
    "passenger+=[input(\"Ticket Number :\")]\n",
    "passenger+=[input(\"Date of flight :\")]\n",
    "passenger+=[float(input(\"Flight Distance :\"))]\n",
    "\n",
    "j=0\n",
    "for i in airline_tickets:\n",
    "    if passenger[0]<i[0]:\n",
    "        airline_tickets.insert(j,passenger)\n",
    "        break\n",
    "    j+=1\n",
    "else:\n",
    "    airline_tickets.append(passenger)\n",
    "    \n",
    "print(airline_tickets)\n",
    "print()\n",
    "\n",
    "#C-Search for a specific passenger and delete it\n",
    "name=input(\"Enter passenger name to be removed\")\n",
    "for i in airline_tickets:\n",
    "    if name.lower()==i[0].lower():\n",
    "        airline_tickets.remove(i)\n",
    "        print(\"Successfully removed\")\n",
    "        break\n",
    "else:\n",
    "    print(\"No one present in that name\")\n",
    "\n",
    "print(airline_tickets)\n",
    "print()\n",
    "\n",
    "#D-Add a new ticket to the beginning of the list with inputted passenger information.\n",
    "\n",
    "passenger=[]\n",
    "passenger+=[input(\"Name :\")]\n",
    "passenger+=[input(\"Ticket Number :\")]\n",
    "passenger+=[input(\"Date of flight :\")]\n",
    "passenger+=[float(input(\"Flight Distance :\"))]\n",
    "\n",
    "airline_tickets.insert(0,passenger)\n",
    "\n",
    "print(airline_tickets)\n",
    "print()\n",
    "\n",
    "#E- Detect and Remove Duplicates\n",
    "new_airline_tickets=[]\n",
    "N=len(airline_tickets)\n",
    "i=0\n",
    "while i < N:\n",
    "    if airline_tickets[i] not in new_airline_tickets:\n",
    "        new_airline_tickets+=[airline_tickets[i]]\n",
    "    else:\n",
    "        airline_tickets.pop(i)\n",
    "        i-=1\n",
    "        N-=1\n",
    "    i+=1\n",
    "print(airline_tickets)\n",
    "print()\n",
    "\n",
    "#Sorting the list based on names\n",
    "airline_tickets.sort()#Sorts the list but since it is nested it takes the first value in each list to compare and sort\n",
    "print(airline_tickets)\n",
    "print()"
   ]
  },
  {
   "attachments": {},
   "cell_type": "markdown",
   "metadata": {},
   "source": [
    "8. Write a program using list comprehension<br />\n",
    "a) To add the corresponding elements of two lists and print the new list<br />\n",
    "b) To perform element wise multiplication of two lists and print the new\n",
    "list.<br />\n",
    "c) To create a list of the unique characters of a given string. Eg: input = ‘even’ output = [‘e’, ‘v’, ‘n’]<br />"
   ]
  },
  {
   "cell_type": "code",
   "execution_count": 73,
   "metadata": {},
   "outputs": [
    {
     "name": "stdout",
     "output_type": "stream",
     "text": [
      "To add the corresponding elements of two lists and print the new list: [15, 26, 37, 48]\n",
      "\n",
      "To perform element wise multiplication of two lists and print the new list: [50, 120, 210, 320]\n",
      "\n",
      "To create a list of the unique characters of a given string('even'). ['e', 'v', 'n']\n"
     ]
    }
   ],
   "source": [
    "#a\n",
    "lst1=[5,6,7,8]\n",
    "lst2=[10,20,30,40]\n",
    "if len(lst1)==len(lst2):\n",
    "    lst3=[lst1[i]+lst2[i] for i in range(len(lst1))]\n",
    "print(\"To add the corresponding elements of two lists and print the new list:\",lst3)\n",
    "print()\n",
    "\n",
    "#b\n",
    "if len(lst1)==len(lst2):\n",
    "    lst4=[lst1[i]*lst2[i] for i in range(len(lst1))]\n",
    "print(\"To perform element wise multiplication of two lists and print the new list:\",lst4)\n",
    "print()\n",
    "\n",
    "#c\n",
    "input_string=input(\"input=\")\n",
    "lst5=[input_string[i].lower() for i in range(len(input_string)) if input_string[i].lower() not in input_string[:i]]\n",
    "\n",
    "print(f\"To create a list of the unique characters of a given string('{input_string}').\",lst5)"
   ]
  },
  {
   "attachments": {},
   "cell_type": "markdown",
   "metadata": {},
   "source": [
    "9. Using the concept of list of lists, WAP<br />\n",
    "a) To add the elements of 2 matrices (Define matrices as per your wish).<br />\n",
    "b) To perform element wise multiplication on 2 matrices."
   ]
  },
  {
   "cell_type": "code",
   "execution_count": 45,
   "metadata": {},
   "outputs": [
    {
     "name": "stdout",
     "output_type": "stream",
     "text": [
      "Matrix 1\n",
      "1 2 \n",
      "3 4 \n",
      "\n",
      "Matrix 2\n",
      "5 6 \n",
      "7 8 \n",
      "\n",
      "Sum\n",
      "6 8 \n",
      "10 12 \n",
      "\n",
      "Product\n",
      "5 12 \n",
      "21 32 \n"
     ]
    }
   ],
   "source": [
    "mat1=[]\n",
    "mat2=[]\n",
    "a,b=input(\"Enter matrix dimension m and n where mxn is the dimension: format 'm n'\").split()\n",
    "print(\"Matrix 1\")\n",
    "for i in range(int(a)):\n",
    "    row=[]\n",
    "    for j in range(int(b)):\n",
    "        row+=[int(input(f\"Element in row {j+1}\"))]\n",
    "    mat1+=[row]\n",
    "for i in range(int(a)):\n",
    "    for j in range(int(b)):\n",
    "        print(mat1[i][j],end=' ')\n",
    "    print()\n",
    "print()\n",
    "\n",
    "print(\"Matrix 2\")\n",
    "for i in range(int(a)):\n",
    "    row=[]\n",
    "    for j in range(int(b)):\n",
    "        row+=[int(input(f\"Element in row {j+1}\"))]\n",
    "    mat2+=[row]\n",
    "\n",
    "for i in range(int(a)):\n",
    "    for j in range(int(b)):\n",
    "        print(mat2[i][j],end=' ')\n",
    "    print()\n",
    "print()\n",
    "\n",
    "print(\"Sum\")\n",
    "\n",
    "sum=[]\n",
    "for i in range(int(a)):\n",
    "    row=[]\n",
    "    for j in range(int(b)):\n",
    "        row+=[mat1[i][j]+mat2[i][j]]\n",
    "    sum+=[row]\n",
    "for i in range(int(a)):\n",
    "    for j in range(int(b)):\n",
    "        print(sum[i][j],end=' ')\n",
    "    print()\n",
    "print()\n",
    "\n",
    "print(\"Product\")\n",
    "prod=[]\n",
    "for i in range(int(a)):\n",
    "    row=[]\n",
    "    for j in range(int(b)):\n",
    "        row+=[mat1[i][j]*mat2[i][j]]\n",
    "    prod+=[row]\n",
    "for i in range(int(a)):\n",
    "    for j in range(int(b)):\n",
    "        print(prod[i][j],end=' ')\n",
    "    print()\n"
   ]
  },
  {
   "attachments": {},
   "cell_type": "markdown",
   "metadata": {},
   "source": [
    "10. Explore print statement using formatted strings and write a program to demonstrate them."
   ]
  },
  {
   "attachments": {},
   "cell_type": "markdown",
   "metadata": {},
   "source": [
    "String formatting is the process of infusing the variables within the string itself while printing it out rather than coming out of the quotings and printing the variables separately and individually.<br />\n",
    "\n",
    "It can also be used to align stuff properly on the screen<br />\n",
    "\n",
    "%s- strings\n",
    "%d- integers\n",
    "%i- integers\n",
    "%f- float  "
   ]
  },
  {
   "cell_type": "code",
   "execution_count": 59,
   "metadata": {},
   "outputs": [
    {
     "name": "stdout",
     "output_type": "stream",
     "text": [
      "Hello World\n",
      "Hello 10\n",
      "Hello World! Chennai People\n",
      "Value of e is 2.7183\n",
      "Hello World\n",
      "Hello World,Chennai\n",
      "Hello World,Chennai\n"
     ]
    }
   ],
   "source": [
    "#Method 1\n",
    "a='World'\n",
    "print(\"Hello %s\"%a)\n",
    "print(\"Hello %d\"%10)\n",
    "\n",
    "#Method 2\n",
    "b=\"Chennai\"\n",
    "print(\"Hello %s! %s People\"%(a,b))\n",
    "\n",
    "#Method 3\n",
    "print(\"Value of e is %.4f\"%(2.71828))\n",
    "\n",
    "#Method 4\n",
    "print(f\"Hello {a}\")\n",
    "\n",
    "#Method 5\n",
    "print(\"Hello {0},{1}\".format(a,b))\n",
    "print(\"Hello {x},{y}\".format(x=a,y=b))\n"
   ]
  },
  {
   "attachments": {},
   "cell_type": "markdown",
   "metadata": {},
   "source": [
    "11. WAP to find the maximum of 3 numbers using a nested conditional\n",
    "expression. (No loops should be used)"
   ]
  },
  {
   "cell_type": "code",
   "execution_count": 64,
   "metadata": {},
   "outputs": [
    {
     "name": "stdout",
     "output_type": "stream",
     "text": [
      "Maximum number: 6\n"
     ]
    }
   ],
   "source": [
    "a=5\n",
    "b=6\n",
    "c=5.5\n",
    "print(\"Maximum number: \",end='')\n",
    "if a>b:\n",
    "    if a>c:\n",
    "        print(a)\n",
    "    else:\n",
    "        print(c)\n",
    "else:\n",
    "    if b>c:\n",
    "        print(b)\n",
    "    else:\n",
    "        print(c)"
   ]
  }
 ],
 "metadata": {
  "kernelspec": {
   "display_name": "Python 3",
   "language": "python",
   "name": "python3"
  },
  "language_info": {
   "codemirror_mode": {
    "name": "ipython",
    "version": 3
   },
   "file_extension": ".py",
   "mimetype": "text/x-python",
   "name": "python",
   "nbconvert_exporter": "python",
   "pygments_lexer": "ipython3",
   "version": "3.11.0"
  },
  "orig_nbformat": 4,
  "vscode": {
   "interpreter": {
    "hash": "db8f6fe2c73d52efb0db1d408b7a5b5a8f8e128d3b65693194c9f744dd911af9"
   }
  }
 },
 "nbformat": 4,
 "nbformat_minor": 2
}
