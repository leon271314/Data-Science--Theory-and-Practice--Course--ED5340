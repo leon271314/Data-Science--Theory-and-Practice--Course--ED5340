{
 "cells": [
  {
   "attachments": {},
   "cell_type": "markdown",
   "metadata": {},
   "source": [
    "## **CADNET**\n",
    " **Dataset is a set of annotated collection of 3317 3D Engineering models in 43 categories. A lot of computational power is required to run deep learning algorithsm on this. This has been mainly in image and graphical Modelling. It has been classified using Convolutional Neural Networks**"
   ]
  },
  {
   "attachments": {},
   "cell_type": "markdown",
   "metadata": {},
   "source": [
    "---"
   ]
  },
  {
   "attachments": {},
   "cell_type": "markdown",
   "metadata": {},
   "source": [
    "## **AlexNet**\n",
    "**AlexNet is a Convolutional Neural Network(CNN) that is 8 layers deep. It is a database of images. It has been trained on more than a million images and can directly be imported for use. This is used for image classification into various categories.**"
   ]
  },
  {
   "attachments": {},
   "cell_type": "markdown",
   "metadata": {},
   "source": [
    "---"
   ]
  },
  {
   "attachments": {},
   "cell_type": "markdown",
   "metadata": {},
   "source": [
    "## **CADSketchNet**\n",
    "**It is an annoted collection of sketches of 3D CAD models. It has around 60000 computer generated sketches of 3D CAD models. This is one of Ramanathan sir's databases.**"
   ]
  },
  {
   "attachments": {},
   "cell_type": "markdown",
   "metadata": {},
   "source": [
    "---"
   ]
  },
  {
   "attachments": {},
   "cell_type": "markdown",
   "metadata": {},
   "source": [
    "## **ModelNet**\n",
    "**This is another database of 3D CAD model for objects built for research purposese in CVI, Computer Graphics, Robotics and Cognitive Science. They used some of the most common categories to classify the objects and collected 3D models belonging to them. There's a 10 class and 40 class subset created**"
   ]
  },
  {
   "attachments": {},
   "cell_type": "markdown",
   "metadata": {},
   "source": [
    "---"
   ]
  },
  {
   "attachments": {},
   "cell_type": "markdown",
   "metadata": {},
   "source": [
    "## **ShapeNet**\n",
    "**Large dataset of 3D shapes for research purposes created as a collaborative effort between Princeton, Stanford and TTIC. It has 55 categories and around 51000 3D models. Pascal 3D+ is a popular CVI 3D dataset built on ShapeNet**"
   ]
  },
  {
   "attachments": {},
   "cell_type": "markdown",
   "metadata": {},
   "source": [
    "---"
   ]
  },
  {
   "attachments": {},
   "cell_type": "markdown",
   "metadata": {},
   "source": [
    "## **ImageNet**\n",
    "**It is a huge image database. Each node of the heirarchy is depicted by 100s of images and has been really useful in CVI and deep-learning. It is free to use for non commercial purposes**"
   ]
  },
  {
   "cell_type": "markdown",
   "metadata": {},
   "source": []
  }
 ],
 "metadata": {
  "language_info": {
   "name": "python"
  },
  "orig_nbformat": 4
 },
 "nbformat": 4,
 "nbformat_minor": 2
}
