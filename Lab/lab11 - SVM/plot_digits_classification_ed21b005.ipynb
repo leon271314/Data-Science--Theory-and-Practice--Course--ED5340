{
  "cells": [
    {
      "cell_type": "code",
      "execution_count": 32,
      "metadata": {
        "collapsed": false
      },
      "outputs": [],
      "source": [
        "%matplotlib inline"
      ]
    },
    {
      "cell_type": "markdown",
      "metadata": {},
      "source": [
        "\n",
        "# Recognizing hand-written digits\n",
        "\n",
        "This example shows how scikit-learn can be used to recognize images of\n",
        "hand-written digits, from 0-9.\n"
      ]
    },
    {
      "cell_type": "code",
      "execution_count": 33,
      "metadata": {
        "collapsed": false
      },
      "outputs": [],
      "source": [
        "# Author: Gael Varoquaux <gael dot varoquaux at normalesup dot org>\n",
        "# License: BSD 3 clause\n",
        "\n",
        "import matplotlib.pyplot as plt\n",
        "import numpy as np\n",
        "from sklearn.metrics import r2_score\n",
        "from sklearn.inspection import DecisionBoundaryDisplay\n",
        "from sklearn import datasets, svm, metrics\n",
        "from sklearn.model_selection import train_test_split"
      ]
    },
    {
      "cell_type": "markdown",
      "metadata": {},
      "source": [
        "## Digits dataset\n",
        "\n",
        "The digits dataset consists of 8x8\n",
        "pixel images of digits. The ``images`` attribute of the dataset stores\n",
        "8x8 arrays of grayscale values for each image. We will use these arrays to\n",
        "visualize the first 4 images. The ``target`` attribute of the dataset stores\n",
        "the digit each image represents and this is included in the title of the 4\n",
        "plots below.\n",
        "\n",
        "Note: if we were working from image files (e.g., 'png' files), we would load\n",
        "them using :func:`matplotlib.pyplot.imread`.\n",
        "\n"
      ]
    },
    {
      "cell_type": "code",
      "execution_count": 34,
      "metadata": {
        "collapsed": false
      },
      "outputs": [
        {
          "data": {
            "image/png": "[encoded data removed]",
            "text/plain": [
              "<Figure size 2000x300 with 10 Axes>"
            ]
          },
          "metadata": {},
          "output_type": "display_data"
        }
      ],
      "source": [
        "digits = datasets.load_digits()\n",
        "\n",
        "_, axes = plt.subplots(nrows=1, ncols=10, figsize=(20, 3))\n",
        "for ax, image, label in zip(axes, digits.images, digits.target):\n",
        "    ax.set_axis_off()\n",
        "    ax.imshow(image, cmap=plt.cm.gray_r, interpolation=\"nearest\")\n",
        "    ax.set_title(\"Training: %i\" % label)"
      ]
    },
    {
      "cell_type": "markdown",
      "metadata": {},
      "source": [
        "## Classification\n",
        "\n",
        "To apply a classifier on this data, we need to flatten the images, turning\n",
        "each 2-D array of grayscale values from shape ``(8, 8)`` into shape\n",
        "``(64,)``. Subsequently, the entire dataset will be of shape\n",
        "``(n_samples, n_features)``, where ``n_samples`` is the number of images and\n",
        "``n_features`` is the total number of pixels in each image.\n",
        "\n",
        "We can then split the data into train and test subsets and fit a support\n",
        "vector classifier on the train samples. The fitted classifier can\n",
        "subsequently be used to predict the value of the digit for the samples\n",
        "in the test subset.\n",
        "\n"
      ]
    },
    {
      "cell_type": "code",
      "execution_count": 35,
      "metadata": {
        "collapsed": false
      },
      "outputs": [],
      "source": [
        "# flatten the images\n",
        "n_samples = len(digits.images)\n",
        "data = digits.images.reshape((n_samples, -1))\n",
        "\n",
        "# Create a classifier: a support vector classifier\n",
        "clf = svm.SVC(gamma=0.001)\n",
        "\n",
        "# Split data into 50% train and 50% test subsets\n",
        "X_train, X_test, y_train, y_test = train_test_split(\n",
        "    data, digits.target, test_size=0.115, shuffle=False\n",
        ")\n",
        "\n",
        "# Learn the digits on the train subset\n",
        "clf.fit(X_train, y_train)\n",
        "\n",
        "# Predict the value of the digit on the test subset\n",
        "predicted = clf.predict(X_test)\n"
      ]
    },
    {
      "cell_type": "markdown",
      "metadata": {},
      "source": [
        "Below we visualize the first 4 test samples and show their predicted\n",
        "digit value in the title.\n",
        "\n"
      ]
    },
    {
      "cell_type": "code",
      "execution_count": 36,
      "metadata": {
        "collapsed": false
      },
      "outputs": [
        {
          "data": {
            "image/png": "[encoded data removed]",
            "text/plain": [
              "<Figure size 1500x300 with 4 Axes>"
            ]
          },
          "metadata": {},
          "output_type": "display_data"
        }
      ],
      "source": [
        "_, axes = plt.subplots(nrows=1, ncols=4, figsize=(15, 3))\n",
        "for ax, image, prediction in zip(axes, X_test, predicted):\n",
        "    ax.set_axis_off()\n",
        "    image = image.reshape(8, 8)\n",
        "    ax.imshow(image, cmap=plt.cm.gray_r, interpolation=\"nearest\")\n",
        "    ax.set_title(f\"Prediction: {prediction}\")"
      ]
    },
    {
      "cell_type": "code",
      "execution_count": 37,
      "metadata": {
        "collapsed": false
      },
      "outputs": [
        {
          "name": "stdout",
          "output_type": "stream",
          "text": [
            "Confusion Matrix\n",
            "[[20  0  0  0  0  0  0  0  0  0]\n",
            " [ 0 22  0  0  0  0  0  0  0  0]\n",
            " [ 0  0 21  0  0  0  0  0  0  0]\n",
            " [ 0  0  0 17  0  0  0  0  0  1]\n",
            " [ 0  0  0  0 19  0  0  0  0  0]\n",
            " [ 0  0  0  2  0 19  0  0  0  1]\n",
            " [ 0  0  0  0  0  0 22  0  0  0]\n",
            " [ 0  0  0  0  0  0  0 21  0  0]\n",
            " [ 0  0  0  3  2  0  0  0 18  0]\n",
            " [ 0  0  0  0  1  0  0  0  0 18]]\n"
          ]
        }
      ],
      "source": [
        "conf = {}\n",
        "for j,k in zip(predicted,y_test):\n",
        "    if f\"{j}-{k}\" in conf.keys():\n",
        "        conf[f\"{j}-{k}\"] += 1\n",
        "    else:\n",
        "        conf[f\"{j}-{k}\"] = 1\n",
        "#print(confusion_data)\n",
        "mat_1 = []\n",
        "for j in range(10):\n",
        "    mat_2 = []\n",
        "    for k in range(10):\n",
        "        if f'{j}-{k}' in conf:\n",
        "            mat_2 += [conf[f'{j}-{k}']]\n",
        "        else:\n",
        "            mat_2 += [0]\n",
        "    mat_1 += [mat_2]\n",
        "conf_mat = np.array(mat_1)\n",
        "print(f\"Confusion Matrix\")\n",
        "print(conf_mat)"
      ]
    },
    {
      "cell_type": "markdown",
      "metadata": {},
      "source": [
        "If the results from evaluating a classifier are stored in the form of a\n",
        "`confusion matrix <confusion_matrix>` and not in terms of `y_true` and\n",
        "`y_pred`, one can still build a :func:`~sklearn.metrics.classification_report`\n",
        "as follows:\n",
        "\n"
      ]
    },
    {
      "cell_type": "code",
      "execution_count": 38,
      "metadata": {
        "collapsed": false
      },
      "outputs": [
        {
          "name": "stdout",
          "output_type": "stream",
          "text": [
            "Positive : 0\n",
            "Precision is 1.0\n",
            "Recall is 1.0\n",
            "F1 Score is 1.0\n",
            "\n",
            "Positive : 1\n",
            "Precision is 1.0\n",
            "Recall is 1.0\n",
            "F1 Score is 1.0\n",
            "\n",
            "Positive : 2\n",
            "Precision is 1.0\n",
            "Recall is 1.0\n",
            "F1 Score is 1.0\n",
            "\n",
            "Positive : 3\n",
            "Precision is 0.9444444444444444\n",
            "Recall is 0.7727272727272727\n",
            "F1 Score is 0.85\n",
            "\n",
            "Positive : 4\n",
            "Precision is 1.0\n",
            "Recall is 0.8636363636363636\n",
            "F1 Score is 0.9268292682926829\n",
            "\n",
            "Positive : 5\n",
            "Precision is 0.8636363636363636\n",
            "Recall is 1.0\n",
            "F1 Score is 0.9268292682926829\n",
            "\n",
            "Positive : 6\n",
            "Precision is 1.0\n",
            "Recall is 1.0\n",
            "F1 Score is 1.0\n",
            "\n",
            "Positive : 7\n",
            "Precision is 1.0\n",
            "Recall is 1.0\n",
            "F1 Score is 1.0\n",
            "\n",
            "Positive : 8\n",
            "Precision is 0.782608695652174\n",
            "Recall is 1.0\n",
            "F1 Score is 0.878048780487805\n",
            "\n",
            "Positive : 9\n",
            "Precision is 0.9473684210526315\n",
            "Recall is 0.9\n",
            "F1 Score is 0.9230769230769231\n",
            "\n",
            "Accuracy is 0.9516908212560387\n",
            "\n"
          ]
        }
      ],
      "source": [
        "def plotting(positive,matrix):\n",
        "\n",
        "    TP = 0\n",
        "    TN = 0\n",
        "    FP = 0\n",
        "    FN = 0\n",
        "    shape = np.shape(np.array(matrix))\n",
        "    for i in range(shape[0]):\n",
        "        for j in range(shape[1]):\n",
        "            if i == positive and j == positive:\n",
        "                TP = matrix[i][j]\n",
        "            if i == positive and j != i:\n",
        "                FP += matrix[i][j]\n",
        "    Precision = TP/(TP+FP)\n",
        "\n",
        "    for i in range(shape[0]):\n",
        "        for j in range(shape[1]):\n",
        "            if j == positive and j != i:\n",
        "                FN += matrix[i][j]\n",
        "    Recall = TP/(TP+FN)\n",
        "    \n",
        "    Accuracy = sum([matrix[i][i] for i in range(shape[0])])\n",
        "    Accuracy = Accuracy/np.sum(matrix.flatten())\n",
        "\n",
        "    print(f\"Positive : {positive}\")\n",
        "    print(f\"Precision is {Precision}\")\n",
        "    print(f\"Recall is {Recall}\")\n",
        "    print(f\"F1 Score is {2*(Precision*Recall)/(Precision+Recall)}\\n\")\n",
        "    return Accuracy\n",
        "    \n",
        "    \n",
        "for k in range(10):        \n",
        "    Accuracy = plotting(k,conf_mat)\n",
        "print(f\"Accuracy is {Accuracy}\\n\")\n"
      ]
    },
    {
      "cell_type": "code",
      "execution_count": 39,
      "metadata": {},
      "outputs": [
        {
          "data": {
            "image/png": "[encoded data removed]",
            "text/plain": [
              "<Figure size 1000x1000 with 1 Axes>"
            ]
          },
          "metadata": {},
          "output_type": "display_data"
        }
      ],
      "source": [
        "def confusion_plot(matrix):\n",
        "    \n",
        "    shape = np.shape(np.array(matrix))\n",
        "    fig, ax = plt.subplots(1,figsize = (shape[0],shape[1]))\n",
        "    ax.invert_yaxis()\n",
        "    ax.set_xticks([i for i in range(shape[0])])\n",
        "    ax.set_yticks([i for i in range(shape[0])])\n",
        "    ax.set_xlabel(\"Actual\")\n",
        "    ax.set_ylabel(\"Predicted\")\n",
        "    ax.set_title(\"Confusion Matrix\")\n",
        "    for i in range(shape[0]):\n",
        "        for j in range(shape[1]):\n",
        "            \n",
        "            if i==j:\n",
        "                colour_g = str(hex(255-(9*i+5*j)%255))[2:]\n",
        "                colour_r = '00'\n",
        "            if i!=j:\n",
        "                colour_r = str(hex(255-(9*i+5*j)%255))[2:]\n",
        "                colour_g = '00'\n",
        "            if len(colour_g)==1:\n",
        "                colour_g = '0'+colour_g\n",
        "            if len(colour_r)==1:\n",
        "                colour_r = '0'+colour_r\n",
        "            colour = '#'+colour_r+colour_g+'00'\n",
        "\n",
        "            ax.fill([-0.5+j,0.5+j,0.5+j,-0.5+j,-0.5+j],[-0.5+i,-0.5+i,0.5+i,0.5+i,-0.5+i],color = colour)\n",
        "            ax.text(i-0.15,j+0.05,matrix[i][j],fontsize=10)\n",
        "    plt.show()\n",
        "confusion_plot(conf_mat.T)"
      ]
    },
    {
      "cell_type": "code",
      "execution_count": null,
      "metadata": {},
      "outputs": [],
      "source": []
    }
  ],
  "metadata": {
    "kernelspec": {
      "display_name": "Python 3",
      "language": "python",
      "name": "python3"
    },
    "language_info": {
      "codemirror_mode": {
        "name": "ipython",
        "version": 3
      },
      "file_extension": ".py",
      "mimetype": "text/x-python",
      "name": "python",
      "nbconvert_exporter": "python",
      "pygments_lexer": "ipython3",
      "version": "3.11.1"
    }
  },
  "nbformat": 4,
  "nbformat_minor": 0
}
