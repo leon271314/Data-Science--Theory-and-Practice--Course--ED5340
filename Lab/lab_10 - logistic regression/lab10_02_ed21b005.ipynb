{
 "cells": [
  {
   "cell_type": "code",
   "execution_count": 3,
   "metadata": {},
   "outputs": [],
   "source": [
    "import matplotlib.pyplot as plt\n",
    "import numpy as np\n",
    "import pandas as pd\n",
    "from sklearn.metrics import r2_score\n"
   ]
  },
  {
   "cell_type": "code",
   "execution_count": 4,
   "metadata": {},
   "outputs": [],
   "source": [
    "class MachineLearning:\n",
    "    def __init__(self, weight, X_train, y_train, X_test=np.array([]), y_test=np.array([])):\n",
    "        self.X_train = X_train\n",
    "        self.y_train = y_train\n",
    "        self.X_test = X_test\n",
    "        self.y_test = y_test\n",
    "        self.weight = np.array(weight)\n",
    "    \n",
    "    def J_Polynomial(self,X,Y,W):\n",
    "        data = (np.matmul(W,X)-Y)**2\n",
    "        print(data)\n",
    "        return 1/(2*np.shape(X)[1])*np.sum(data)\n",
    "    \n",
    "    def dJ_Polynomial(self,X,Y,W):\n",
    "        grad=[]\n",
    "        for i in range(np.shape(X)[0]):\n",
    "            data = np.multiply(np.matmul(W,X)-Y,X[i])\n",
    "            grad += [sum(data)]\n",
    "        #print(grad)\n",
    "        grad = np.array(grad)\n",
    "        return 1/np.shape(X)[1]*grad\n",
    "    \n",
    "\n",
    "    def J_Polynomial_Regu(self,X,Y,W,lambd):\n",
    "        data = (np.matmul(W,X)-Y)**2 + lambd * sum(W[1:]**2)*np.ones(np.shape(Y))\n",
    "        print(data)\n",
    "        return 1/(2*np.shape(X)[1])*np.sum(data)\n",
    "    \n",
    "    def dJ_Polynomial_Regu(self,X,Y,W,lambd):\n",
    "        grad=[]\n",
    "        for i in range(np.shape(X)[0]):\n",
    "            if i!=0:\n",
    "                data = np.multiply(np.matmul(W,X)-Y,X[i]) + lambd * W[i] * np.ones(np.shape(Y))\n",
    "            else:\n",
    "                data = np.multiply(np.matmul(W,X)-Y,X[i])\n",
    "            grad += [sum(data)]\n",
    "        #print(grad)\n",
    "        grad = np.array(grad)\n",
    "        return 1/np.shape(X)[1]*grad\n",
    "\n",
    "    def PolynomialRegression(self):\n",
    "        tolerance = 0.1\n",
    "        i=0\n",
    "        while tolerance < np.linalg.norm(np.array(self.dJ_Polynomial(self.X_train,self.y_train,self.weight))):\n",
    "            self.weight = self.weight - 0.00001*np.array(self.dJ_Polynomial(self.X_train,self.y_train,self.weight))\n",
    "        return self.weight\n",
    "\n",
    "    def PolynomialRegressionRegu(self):\n",
    "        tolerance = 0.1\n",
    "        i=0\n",
    "        while tolerance < np.linalg.norm(np.array(self.dJ_Polynomial_Regu(self.X_train,self.y_train,self.weight,0.0001))):\n",
    "            self.weight = self.weight - 0.00001*np.array(self.dJ_Polynomial_Regu(self.X_train,self.y_train,self.weight,0.0001))\n",
    "            print(self.weight)\n",
    "        return self.weight\n"
   ]
  },
  {
   "cell_type": "code",
   "execution_count": 5,
   "metadata": {},
   "outputs": [],
   "source": [
    "df = pd.read_csv(\"Train_dataset.csv\")\n",
    "df_array = df.to_numpy().T\n",
    "\n",
    "X = df_array[0]\n",
    "x = X\n",
    "#plt.plot(X,Y)\n",
    "A =[]\n",
    "A = [X**i for i in range(4)]\n",
    "\n",
    "X = np.array(A)\n",
    "Y = df_array[1]\n"
   ]
  },
  {
   "cell_type": "code",
   "execution_count": 6,
   "metadata": {},
   "outputs": [
    {
     "name": "stdout",
     "output_type": "stream",
     "text": [
      "[ 3.77496015 -3.          2.00371428  2.        ]\n"
     ]
    }
   ],
   "source": [
    "ml = MachineLearning([1,1,1,1],X,Y)\n",
    "weights = ml.PolynomialRegression()\n",
    "\n",
    "print(weights)"
   ]
  },
  {
   "cell_type": "code",
   "execution_count": null,
   "metadata": {},
   "outputs": [],
   "source": [
    "plt.figure(figsize=(10,10))\n",
    "plt.plot(x,weights[0]+weights[1]*X[1]+weights[2]*X[2]+weights[3]*X[3],c='red')\n",
    "plt.plot(x,Y,'.')\n",
    "plt.show()"
   ]
  },
  {
   "cell_type": "code",
   "execution_count": 8,
   "metadata": {},
   "outputs": [
    {
     "name": "stdout",
     "output_type": "stream",
     "text": [
      "R2 Score : 0.9999959455964558\n"
     ]
    }
   ],
   "source": [
    "df = pd.read_csv(\"Test_dataset.csv\")\n",
    "df_array = df.to_numpy().T\n",
    "\n",
    "Y_test = df_array[1]\n",
    "X_test = df_array[0]\n",
    "Y_trained = weights[0]+weights[1]*X_test+weights[2]*X_test**2+weights[3]*X_test**3\n",
    "\n",
    "print(f\"R2 Score : {r2_score(Y_test, Y_trained)}\")"
   ]
  },
  {
   "cell_type": "code",
   "execution_count": null,
   "metadata": {},
   "outputs": [],
   "source": [
    "ml_regu = MachineLearning([1,1,1,1],X,Y)\n",
    "weights_regu = ml_regu.PolynomialRegressionRegu()"
   ]
  },
  {
   "cell_type": "code",
   "execution_count": null,
   "metadata": {},
   "outputs": [],
   "source": [
    "print(weights_regu)\n",
    "plt.figure(figsize=(10,10))\n",
    "plt.plot(x,weights_regu[0]+weights_regu[1]*X[1]+weights_regu[2]*X[2]+weights_regu[3]*X[3],c='red')\n",
    "plt.plot(x,Y,'.')\n",
    "plt.show()"
   ]
  },
  {
   "cell_type": "code",
   "execution_count": 19,
   "metadata": {},
   "outputs": [
    {
     "name": "stdout",
     "output_type": "stream",
     "text": [
      "(40,)\n",
      "(40,)\n",
      "(4,)\n",
      "R2 Score : 0.9999959455318432\n"
     ]
    }
   ],
   "source": [
    "df = pd.read_csv(\"Test_dataset.csv\")\n",
    "df_array = df.to_numpy().T\n",
    "\n",
    "Y_test = df_array[1]\n",
    "X_test = df_array[0]\n",
    "Y_trained = weights_regu[0]+weights_regu[1]*X_test+weights_regu[2]*X_test**2+weights_regu[3]*X_test**3\n",
    "\n",
    "print(f\"R2 Score : {r2_score(Y_test, Y_trained)}\")"
   ]
  },
  {
   "cell_type": "code",
   "execution_count": 20,
   "metadata": {},
   "outputs": [
    {
     "name": "stdout",
     "output_type": "stream",
     "text": [
      "[ 4.18503591  1.08074836  0.4711757   3.44836694  1.29351873  0.7005763\n",
      "  4.71919542  2.61891443  5.65248633  0.07518053  0.27725814  1.0974021\n",
      "  0.09478439  4.46025568  9.0666294   4.45605608  1.83288924  2.35204234\n",
      "  0.90539613  3.0724127   0.05409592  0.02324549  0.30459215  2.65286961\n",
      "  6.92341461  0.50768076  0.04343402  1.39850033  0.12839565  0.76817377\n",
      "  0.45730693  1.05313312  4.60747889  1.7839524   3.70260844  4.32831803\n",
      "  2.30077328  0.64557503 20.33890184  0.17619074]\n",
      "regularization MSE: 1.3007370731878143\n",
      "[ 4.18250214  1.07879646  0.46940683  3.44670718  1.29167781  0.69904507\n",
      "  4.71807269  2.61670751  5.65160009  0.07338177  0.27536655  1.09607086\n",
      "  0.0929809   4.45920083  9.06411532  4.45387577  1.83094634  2.35053375\n",
      "  0.90362791  3.07068841  0.05238426  0.02152917  0.30297651  2.65083096\n",
      "  6.92238045  0.50577003  0.04179953  1.39638215  0.12656329  0.76679818\n",
      "  0.45535968  1.05178313  4.60643522  1.78259036  3.70055175  4.32681739\n",
      "  2.29905454  0.6437609  20.33588448  0.17429435]\n",
      "without regularization MSE: 1.2998656315674717\n"
     ]
    }
   ],
   "source": [
    "\n",
    "#plt.plot(X,Y)\n",
    "A =[]\n",
    "A = [X_test**i for i in range(4)]\n",
    "\n",
    "X_test = np.array(A)\n",
    "\n",
    "print(\"regularization MSE:\",ml_regu.J_Polynomial_Regu(X_test,Y_test,weights_regu.T,0.0001))\n",
    "print(\"without regularization MSE:\",ml.J_Polynomial(X_test,Y_test,weights.T))"
   ]
  },
  {
   "cell_type": "code",
   "execution_count": null,
   "metadata": {},
   "outputs": [],
   "source": []
  }
 ],
 "metadata": {
  "kernelspec": {
   "display_name": "Python 3",
   "language": "python",
   "name": "python3"
  },
  "language_info": {
   "codemirror_mode": {
    "name": "ipython",
    "version": 3
   },
   "file_extension": ".py",
   "mimetype": "text/x-python",
   "name": "python",
   "nbconvert_exporter": "python",
   "pygments_lexer": "ipython3",
   "version": "3.11.1"
  },
  "orig_nbformat": 4
 },
 "nbformat": 4,
 "nbformat_minor": 2
}
